{
 "cells": [
  {
   "cell_type": "code",
   "execution_count": 1,
   "metadata": {},
   "outputs": [
    {
     "name": "stdout",
     "output_type": "stream",
     "text": [
      "[nltk_data] Downloading package wordnet to\n",
      "[nltk_data]     C:\\Users\\Kevin\\AppData\\Roaming\\nltk_data...\n",
      "[nltk_data]   Package wordnet is already up-to-date!\n"
     ]
    }
   ],
   "source": [
    "import pandas as pd\n",
    "import numpy as np\n",
    "import pickle\n",
    "import weighted_sentiment_functions_final as wsff\n",
    "import stock_price_calculation_trials as spct\n",
    "from datetime import datetime\n",
    "from tqdm import tqdm"
   ]
  },
  {
   "cell_type": "code",
   "execution_count": 2,
   "metadata": {},
   "outputs": [],
   "source": [
    "# To do: organise the print statements, write code to save output lists into pickle files."
   ]
  },
  {
   "cell_type": "code",
   "execution_count": 3,
   "metadata": {},
   "outputs": [
    {
     "data": {
      "text/html": [
       "<div>\n",
       "<style scoped>\n",
       "    .dataframe tbody tr th:only-of-type {\n",
       "        vertical-align: middle;\n",
       "    }\n",
       "\n",
       "    .dataframe tbody tr th {\n",
       "        vertical-align: top;\n",
       "    }\n",
       "\n",
       "    .dataframe thead th {\n",
       "        text-align: right;\n",
       "    }\n",
       "</style>\n",
       "<table border=\"1\" class=\"dataframe\">\n",
       "  <thead>\n",
       "    <tr style=\"text-align: right;\">\n",
       "      <th></th>\n",
       "      <th>DELETE</th>\n",
       "      <th>CIK</th>\n",
       "      <th>TICKER</th>\n",
       "      <th>DATE</th>\n",
       "      <th>TEXT</th>\n",
       "    </tr>\n",
       "  </thead>\n",
       "  <tbody>\n",
       "    <tr>\n",
       "      <td>0</td>\n",
       "      <td>NaN</td>\n",
       "      <td>0000002488</td>\n",
       "      <td>AMD</td>\n",
       "      <td>2019-02-08</td>\n",
       "      <td>Our 2018 financial results demonstrate the suc...</td>\n",
       "    </tr>\n",
       "    <tr>\n",
       "      <td>1</td>\n",
       "      <td>NaN</td>\n",
       "      <td>0000002488</td>\n",
       "      <td>AMD</td>\n",
       "      <td>2018-02-27</td>\n",
       "      <td>2017 was an important year for AMD as we launc...</td>\n",
       "    </tr>\n",
       "    <tr>\n",
       "      <td>2</td>\n",
       "      <td>NaN</td>\n",
       "      <td>0000002488</td>\n",
       "      <td>AMD</td>\n",
       "      <td>2017-02-21</td>\n",
       "      <td>As we continued to focus on our strategy to im...</td>\n",
       "    </tr>\n",
       "    <tr>\n",
       "      <td>3</td>\n",
       "      <td>NaN</td>\n",
       "      <td>0000002488</td>\n",
       "      <td>AMD</td>\n",
       "      <td>2016-02-18</td>\n",
       "      <td>We faced a challenging business environment in...</td>\n",
       "    </tr>\n",
       "    <tr>\n",
       "      <td>4</td>\n",
       "      <td>NaN</td>\n",
       "      <td>0000002488</td>\n",
       "      <td>AMD</td>\n",
       "      <td>2015-02-19</td>\n",
       "      <td>Net revenue for 2014 was $5.5 billion, an incr...</td>\n",
       "    </tr>\n",
       "    <tr>\n",
       "      <td>...</td>\n",
       "      <td>...</td>\n",
       "      <td>...</td>\n",
       "      <td>...</td>\n",
       "      <td>...</td>\n",
       "      <td>...</td>\n",
       "    </tr>\n",
       "    <tr>\n",
       "      <td>233</td>\n",
       "      <td>NaN</td>\n",
       "      <td>0000766704</td>\n",
       "      <td>WELL</td>\n",
       "      <td>2009-03-02</td>\n",
       "      <td>Health Care REIT, Inc., an S&amp;P 500 company, is...</td>\n",
       "    </tr>\n",
       "    <tr>\n",
       "      <td>234</td>\n",
       "      <td>NaN</td>\n",
       "      <td>0000766704</td>\n",
       "      <td>WELL</td>\n",
       "      <td>2008-02-28</td>\n",
       "      <td>Health Care REIT, Inc. is an equity real esta...</td>\n",
       "    </tr>\n",
       "    <tr>\n",
       "      <td>235</td>\n",
       "      <td>NaN</td>\n",
       "      <td>0000766704</td>\n",
       "      <td>WELL</td>\n",
       "      <td>2007-03-01</td>\n",
       "      <td>Health Care REIT, Inc. is a self-administered,...</td>\n",
       "    </tr>\n",
       "    <tr>\n",
       "      <td>236</td>\n",
       "      <td>NaN</td>\n",
       "      <td>0000766704</td>\n",
       "      <td>WELL</td>\n",
       "      <td>2006-03-10</td>\n",
       "      <td>Health Care REIT, Inc. is a self-administered,...</td>\n",
       "    </tr>\n",
       "    <tr>\n",
       "      <td>237</td>\n",
       "      <td>NaN</td>\n",
       "      <td>0000766704</td>\n",
       "      <td>WELL</td>\n",
       "      <td>2005-03-16</td>\n",
       "      <td>Health Care REIT, Inc. is a self-administered,...</td>\n",
       "    </tr>\n",
       "  </tbody>\n",
       "</table>\n",
       "<p>238 rows × 5 columns</p>\n",
       "</div>"
      ],
      "text/plain": [
       "     DELETE          CIK TICKER       DATE  \\\n",
       "0       NaN   0000002488    AMD 2019-02-08   \n",
       "1       NaN   0000002488    AMD 2018-02-27   \n",
       "2       NaN   0000002488    AMD 2017-02-21   \n",
       "3       NaN   0000002488    AMD 2016-02-18   \n",
       "4       NaN   0000002488    AMD 2015-02-19   \n",
       "..      ...          ...    ...        ...   \n",
       "233     NaN   0000766704   WELL 2009-03-02   \n",
       "234     NaN   0000766704   WELL 2008-02-28   \n",
       "235     NaN   0000766704   WELL 2007-03-01   \n",
       "236     NaN   0000766704   WELL 2006-03-10   \n",
       "237     NaN   0000766704   WELL 2005-03-16   \n",
       "\n",
       "                                                  TEXT  \n",
       "0    Our 2018 financial results demonstrate the suc...  \n",
       "1    2017 was an important year for AMD as we launc...  \n",
       "2    As we continued to focus on our strategy to im...  \n",
       "3    We faced a challenging business environment in...  \n",
       "4    Net revenue for 2014 was $5.5 billion, an incr...  \n",
       "..                                                 ...  \n",
       "233  Health Care REIT, Inc., an S&P 500 company, is...  \n",
       "234   Health Care REIT, Inc. is an equity real esta...  \n",
       "235  Health Care REIT, Inc. is a self-administered,...  \n",
       "236  Health Care REIT, Inc. is a self-administered,...  \n",
       "237  Health Care REIT, Inc. is a self-administered,...  \n",
       "\n",
       "[238 rows x 5 columns]"
      ]
     },
     "execution_count": 3,
     "metadata": {},
     "output_type": "execute_result"
    }
   ],
   "source": [
    "all_data = pd.read_csv('final_all_mdna_data.csv', sep='.@', header=None, names=['DELETE', 'CIK', 'TICKER', 'DATE', 'TEXT'], dtype={'CIK': object}, engine='python', parse_dates=[3], infer_datetime_format=True, encoding='utf-8')\n",
    "all_data"
   ]
  },
  {
   "cell_type": "code",
   "execution_count": 4,
   "metadata": {},
   "outputs": [
    {
     "data": {
      "text/html": [
       "<div>\n",
       "<style scoped>\n",
       "    .dataframe tbody tr th:only-of-type {\n",
       "        vertical-align: middle;\n",
       "    }\n",
       "\n",
       "    .dataframe tbody tr th {\n",
       "        vertical-align: top;\n",
       "    }\n",
       "\n",
       "    .dataframe thead th {\n",
       "        text-align: right;\n",
       "    }\n",
       "</style>\n",
       "<table border=\"1\" class=\"dataframe\">\n",
       "  <thead>\n",
       "    <tr style=\"text-align: right;\">\n",
       "      <th></th>\n",
       "      <th>CIK</th>\n",
       "      <th>TICKER</th>\n",
       "      <th>DATE</th>\n",
       "      <th>TEXT</th>\n",
       "    </tr>\n",
       "  </thead>\n",
       "  <tbody>\n",
       "    <tr>\n",
       "      <td>0</td>\n",
       "      <td>0000002488</td>\n",
       "      <td>AMD</td>\n",
       "      <td>2019-02-08</td>\n",
       "      <td>Our 2018 financial results demonstrate the suc...</td>\n",
       "    </tr>\n",
       "    <tr>\n",
       "      <td>1</td>\n",
       "      <td>0000002488</td>\n",
       "      <td>AMD</td>\n",
       "      <td>2018-02-27</td>\n",
       "      <td>2017 was an important year for AMD as we launc...</td>\n",
       "    </tr>\n",
       "    <tr>\n",
       "      <td>2</td>\n",
       "      <td>0000002488</td>\n",
       "      <td>AMD</td>\n",
       "      <td>2017-02-21</td>\n",
       "      <td>As we continued to focus on our strategy to im...</td>\n",
       "    </tr>\n",
       "    <tr>\n",
       "      <td>3</td>\n",
       "      <td>0000002488</td>\n",
       "      <td>AMD</td>\n",
       "      <td>2016-02-18</td>\n",
       "      <td>We faced a challenging business environment in...</td>\n",
       "    </tr>\n",
       "    <tr>\n",
       "      <td>4</td>\n",
       "      <td>0000002488</td>\n",
       "      <td>AMD</td>\n",
       "      <td>2015-02-19</td>\n",
       "      <td>Net revenue for 2014 was $5.5 billion, an incr...</td>\n",
       "    </tr>\n",
       "    <tr>\n",
       "      <td>...</td>\n",
       "      <td>...</td>\n",
       "      <td>...</td>\n",
       "      <td>...</td>\n",
       "      <td>...</td>\n",
       "    </tr>\n",
       "    <tr>\n",
       "      <td>233</td>\n",
       "      <td>0000766704</td>\n",
       "      <td>WELL</td>\n",
       "      <td>2009-03-02</td>\n",
       "      <td>Health Care REIT, Inc., an S&amp;P 500 company, is...</td>\n",
       "    </tr>\n",
       "    <tr>\n",
       "      <td>234</td>\n",
       "      <td>0000766704</td>\n",
       "      <td>WELL</td>\n",
       "      <td>2008-02-28</td>\n",
       "      <td>Health Care REIT, Inc. is an equity real esta...</td>\n",
       "    </tr>\n",
       "    <tr>\n",
       "      <td>235</td>\n",
       "      <td>0000766704</td>\n",
       "      <td>WELL</td>\n",
       "      <td>2007-03-01</td>\n",
       "      <td>Health Care REIT, Inc. is a self-administered,...</td>\n",
       "    </tr>\n",
       "    <tr>\n",
       "      <td>236</td>\n",
       "      <td>0000766704</td>\n",
       "      <td>WELL</td>\n",
       "      <td>2006-03-10</td>\n",
       "      <td>Health Care REIT, Inc. is a self-administered,...</td>\n",
       "    </tr>\n",
       "    <tr>\n",
       "      <td>237</td>\n",
       "      <td>0000766704</td>\n",
       "      <td>WELL</td>\n",
       "      <td>2005-03-16</td>\n",
       "      <td>Health Care REIT, Inc. is a self-administered,...</td>\n",
       "    </tr>\n",
       "  </tbody>\n",
       "</table>\n",
       "<p>238 rows × 4 columns</p>\n",
       "</div>"
      ],
      "text/plain": [
       "             CIK TICKER       DATE  \\\n",
       "0     0000002488    AMD 2019-02-08   \n",
       "1     0000002488    AMD 2018-02-27   \n",
       "2     0000002488    AMD 2017-02-21   \n",
       "3     0000002488    AMD 2016-02-18   \n",
       "4     0000002488    AMD 2015-02-19   \n",
       "..           ...    ...        ...   \n",
       "233   0000766704   WELL 2009-03-02   \n",
       "234   0000766704   WELL 2008-02-28   \n",
       "235   0000766704   WELL 2007-03-01   \n",
       "236   0000766704   WELL 2006-03-10   \n",
       "237   0000766704   WELL 2005-03-16   \n",
       "\n",
       "                                                  TEXT  \n",
       "0    Our 2018 financial results demonstrate the suc...  \n",
       "1    2017 was an important year for AMD as we launc...  \n",
       "2    As we continued to focus on our strategy to im...  \n",
       "3    We faced a challenging business environment in...  \n",
       "4    Net revenue for 2014 was $5.5 billion, an incr...  \n",
       "..                                                 ...  \n",
       "233  Health Care REIT, Inc., an S&P 500 company, is...  \n",
       "234   Health Care REIT, Inc. is an equity real esta...  \n",
       "235  Health Care REIT, Inc. is a self-administered,...  \n",
       "236  Health Care REIT, Inc. is a self-administered,...  \n",
       "237  Health Care REIT, Inc. is a self-administered,...  \n",
       "\n",
       "[238 rows x 4 columns]"
      ]
     },
     "execution_count": 4,
     "metadata": {},
     "output_type": "execute_result"
    }
   ],
   "source": [
    "new_all_data = all_data.drop(['DELETE'], axis=1)\n",
    "new_all_data"
   ]
  },
  {
   "cell_type": "code",
   "execution_count": 5,
   "metadata": {},
   "outputs": [],
   "source": [
    "# Check dataframe for any missing values:\n",
    "# new_all_data.isnull().values.any()\n",
    "# new_all_data.isnull().sum().sum()"
   ]
  },
  {
   "cell_type": "code",
   "execution_count": 6,
   "metadata": {},
   "outputs": [],
   "source": [
    "# load the trained classifier model from disk\n",
    "filename = 'finalised_classifier_model.sav'\n",
    "model = pickle.load(open(filename, 'rb'))"
   ]
  },
  {
   "cell_type": "markdown",
   "metadata": {},
   "source": [
    "To-do: Might need to modify this, instead round each value maybe?\n",
    "In regular sent analysis you get 0, 0.5, 1. With averaging justifications you get between 0 and 1, i.e. scaled/weighted.\n",
    "Below is more like weighted mode aggregated. Whereas above 'weighted' function is like weighted mean aggregated.\n",
    "But mode doesn't make much sense because it gets rid of the weight, so it is more like checking if 5 mined justifications can\n",
    "capture the full sentiment of the entire document.\n",
    "Read what you wrote in your thesis and then clarify all these sentiment score terms below!!!!!!"
   ]
  },
  {
   "cell_type": "code",
   "execution_count": 7,
   "metadata": {},
   "outputs": [
    {
     "name": "stderr",
     "output_type": "stream",
     "text": [
      "Getting sentiment scores: 238Filings [12:08,  3.06s/Filings]\n"
     ]
    },
    {
     "name": "stdout",
     "output_type": "stream",
     "text": [
      "[0.5, 0.5, 0.5, 0.5, 0.5, 0.5, 0.5, 0.59999999999999998, 0.5, 0.69999999999999996, 0.69999999999999996, 0.59999999999999998, 0.5, 0.69999999999999996, 0.5, 0.5, 0.5, 0.5, 0.5, 0.5, 0.5, 0.5, 0.5, 0.5, 0.5, 0.5, 0.5, 0.5, 0.5, 0.5, 0.5, 0.59999999999999998, 0.5, 0.59999999999999998, 0.59999999999999998, 0.5, 0.5, 0.40000000000000002, 0.59999999999999998, 0.59999999999999998, 0.5, 0.5, 0.5, 0.5, 0.5, 0.5, 0.5, 0.5, 0.5, 0.5, 0.5, 0.5, 0.5, 0.5, 0.5, 0.59999999999999998, 0.5, 0.5, 0.5, 0.5, 0.5, 0.5, 0.5, 0.5, 0.5, 0.5, 0.59999999999999998, 0.59999999999999998, 0.59999999999999998, 0.5, 0.5, 0.5, 0.5, 0.5, 0.5, 0.69999999999999996, 0.59999999999999998, 0.5, 0.5, 0.5, 0.59999999999999998, 0.5, 0.5, 0.5, 0.5, 0.5, 0.5, 0.5, 0.5, 0.5, 0.5, 0.5, 0.5, 0.5, 0.5, 0.5, 0.5, 0.5, 0.5, 0.5, 0.5, 0.5, 0.59999999999999998, 0.5, 0.5, 0.5, 0.5, 0.59999999999999998, 0.5, 0.5, 0.5, 0.5, 0.5, 0.5, 0.5, 0.5, 0.5, 0.5, 0.5, 0.5, 0.5, 0.5, 0.5, 0.5, 0.5, 0.5, 0.59999999999999998, 0.69999999999999996, 0.69999999999999996, 0.59999999999999998, 0.69999999999999996, 0.59999999999999998, 0.5, 0.5, 0.5, 0.5, 0.5, 0.5, 0.5, 0.5, 0.40000000000000002, 0.5, 0.5, 0.59999999999999998, 0.5, 0.5, 0.5, 0.5, 0.5, 0.5, 0.5, 0.5, 0.59999999999999998, 0.5, 0.5, 0.5, 0.5, 0.5, 0.5, 0.5, 0.5, 0.5, 0.5, 0.5, 0.5, 0.59999999999999998, 0.5, 0.5, 0.5, 0.5, 0.5, 0.5, 0.5, 0.5, 0.5, 0.59999999999999998, 0.5, 0.5, 0.5, 0.59999999999999998, 0.5, 0.59999999999999998, 0.5, 0.5, 0.5, 0.59999999999999998, 0.59999999999999998, 0.59999999999999998, 0.69999999999999996, 0.5, 0.59999999999999998, 0.69999999999999996, 0.5, 0.5, 0.5, 0.5, 0.5, 0.5, 0.5, 0.5, 0.5, 0.5, 0.59999999999999998, 0.5, 0.5, 0.5, 0.59999999999999998, 0.5, 0.59999999999999998, 0.5, 0.5, 0.69999999999999996, 0.5, 0.5, 0.59999999999999998, 0.59999999999999998, 0.69999999999999996, 0.59999999999999998, 0.5, 0.59999999999999998, 0.59999999999999998, 0.59999999999999998, 0.5, 0.5, 0.5, 0.5, 0.5, 0.5, 0.5, 0.5, 0.5, 0.5, 0.5, 0.5, 0.5, 0.5, 0.5, 0.5]\n"
     ]
    },
    {
     "name": "stderr",
     "output_type": "stream",
     "text": [
      "Getting sentiment scores: 238Filings [12:04,  3.04s/Filings]\n"
     ]
    },
    {
     "name": "stdout",
     "output_type": "stream",
     "text": [
      "[0.5, 0.5, 0.5, 0.5, 0.5, 0.5, 0.5, 0.5, 0.5, 0.5, 0.5, 0.5, 0.5, 0.5, 0.5, 0.5, 0.5, 0.5, 0.5, 0.5, 0.5, 0.5, 0.5, 0.5, 0.5, 0.5, 0.5, 0.5, 0.5, 0.5, 0.5, 0.5, 0.5, 0.5, 0.5, 0.5, 0.5, 0.5, 0.5, 0.5, 0.5, 0.5, 0.5, 0.5, 0.5, 0.5, 0.5, 0.5, 0.5, 0.5, 0.5, 0.5, 0.5, 0.5, 0.5, 0.5, 0.5, 0.5, 0.5, 0.5, 0.5, 0.5, 0.5, 0.5, 0.5, 0.5, 0.5, 0.5, 0.5, 0.5, 0.5, 0.5, 0.5, 0.5, 0.5, 0.5, 0.5, 0.5, 0.5, 0.5, 0.5, 0.5, 0.5, 0.5, 0.5, 0.5, 0.5, 0.5, 0.5, 0.5, 0.5, 0.5, 0.5, 0.5, 0.5, 0.5, 0.5, 0.5, 0.5, 0.5, 0.5, 0.5, 0.5, 0.5, 0.5, 0.5, 0.5, 0.5, 0.5, 0.5, 0.5, 0.5, 0.5, 0.5, 0.5, 0.5, 0.5, 0.5, 0.5, 0.5, 0.5, 0.5, 0.5, 0.5, 0.5, 0.5, 0.5, 0.5, 0.5, 0.5, 0.5, 0.5, 0.5, 0.5, 0.5, 0.5, 0.5, 0.5, 0.5, 0.5, 0.5, 0.5, 0.5, 0.5, 0.5, 0.5, 0.5, 0.5, 0.5, 0.5, 0.5, 0.5, 0.5, 0.5, 0.5, 0.5, 0.5, 0.5, 0.5, 0.5, 0.5, 0.5, 0.5, 0.5, 0.5, 0.5, 0.5, 0.5, 0.5, 0.5, 0.5, 0.5, 0.5, 0.5, 0.5, 0.5, 0.5, 0.5, 0.5, 0.5, 0.5, 0.5, 0.5, 0.5, 0.5, 0.5, 0.5, 0.5, 0.5, 0.5, 0.5, 0.5, 0.5, 0.5, 0.5, 0.5, 0.5, 0.5, 0.5, 0.5, 0.5, 0.5, 0.5, 0.5, 0.5, 0.5, 0.5, 0.5, 0.5, 0.5, 0.5, 0.5, 0.5, 0.5, 0.5, 0.5, 0.5, 0.5, 0.5, 0.5, 0.5, 0.5, 0.5, 0.5, 0.5, 0.5, 0.5, 0.5, 0.5, 0.5, 0.5, 0.5, 0.5, 0.5, 0.5, 0.5, 0.5, 0.5]\n"
     ]
    },
    {
     "name": "stderr",
     "output_type": "stream",
     "text": [
      "Getting sentiment scores: 238Filings [11:51,  2.99s/Filings]\n"
     ]
    },
    {
     "name": "stdout",
     "output_type": "stream",
     "text": [
      "[0.5, 0.5, 0.5, 0.5, 0.5, 0.5, 0.5, 0.5, 0.5, 0.75, 0.5, 0.5, 0.5, 1.0, 0.5, 0.5, 0.5, 0.5, 0.5, 0.5, 0.5, 0.5, 0.5, 0.5, 0.5, 0.5, 0.5, 0.5, 0.5, 0.5, 0.5, 0.5, 0.5, 0.5, 0.5, 0.5, 0.5, 0.5, 0.5, 0.5, 0.5, 0.5, 0.5, 0.5, 0.5, 0.5, 0.5, 0.5, 0.5, 0.5, 0.5, 0.5, 0.5, 0.5, 0.5, 0.5, 0.5, 0.5, 0.5, 0.5, 0.5, 0.5, 0.5, 0.5, 0.5, 1.0, 1.0, 1.0, 0.5, 0.5, 0.5, 0.5, 0.5, 0.5, 0.5, 0.5, 1.0, 0.5, 0.5, 0.5, 0.5, 0.5, 0.5, 0.5, 0.5, 0.5, 0.5, 0.5, 0.5, 0.5, 0.5, 0.5, 0.5, 0.5, 0.5, 0.5, 0.5, 0.5, 0.5, 0.5, 0.5, 0.5, 0.5, 0.5, 0.5, 0.5, 0.5, 0.5, 0.5, 0.5, 0.5, 0.5, 0.5, 0.5, 0.5, 0.5, 0.5, 0.5, 0.5, 0.5, 0.5, 0.5, 0.5, 0.5, 0.5, 0.5, 0.75, 0.75, 0.5, 0.75, 0.5, 0.5, 0.5, 0.5, 0.5, 0.5, 0.5, 0.5, 0.5, 0.5, 0.5, 0.5, 0.5, 0.66666666666666663, 0.5, 0.5, 0.66666666666666663, 0.5, 0.5, 0.5, 0.5, 0.5, 0.5, 0.5, 0.75, 0.59999999999999998, 0.33333333333333331, 0.5, 0.5, 0.5, 0.5, 0.5, 0.5, 0.5, 0.5, 0.5, 0.5, 1.0, 0.5, 0.5, 0.5, 0.5, 0.5, 0.5, 0.5, 0.5, 0.5, 0.5, 0.5, 0.75, 0.5, 0.75, 0.5, 0.5, 0.5, 0.5, 0.75, 0.75, 0.5, 0.33333333333333331, 0.66666666666666663, 0.66666666666666663, 0.5, 0.5, 0.5, 0.5, 0.5, 0.5, 0.5, 0.5, 0.5, 0.5, 0.75, 0.5, 0.5, 0.5, 1.0, 0.5, 0.5, 0.66666666666666663, 0.5, 0.5, 0.5, 0.5, 0.5, 0.75, 0.66666666666666663, 0.75, 0.5, 0.5, 0.66666666666666663, 0.5, 0.5, 1.0, 0.5, 0.5, 0.5, 0.5, 0.5, 0.5, 0.5, 0.5, 0.5, 0.5, 0.5, 0.5, 0.5, 0.5]\n"
     ]
    },
    {
     "name": "stderr",
     "output_type": "stream",
     "text": [
      "Getting sentiment scores: 238Filings [12:17,  3.10s/Filings]\n"
     ]
    },
    {
     "name": "stdout",
     "output_type": "stream",
     "text": [
      "[0.5, 0.5, 0.5, 0.5, 0.5, 0.5, 0.5, 0.5, 0.5, 0.5, 0.5, 0.5, 0.5, 0.66666666666666663, 0.5, 0.5, 0.5, 0.5, 0.5, 0.5, 0.5, 0.5, 0.5, 0.5, 0.5, 0.5, 0.5, 0.5, 0.5, 0.5, 0.5, 0.5, 0.5, 0.5, 0.5, 0.5, 0.5, 0.5, 0.5, 0.5, 0.5, 0.5, 0.5, 0.5, 0.5, 0.5, 0.5, 0.5, 0.5, 0.5, 0.5, 0.5, 0.5, 0.5, 0.5, 0.5, 0.5, 0.5, 0.5, 0.5, 0.5, 0.5, 0.5, 0.5, 0.5, 0.5, 0.5, 0.75, 0.5, 0.5, 0.5, 0.5, 0.5, 0.5, 0.5, 0.5, 1.0, 0.5, 0.5, 0.5, 0.58333333333333337, 0.5, 0.5, 0.5, 0.5, 0.5, 0.5, 0.5, 0.5, 0.5, 0.5, 0.5, 0.5, 0.5, 0.5, 0.5, 0.5, 0.5, 0.5, 0.5, 0.5, 0.5, 0.5, 0.5, 0.5, 0.5, 0.5, 0.5, 0.5, 0.5, 0.5, 0.5, 0.5, 0.5, 0.5, 0.5, 0.5, 0.5, 0.5, 0.5, 0.5, 0.5, 0.5, 0.5, 0.5, 0.5, 0.5, 0.5, 0.5, 0.5, 0.5, 0.5, 0.5, 0.5, 0.5, 0.5, 0.5, 0.5, 0.5, 0.5, 0.5, 0.5, 0.5, 0.5, 0.5, 0.5, 0.5, 0.5, 0.5, 0.5, 0.5, 0.5, 0.5, 0.5, 0.5, 0.5, 0.5, 0.5, 0.5, 0.5, 0.5, 0.5, 0.5, 0.5, 0.5, 0.5, 0.625, 1.0, 0.5, 0.5, 0.5, 0.5, 0.5, 0.5, 0.5, 0.75, 0.5, 0.5, 0.5, 0.625, 0.5, 0.66666666666666663, 0.5, 0.5, 0.5, 0.5, 0.5, 0.5, 0.5, 0.5, 0.5, 0.58333333333333337, 0.5, 0.5, 0.5, 0.5, 0.5, 0.5, 0.5, 0.5, 0.5, 0.33333333333333331, 0.75, 0.5, 0.5, 0.5, 1.0, 0.5, 0.5, 0.5, 0.5, 0.625, 0.5, 0.5, 0.5, 0.5, 0.59999999999999998, 0.5, 0.5, 0.5, 0.5714285714285714, 0.54545454545454541, 0.54166666666666663, 0.625, 0.5, 0.5, 0.5, 0.5, 0.5, 0.5, 0.5, 0.5, 0.5, 0.5, 0.5, 0.5, 0.5, 0.5]\n"
     ]
    }
   ],
   "source": [
    "weighted_sentiments = []\n",
    "for i, row in tqdm(new_all_data.iterrows(), desc='Getting sentiment scores', unit='Filings'):\n",
    "    weighted_sentiment = wsff.get_weighted_sentiment(row['TEXT'], model, clustering_model='Agglomerative')\n",
    "    weighted_sentiments.append(weighted_sentiment)\n",
    "print(weighted_sentiments)\n",
    "new_all_data['weighted_sentiments'] = weighted_sentiments\n",
    "\n",
    "unweighted_sentiments = []\n",
    "for i, row in tqdm(new_all_data.iterrows(), desc='Getting sentiment scores', unit='Filings'):\n",
    "    unweighted_sentiment = wsff.get_unweighted_sentiment(row['TEXT'], model, clustering_model='Agglomerative')\n",
    "    unweighted_sentiments.append(unweighted_sentiment)\n",
    "print(unweighted_sentiments)\n",
    "new_all_data['unweighted_sentiments'] = unweighted_sentiments\n",
    "\n",
    "weighted_sentiments_DBSCAN = []\n",
    "for i, row in tqdm(new_all_data.iterrows(), desc='Getting sentiment scores', unit='Filings'):\n",
    "    weighted_sentiment = wsff.get_weighted_sentiment(row['TEXT'], model, clustering_model='DBSCAN')\n",
    "    weighted_sentiments_DBSCAN.append(weighted_sentiment)\n",
    "print(weighted_sentiments_DBSCAN)\n",
    "new_all_data['weighted_sentiments_DBSCAN'] = weighted_sentiments_DBSCAN\n",
    "\n",
    "\n",
    "weighted_sentiments_MeanShift = []\n",
    "for i, row in tqdm(new_all_data.iterrows(), desc='Getting sentiment scores', unit='Filings'):\n",
    "    weighted_sentiment = wsff.get_weighted_sentiment(row['TEXT'], model, clustering_model='MeanShift')\n",
    "    weighted_sentiments_MeanShift.append(weighted_sentiment)\n",
    "print(weighted_sentiments_MeanShift)\n",
    "new_all_data['weighted_sentiments_MeanShift'] = weighted_sentiments_MeanShift"
   ]
  },
  {
   "cell_type": "code",
   "execution_count": 8,
   "metadata": {},
   "outputs": [
    {
     "name": "stderr",
     "output_type": "stream",
     "text": [
      "Getting sentiment scores: 238Filings [03:14,  1.22Filings/s]\n"
     ]
    },
    {
     "name": "stdout",
     "output_type": "stream",
     "text": [
      "[1.0, 0.0, 1.0, 0.0, 1.0, 0.0, 1.0, 1.0, 0.0, 1.0, 1.0, 1.0, 0.0, 1.0, 1.0, 0.0, 1.0, 1.0, 1.0, 1.0, 1.0, 1.0, 1.0, 1.0, 1.0, 1.0, 1.0, 1.0, 1.0, 1.0, 1.0, 1.0, 0.0, 1.0, 1.0, 0.0, 0.0, 0.0, 1.0, 1.0, 0.0, 0.0, 0.0, 0.0, 0.0, 0.0, 0.0, 0.0, 0.0, 0.0, 0.0, 0.0, 0.0, 1.0, 1.0, 1.0, 1.0, 1.0, 1.0, 1.0, 0.0, 1.0, 1.0, 0.0, 0.0, 1.0, 1.0, 1.0, 1.0, 0.0, 0.0, 0.0, 1.0, 0.0, 0.0, 1.0, 1.0, 1.0, 1.0, 0.0, 1.0, 0.0, 0.0, 0.0, 1.0, 0.0, 0.0, 0.0, 0.0, 0.0, 1.0, 1.0, 1.0, 1.0, 1.0, 1.0, 1.0, 1.0, 1.0, 1.0, 1.0, 1.0, 1.0, 1.0, 1.0, 0.0, 0.0, 1.0, 0.0, 0.0, 0.0, 0.0, 1.0, 1.0, 1.0, 1.0, 1.0, 1.0, 1.0, 0.0, 0.0, 0.0, 1.0, 0.0, 1.0, 1.0, 1.0, 1.0, 1.0, 1.0, 1.0, 1.0, 1.0, 1.0, 0.0, 1.0, 0.0, 0.0, 1.0, 1.0, 0.0, 0.0, 0.0, 1.0, 1.0, 1.0, 1.0, 0.0, 0.0, 0.0, 1.0, 1.0, 1.0, 1.0, 1.0, 1.0, 1.0, 1.0, 1.0, 1.0, 1.0, 1.0, 1.0, 1.0, 1.0, 1.0, 1.0, 1.0, 1.0, 1.0, 1.0, 1.0, 1.0, 1.0, 1.0, 1.0, 1.0, 1.0, 1.0, 1.0, 1.0, 1.0, 1.0, 1.0, 1.0, 1.0, 1.0, 1.0, 1.0, 1.0, 1.0, 1.0, 1.0, 0.0, 0.0, 1.0, 1.0, 1.0, 1.0, 1.0, 1.0, 1.0, 1.0, 1.0, 1.0, 1.0, 1.0, 1.0, 1.0, 1.0, 1.0, 1.0, 1.0, 1.0, 1.0, 1.0, 1.0, 1.0, 1.0, 1.0, 1.0, 1.0, 1.0, 1.0, 1.0, 1.0, 1.0, 1.0, 1.0, 1.0, 1.0, 1.0, 1.0, 1.0, 1.0, 1.0, 1.0, 1.0]\n"
     ]
    },
    {
     "name": "stderr",
     "output_type": "stream",
     "text": [
      "Getting sentiment scores: 238Filings [03:10,  1.25Filings/s]\n"
     ]
    },
    {
     "name": "stdout",
     "output_type": "stream",
     "text": [
      "[0.5357142857142857, 0.48148148148148145, 0.50980392156862742, 0.5, 0.52272727272727271, 0.5, 0.51282051282051277, 0.52173913043478259, 0.5, 0.56756756756756754, 0.56666666666666665, 0.53703703703703709, 0.5, 0.61290322580645162, 0.52083333333333337, 0.5, 0.51351351351351349, 0.51351351351351349, 0.51388888888888884, 0.51315789473684215, 0.51315789473684215, 0.51351351351351349, 0.51351351351351349, 0.52702702702702697, 0.51351351351351349, 0.51315789473684215, 0.51249999999999996, 0.51219512195121952, 0.52439024390243905, 0.51315789473684215, 0.55555555555555558, 0.53125, 0.5, 0.515625, 0.51351351351351349, 0.5, 0.5, 0.48837209302325579, 0.52702702702702697, 0.53125, 0.5, 0.5, 0.5, 0.5, 0.5, 0.5, 0.5, 0.5, 0.5, 0.5, 0.5, 0.5, 0.5, 0.578125, 0.51428571428571423, 0.54411764705882348, 0.51351351351351349, 0.51219512195121952, 0.51428571428571423, 0.51666666666666672, 0.5, 0.54347826086956519, 0.51724137931034486, 0.48484848484848486, 0.5, 0.5625, 0.53846153846153844, 0.56666666666666665, 0.53333333333333333, 0.5, 0.5, 0.5, 0.55000000000000004, 0.5, 0.5, 0.56521739130434778, 0.53846153846153844, 0.52000000000000002, 0.546875, 0.5, 0.5357142857142857, 0.5, 0.5, 0.5, 0.52083333333333337, 0.5, 0.5, 0.5, 0.5, 0.5, 0.51063829787234039, 0.51111111111111107, 0.51754385964912286, 0.515625, 0.50847457627118642, 0.51111111111111107, 0.51041666666666663, 0.52325581395348841, 0.52631578947368418, 0.52564102564102566, 0.5161290322580645, 0.52380952380952384, 0.51724137931034486, 0.51851851851851849, 0.51282051282051277, 0.5, 0.5, 0.55737704918032782, 0.5, 0.5, 0.5, 0.5, 0.52500000000000002, 0.52083333333333337, 0.52380952380952384, 0.53278688524590168, 0.52727272727272723, 0.52727272727272723, 0.50909090909090904, 0.5, 0.5, 0.5, 0.51851851851851849, 0.5, 0.51041666666666663, 0.51351351351351349, 0.61250000000000004, 0.61842105263157898, 0.58571428571428574, 0.59523809523809523, 0.57692307692307687, 0.56896551724137934, 0.53749999999999998, 0.53846153846153844, 0.5, 0.51923076923076927, 0.5, 0.5, 0.51041666666666663, 0.52500000000000002, 0.5, 0.48529411764705882, 0.5, 0.54545454545454541, 0.57407407407407407, 0.53061224489795922, 0.51587301587301593, 0.5, 0.5, 0.5, 0.50595238095238093, 0.51282051282051277, 0.55000000000000004, 0.52173913043478259, 0.55737704918032782, 0.53246753246753242, 0.53333333333333333, 0.52500000000000002, 0.50617283950617287, 0.52906976744186052, 0.53846153846153844, 0.55000000000000004, 0.53676470588235292, 0.52380952380952384, 0.532258064516129, 0.52054794520547942, 0.55421686746987953, 0.52873563218390807, 0.50632911392405067, 0.51428571428571423, 0.51578947368421058, 0.52000000000000002, 0.51666666666666672, 0.51020408163265307, 0.53804347826086951, 0.52380952380952384, 0.52118644067796616, 0.50917431192660545, 0.52631578947368418, 0.52531645569620256, 0.54411764705882348, 0.56617647058823528, 0.51470588235294112, 0.50624999999999998, 0.51578947368421058, 0.54705882352941182, 0.55072463768115942, 0.52500000000000002, 0.54545454545454541, 0.55882352941176472, 0.59090909090909094, 0.60483870967741937, 0.57692307692307687, 0.5, 0.5, 0.52247191011235961, 0.52631578947368418, 0.5267857142857143, 0.51063829787234039, 0.50450450450450446, 0.50490196078431371, 0.50990099009900991, 0.51485148514851486, 0.51546391752577314, 0.52272727272727271, 0.55633802816901412, 0.56382978723404253, 0.51724137931034486, 0.5178571428571429, 0.53658536585365857, 0.5220588235294118, 0.54761904761904767, 0.5625, 0.51470588235294112, 0.52500000000000002, 0.55172413793103448, 0.58196721311475408, 0.55882352941176472, 0.54285714285714282, 0.52840909090909094, 0.60396039603960394, 0.61956521739130432, 0.58247422680412375, 0.53205128205128205, 0.52941176470588236, 0.51020408163265307, 0.50943396226415094, 0.51063829787234039, 0.5089285714285714, 0.50657894736842102, 0.51086956521739135, 0.51136363636363635, 0.51249999999999996, 0.50877192982456143, 0.51388888888888884, 0.51351351351351349, 0.5478723404255319, 0.53205128205128205]\n"
     ]
    },
    {
     "name": "stderr",
     "output_type": "stream",
     "text": [
      "Getting sentiment scores: 238Filings [03:11,  1.24Filings/s]\n"
     ]
    },
    {
     "name": "stdout",
     "output_type": "stream",
     "text": [
      "[0.5, 0.5, 0.5, 0.5, 0.5, 0.5, 0.5, 0.5, 0.5, 0.5, 0.5, 0.5, 0.5, 0.5, 0.5, 0.5, 0.5, 0.5, 0.5, 0.5, 0.5, 0.5, 0.5, 0.5, 0.5, 0.5, 0.5, 0.5, 0.5, 0.5, 0.5, 0.5, 0.5, 0.5, 0.5, 0.5, 0.5, 0.5, 0.5, 0.5, 0.5, 0.5, 0.5, 0.5, 0.5, 0.5, 0.5, 0.5, 0.5, 0.5, 0.5, 0.5, 0.5, 0.5, 0.5, 0.5, 0.5, 0.5, 0.5, 0.5, 0.5, 0.5, 0.5, 0.5, 0.5, 0.5, 0.5, 0.5, 0.5, 0.5, 0.5, 0.5, 0.5, 0.5, 0.5, 0.5, 0.5, 0.5, 0.5, 0.5, 0.5, 0.5, 0.5, 0.5, 0.5, 0.5, 0.5, 0.5, 0.5, 0.5, 0.5, 0.5, 0.5, 0.5, 0.5, 0.5, 0.5, 0.5, 0.5, 0.5, 0.5, 0.5, 0.5, 0.5, 0.5, 0.5, 0.5, 0.5, 0.5, 0.5, 0.5, 0.5, 0.5, 0.5, 0.5, 0.5, 0.5, 0.5, 0.5, 0.5, 0.5, 0.5, 0.5, 0.5, 0.5, 0.5, 0.5, 0.5, 0.5, 0.5, 0.5, 0.5, 0.5, 0.5, 0.5, 0.5, 0.5, 0.5, 0.5, 0.5, 0.5, 0.5, 0.5, 0.5, 0.5, 0.5, 0.5, 0.5, 0.5, 0.5, 0.5, 0.5, 0.5, 0.5, 0.5, 0.5, 0.5, 0.5, 0.5, 0.5, 0.5, 0.5, 0.5, 0.5, 0.5, 0.5, 0.5, 0.5, 0.5, 0.5, 0.5, 0.5, 0.5, 0.5, 0.5, 0.5, 0.5, 0.5, 0.5, 0.5, 0.5, 0.5, 0.5, 0.5, 0.5, 0.5, 0.5, 0.5, 0.5, 0.5, 0.5, 0.5, 0.5, 0.5, 0.5, 0.5, 0.5, 0.5, 0.5, 0.5, 0.5, 0.5, 0.5, 0.5, 0.5, 0.5, 0.5, 0.5, 0.5, 0.5, 0.5, 0.5, 0.5, 0.5, 0.5, 0.5, 0.5, 0.5, 0.5, 0.5, 0.5, 0.5, 0.5, 0.5, 0.5, 0.5, 0.5, 0.5, 0.5, 0.5, 0.5, 0.5, 0.5, 0.5, 0.5, 0.5, 0.5, 0.5]\n"
     ]
    }
   ],
   "source": [
    "full_sentiments_mean = []\n",
    "\n",
    "for i, row in tqdm(new_all_data.iterrows(), desc='Getting sentiment scores', unit='Filings'):\n",
    "    full_sentiment_mean = wsff.get_full_sentiment_mean(row['TEXT'], model)\n",
    "    full_sentiments_mean.append(full_sentiment_mean)\n",
    "print(full_sentiments_mean)\n",
    "new_all_data['full_mean'] = full_sentiments_mean\n",
    "\n",
    "full_sentiments_mean_unrounded = []\n",
    "\n",
    "for i, row in tqdm(new_all_data.iterrows(), desc='Getting sentiment scores', unit='Filings'):\n",
    "    full_sentiment_mean_unrounded = wsff.get_full_sentiment_mean_unrounded(row['TEXT'], model)\n",
    "    full_sentiments_mean_unrounded.append(full_sentiment_mean_unrounded)\n",
    "print(full_sentiments_mean_unrounded)\n",
    "new_all_data['full_mean_unrounded'] = full_sentiments_mean_unrounded\n",
    "\n",
    "full_sentiments_mode = []\n",
    "\n",
    "for i, row in tqdm(new_all_data.iterrows(), desc='Getting sentiment scores', unit='Filings'):\n",
    "    full_sentiment_mode = wsff.get_full_sentiment_mode(row['TEXT'], model)\n",
    "    full_sentiments_mode.append(full_sentiment_mode)\n",
    "print(full_sentiments_mode)\n",
    "new_all_data['full_mode'] = full_sentiments_mode"
   ]
  },
  {
   "cell_type": "markdown",
   "metadata": {},
   "source": [
    "Note the time difference in weighted vs full sentiment scores:\n",
    "weighted:\n",
    "Getting sentiment scores: 239Filings [09:29,  2.38s/Filings]\n",
    "Getting sentiment scores: 239Filings [09:13,  2.32s/Filings]\n",
    "\n",
    "Full:\n",
    "Getting sentiment scores: 239Filings [00:04, 51.05Filings/s]\n",
    "Getting sentiment scores: 239Filings [00:04, 50.69Filings/s]\n",
    "Getting sentiment scores: 239Filings [00:04, 50.40Filings/s]\n",
    "\n",
    "Likely caused by the embeddings extraction time."
   ]
  },
  {
   "cell_type": "code",
   "execution_count": 9,
   "metadata": {},
   "outputs": [
    {
     "data": {
      "text/html": [
       "<div>\n",
       "<style scoped>\n",
       "    .dataframe tbody tr th:only-of-type {\n",
       "        vertical-align: middle;\n",
       "    }\n",
       "\n",
       "    .dataframe tbody tr th {\n",
       "        vertical-align: top;\n",
       "    }\n",
       "\n",
       "    .dataframe thead th {\n",
       "        text-align: right;\n",
       "    }\n",
       "</style>\n",
       "<table border=\"1\" class=\"dataframe\">\n",
       "  <thead>\n",
       "    <tr style=\"text-align: right;\">\n",
       "      <th></th>\n",
       "      <th>CIK</th>\n",
       "      <th>TICKER</th>\n",
       "      <th>DATE</th>\n",
       "      <th>TEXT</th>\n",
       "      <th>weighted_sentiments</th>\n",
       "      <th>unweighted_sentiments</th>\n",
       "      <th>weighted_sentiments_DBSCAN</th>\n",
       "      <th>weighted_sentiments_MeanShift</th>\n",
       "      <th>full_mean</th>\n",
       "      <th>full_mean_unrounded</th>\n",
       "      <th>full_mode</th>\n",
       "    </tr>\n",
       "  </thead>\n",
       "  <tbody>\n",
       "    <tr>\n",
       "      <td>0</td>\n",
       "      <td>0000002488</td>\n",
       "      <td>AMD</td>\n",
       "      <td>2019-02-08</td>\n",
       "      <td>Our 2018 financial results demonstrate the suc...</td>\n",
       "      <td>0.5</td>\n",
       "      <td>0.5</td>\n",
       "      <td>0.5</td>\n",
       "      <td>0.5</td>\n",
       "      <td>1.0</td>\n",
       "      <td>0.535714</td>\n",
       "      <td>0.5</td>\n",
       "    </tr>\n",
       "    <tr>\n",
       "      <td>1</td>\n",
       "      <td>0000002488</td>\n",
       "      <td>AMD</td>\n",
       "      <td>2018-02-27</td>\n",
       "      <td>2017 was an important year for AMD as we launc...</td>\n",
       "      <td>0.5</td>\n",
       "      <td>0.5</td>\n",
       "      <td>0.5</td>\n",
       "      <td>0.5</td>\n",
       "      <td>0.0</td>\n",
       "      <td>0.481481</td>\n",
       "      <td>0.5</td>\n",
       "    </tr>\n",
       "    <tr>\n",
       "      <td>2</td>\n",
       "      <td>0000002488</td>\n",
       "      <td>AMD</td>\n",
       "      <td>2017-02-21</td>\n",
       "      <td>As we continued to focus on our strategy to im...</td>\n",
       "      <td>0.5</td>\n",
       "      <td>0.5</td>\n",
       "      <td>0.5</td>\n",
       "      <td>0.5</td>\n",
       "      <td>1.0</td>\n",
       "      <td>0.509804</td>\n",
       "      <td>0.5</td>\n",
       "    </tr>\n",
       "    <tr>\n",
       "      <td>3</td>\n",
       "      <td>0000002488</td>\n",
       "      <td>AMD</td>\n",
       "      <td>2016-02-18</td>\n",
       "      <td>We faced a challenging business environment in...</td>\n",
       "      <td>0.5</td>\n",
       "      <td>0.5</td>\n",
       "      <td>0.5</td>\n",
       "      <td>0.5</td>\n",
       "      <td>0.0</td>\n",
       "      <td>0.500000</td>\n",
       "      <td>0.5</td>\n",
       "    </tr>\n",
       "    <tr>\n",
       "      <td>4</td>\n",
       "      <td>0000002488</td>\n",
       "      <td>AMD</td>\n",
       "      <td>2015-02-19</td>\n",
       "      <td>Net revenue for 2014 was $5.5 billion, an incr...</td>\n",
       "      <td>0.5</td>\n",
       "      <td>0.5</td>\n",
       "      <td>0.5</td>\n",
       "      <td>0.5</td>\n",
       "      <td>1.0</td>\n",
       "      <td>0.522727</td>\n",
       "      <td>0.5</td>\n",
       "    </tr>\n",
       "  </tbody>\n",
       "</table>\n",
       "</div>"
      ],
      "text/plain": [
       "           CIK TICKER       DATE  \\\n",
       "0   0000002488    AMD 2019-02-08   \n",
       "1   0000002488    AMD 2018-02-27   \n",
       "2   0000002488    AMD 2017-02-21   \n",
       "3   0000002488    AMD 2016-02-18   \n",
       "4   0000002488    AMD 2015-02-19   \n",
       "\n",
       "                                                TEXT  weighted_sentiments  \\\n",
       "0  Our 2018 financial results demonstrate the suc...                  0.5   \n",
       "1  2017 was an important year for AMD as we launc...                  0.5   \n",
       "2  As we continued to focus on our strategy to im...                  0.5   \n",
       "3  We faced a challenging business environment in...                  0.5   \n",
       "4  Net revenue for 2014 was $5.5 billion, an incr...                  0.5   \n",
       "\n",
       "   unweighted_sentiments  weighted_sentiments_DBSCAN  \\\n",
       "0                    0.5                         0.5   \n",
       "1                    0.5                         0.5   \n",
       "2                    0.5                         0.5   \n",
       "3                    0.5                         0.5   \n",
       "4                    0.5                         0.5   \n",
       "\n",
       "   weighted_sentiments_MeanShift  full_mean  full_mean_unrounded  full_mode  \n",
       "0                            0.5        1.0             0.535714        0.5  \n",
       "1                            0.5        0.0             0.481481        0.5  \n",
       "2                            0.5        1.0             0.509804        0.5  \n",
       "3                            0.5        0.0             0.500000        0.5  \n",
       "4                            0.5        1.0             0.522727        0.5  "
      ]
     },
     "execution_count": 9,
     "metadata": {},
     "output_type": "execute_result"
    }
   ],
   "source": [
    "new_all_data.head()"
   ]
  },
  {
   "cell_type": "markdown",
   "metadata": {},
   "source": [
    "Trial outputs for all the below stock calculations:\n",
    "1:\n",
    "[23.049999237060547, 331.04998779296875, 26.155519485473633]\n",
    "[Timestamp('2019-02-08 00:00:00'), Timestamp('2019-01-31 00:00:00'), Timestamp('2010-11-18 00:00:00')]\n",
    "\n",
    "2:\n",
    "[52.259998321533203, 517.46002197265625, 16.585308074951172]\n",
    "[Timestamp('2020-02-10 00:00:00'), Timestamp('2020-01-31 00:00:00'), Timestamp('2011-11-18 00:00:00')]\n",
    "[27.090000152587891, 371.19000244140625, 27.930322647094727]\n",
    "[Timestamp('2019-05-08 00:00:00'), Timestamp('2019-04-30 00:00:00'), Timestamp('2011-02-18 00:00:00')]\n",
    "\n",
    "3:\n",
    "[126.72451215316249, 56.308727096605168, -36.589643787566928]\n",
    "[17.527119519516933, 12.125061509907129, 6.7855779450558877]"
   ]
  },
  {
   "cell_type": "code",
   "execution_count": 10,
   "metadata": {},
   "outputs": [
    {
     "name": "stderr",
     "output_type": "stream",
     "text": [
      "Getting stock prices: 238Filings [04:07,  1.04s/Filings]\n"
     ]
    },
    {
     "name": "stdout",
     "output_type": "stream",
     "text": [
      "[23.049999237060547, 12.529999732971191, 14.0, 1.9099999666213989, 3.059999942779541, 3.7000000476837158, 2.5999999046325684, 7.4600000381469727, 9.1800003051757813, 7.929999828338623, 2.119999885559082, 7.130000114440918, 14.789999961853027, 40.619998931884766, 17.959999084472656, 14.529999732971191, 1626.22998046875, 1429.949951171875, 827.46002197265625, 587.0, 354.52999877929688, 358.69000244140625, 272.760009765625, 179.46000671386719, 171.13999938964844, 125.41000366210938, 58.819999694824219, 75.19000244140625, 40.330001831054688, 39.189998626708984, 34.75, 42.939998626708984, 331.04998779296875, 387.5, 324.45999145507813, 161.08000183105469, 177.77000427246094, 125.08000183105469, 85.019996643066406, 63.569999694824219, 28.89457893371582, 24.875455856323242, 24.219139099121094, 15.710981369018555, 16.892948150634766, 18.17902946472168, 15.811397552490234, 13.947021484375, 10.736077308654785, 8.7257328033447266, 6.4457430839538574, 8.8771677017211914, 9.9546632766723633, 57.146133422851563, 54.8170166015625, 68.298744201660156, 55.935821533203125, 54.893791198730469, 41.779647827148438, 36.532493591308594, 32.205753326416016, 27.610212326049805, 23.899368286132813, 108.86221313476563, 108.39659118652344, 123.95902252197266, 99.205337524414063, 87.412918090820313, 65.139511108398438, 49.650970458984375, 38.282371520996094, 30.777107238769531, 27.774196624755859, 18.981161117553711, 31.429140090942383, 33.325489044189453, 31.626298904418945, 26.138616561889648, 22.017293930053711, 17.182964324951172, 24.393709182739258, 233.33000183105469, 199.75, 164.75, 127.69000244140625, 154.1199951171875, 127.37000274658203, 70.339996337890625, 37.029998779296875, 33.090000152587891, 130.09269714355469, 102.31990051269531, 128.58760070800781, 128.70072937011719, 121.65303039550781, 94.193519592285156, 86.685882568359375, 74.278305053710938, 61.049434661865234, 48.26776123046875, 28.941804885864258, 48.522483825683594, 57.282207489013672, 43.701950073242188, 30.803461074829102, 37.837806701660156, 38.126857757568359, 30.388282775878906, 23.869119644165039, 28.379064559936523, 26.951116561889648, 21.236539840698242, 20.242031097412109, 25.2069091796875, 26.155519485473633, 1151.8699951171875, 1084.4300537109375, 820.1300048828125, 706.3599853515625, 24.433778762817383, 29.703832626342773, 20.829488754272461, 25.203512191772461, 35.661323547363281, 32.956771850585938, 27.657243728637695, 20.787876129150391, 16.749128341674805, 17.354581832885742, 9.4952611923217773, 13.897384643554688, 12.144734382629395, 144.8623046875, 135.30812072753906, 109.13368988037109, 90.099044799804688, 88.948516845703125, 78.963027954101563, 57.234569549560547, 47.737380981445313, 44.835964202880859, 28.432392120361328, 28.432392120361328, 23.917209625244141, 39.483787536621094, 33.052227020263672, 28.03095817565918, 25.301273345947266, 107.99271392822266, 93.585853576660156, 100.33615875244141, 83.543479919433594, 94.484504699707031, 93.341201782226563, 70.077781677246094, 51.046417236328125, 40.554855346679688, 31.768991470336914, 26.6494140625, 27.168342590332031, 38.189300537109375, 36.079673767089844, 44.574459075927734, 101.22290802001953, 109.98109436035156, 82.578964233398438, 49.733589172363281, 52.462158203125, 48.374462127685547, 39.989814758300781, 31.158987045288086, 36.070140838623047, 31.403541564941406, 16.175071716308594, 29.883035659790039, 35.040939331054688, 28.358713150024414, 24.597162246704102, 26.016166687011719, 42.161224365234375, 45.764514923095703, 38.171581268310547, 48.710197448730469, 63.586055755615234, 48.304512023925781, 40.769878387451172, 40.979377746582031, 30.239547729492188, 29.563013076782227, 11.084510803222656, 25.292520523071289, 35.525394439697266, 26.567295074462891, 122.59780883789063, 137.07478332519531, 84.299911499023438, 61.203598022460938, 77.356689453125, 47.629901885986328, 35.980018615722656, 31.121696472167969, 34.056312561035156, 22.201547622680664, 12.803065299987793, 28.50752067565918, 39.637744903564453, 27.055419921875, 24.600484848022461, 17.477779388427734, 66.593360900878906, 54.361270904541016, 52.282993316650391, 56.407508850097656, 35.61883544921875, 36.177997589111328, 21.615955352783203, 18.357654571533203, 13.285497665405273, 9.0896501541137695, 3.5874605178833008, 9.7816686630249023, 15.538583755493164, 10.696575164794922, 71.361747741699219, 47.735317230224609, 60.170890808105469, 48.163925170898438, 60.93133544921875, 42.317508697509766, 44.949924468994141, 37.462276458740234, 32.499721527099609, 26.312383651733398, 16.238700866699219, 21.908866882324219, 22.942113876342773, 17.051774978637695, 14.540355682373047]\n",
      "[Timestamp('2019-02-08 00:00:00'), Timestamp('2018-02-27 00:00:00'), Timestamp('2017-02-21 00:00:00'), Timestamp('2016-02-18 00:00:00'), Timestamp('2015-02-19 00:00:00'), Timestamp('2014-02-18 00:00:00'), Timestamp('2013-02-21 00:00:00'), Timestamp('2012-02-24 00:00:00'), Timestamp('2011-02-18 00:00:00'), Timestamp('2010-02-19 00:00:00'), Timestamp('2009-02-24 00:00:00'), Timestamp('2008-02-26 00:00:00'), Timestamp('2007-03-01 00:00:00'), Timestamp('2006-02-27 00:00:00'), Timestamp('2005-03-01 00:00:00'), Timestamp('2004-03-09 00:00:00'), Timestamp('2019-02-01 00:00:00'), Timestamp('2018-02-02 00:00:00'), Timestamp('2017-02-10 00:00:00'), Timestamp('2016-01-29 00:00:00'), Timestamp('2015-01-30 00:00:00'), Timestamp('2014-01-31 00:00:00'), Timestamp('2013-01-30 00:00:00'), Timestamp('2012-02-01 00:00:00'), Timestamp('2011-01-28 00:00:00'), Timestamp('2010-01-29 00:00:00'), Timestamp('2009-01-30 00:00:00'), Timestamp('2008-02-11 00:00:00'), Timestamp('2007-02-16 00:00:00'), Timestamp('2006-02-17 00:00:00'), Timestamp('2005-03-11 00:00:00'), Timestamp('2004-02-25 00:00:00'), Timestamp('2019-01-31 00:00:00'), Timestamp('2018-02-02 00:00:00'), Timestamp('2017-02-16 00:00:00'), Timestamp('2016-02-10 00:00:00'), Timestamp('2015-02-24 00:00:00'), Timestamp('2014-02-21 00:00:00'), Timestamp('2013-02-22 00:00:00'), Timestamp('2012-02-27 00:00:00'), Timestamp('2019-02-28 00:00:00'), Timestamp('2018-02-22 00:00:00'), Timestamp('2017-02-28 00:00:00'), Timestamp('2016-02-26 00:00:00'), Timestamp('2015-02-26 00:00:00'), Timestamp('2014-02-26 00:00:00'), Timestamp('2013-02-27 00:00:00'), Timestamp('2012-02-29 00:00:00'), Timestamp('2011-03-01 00:00:00'), Timestamp('2010-02-26 00:00:00'), Timestamp('2009-02-25 00:00:00'), Timestamp('2008-02-28 00:00:00'), Timestamp('2007-02-28 00:00:00'), Timestamp('2019-02-28 00:00:00'), Timestamp('2018-02-22 00:00:00'), Timestamp('2017-02-21 00:00:00'), Timestamp('2016-02-23 00:00:00'), Timestamp('2015-02-24 00:00:00'), Timestamp('2014-02-25 00:00:00'), Timestamp('2013-02-26 00:00:00'), Timestamp('2012-02-29 00:00:00'), Timestamp('2011-02-28 00:00:00'), Timestamp('2010-03-01 00:00:00'), Timestamp('2019-02-21 00:00:00'), Timestamp('2018-03-01 00:00:00'), Timestamp('2017-02-22 00:00:00'), Timestamp('2016-02-24 00:00:00'), Timestamp('2015-02-25 00:00:00'), Timestamp('2014-02-28 00:00:00'), Timestamp('2013-02-22 00:00:00'), Timestamp('2012-02-23 00:00:00'), Timestamp('2011-02-23 00:00:00'), Timestamp('2010-02-23 00:00:00'), Timestamp('2009-02-26 00:00:00'), Timestamp('2008-02-27 00:00:00'), Timestamp('2007-02-28 00:00:00'), Timestamp('2006-03-02 00:00:00'), Timestamp('2005-03-16 00:00:00'), Timestamp('2004-03-11 00:00:00'), Timestamp('2003-03-28 00:00:00'), Timestamp('2002-03-12 00:00:00'), Timestamp('2019-03-01 00:00:00'), Timestamp('2018-03-01 00:00:00'), Timestamp('2017-03-01 00:00:00'), Timestamp('2016-02-29 00:00:00'), Timestamp('2015-03-02 00:00:00'), Timestamp('2014-03-03 00:00:00'), Timestamp('2013-03-01 00:00:00'), Timestamp('2012-02-29 00:00:00'), Timestamp('2011-03-25 00:00:00'), Timestamp('2019-02-13 00:00:00'), Timestamp('2018-02-13 00:00:00'), Timestamp('2017-02-13 00:00:00'), Timestamp('2016-02-09 00:00:00'), Timestamp('2015-02-10 00:00:00'), Timestamp('2014-02-11 00:00:00'), Timestamp('2013-02-12 00:00:00'), Timestamp('2012-02-16 00:00:00'), Timestamp('2011-02-15 00:00:00'), Timestamp('2010-02-17 00:00:00'), Timestamp('2009-02-26 00:00:00'), Timestamp('2008-02-27 00:00:00'), Timestamp('2007-03-01 00:00:00'), Timestamp('2006-03-07 00:00:00'), Timestamp('2005-03-07 00:00:00'), Timestamp('2019-02-06 00:00:00'), Timestamp('2018-02-06 00:00:00'), Timestamp('2017-02-07 00:00:00'), Timestamp('2016-02-03 00:00:00'), Timestamp('2015-02-04 00:00:00'), Timestamp('2014-02-06 00:00:00'), Timestamp('2013-02-15 00:00:00'), Timestamp('2012-02-27 00:00:00'), Timestamp('2011-03-01 00:00:00'), Timestamp('2010-11-18 00:00:00'), Timestamp('2019-02-05 00:00:00'), Timestamp('2018-02-06 00:00:00'), Timestamp('2017-02-03 00:00:00'), Timestamp('2016-02-11 00:00:00'), Timestamp('2019-03-19 00:00:00'), Timestamp('2018-03-20 00:00:00'), Timestamp('2017-03-20 00:00:00'), Timestamp('2016-03-21 00:00:00'), Timestamp('2015-03-23 00:00:00'), Timestamp('2014-03-24 00:00:00'), Timestamp('2013-03-26 00:00:00'), Timestamp('2012-03-26 00:00:00'), Timestamp('2011-03-28 00:00:00'), Timestamp('2010-03-26 00:00:00'), Timestamp('2009-03-27 00:00:00'), Timestamp('2008-03-28 00:00:00'), Timestamp('2007-04-02 00:00:00'), Timestamp('2019-02-08 00:00:00'), Timestamp('2018-02-09 00:00:00'), Timestamp('2017-02-10 00:00:00'), Timestamp('2016-02-12 00:00:00'), Timestamp('2015-02-13 00:00:00'), Timestamp('2014-02-14 00:00:00'), Timestamp('2013-02-15 00:00:00'), Timestamp('2012-02-17 00:00:00'), Timestamp('2011-02-11 00:00:00'), Timestamp('2010-02-12 00:00:00'), Timestamp('2010-02-12 00:00:00'), Timestamp('2009-02-13 00:00:00'), Timestamp('2008-02-15 00:00:00'), Timestamp('2007-02-16 00:00:00'), Timestamp('2006-03-01 00:00:00'), Timestamp('2005-02-25 00:00:00'), Timestamp('2019-02-22 00:00:00'), Timestamp('2018-02-27 00:00:00'), Timestamp('2017-02-21 00:00:00'), Timestamp('2016-02-26 00:00:00'), Timestamp('2015-02-20 00:00:00'), Timestamp('2014-02-21 00:00:00'), Timestamp('2013-02-22 00:00:00'), Timestamp('2012-02-17 00:00:00'), Timestamp('2011-02-18 00:00:00'), Timestamp('2010-02-19 00:00:00'), Timestamp('2009-02-20 00:00:00'), Timestamp('2008-02-19 00:00:00'), Timestamp('2007-02-23 00:00:00'), Timestamp('2006-02-28 00:00:00'), Timestamp('2005-03-07 00:00:00'), Timestamp('2019-02-26 00:00:00'), Timestamp('2018-02-27 00:00:00'), Timestamp('2017-02-28 00:00:00'), Timestamp('2016-02-23 00:00:00'), Timestamp('2015-02-24 00:00:00'), Timestamp('2014-02-20 00:00:00'), Timestamp('2013-02-28 00:00:00'), Timestamp('2012-02-29 00:00:00'), Timestamp('2011-02-28 00:00:00'), Timestamp('2010-02-24 00:00:00'), Timestamp('2009-03-02 00:00:00'), Timestamp('2008-02-29 00:00:00'), Timestamp('2007-03-01 00:00:00'), Timestamp('2006-03-09 00:00:00'), Timestamp('2005-03-02 00:00:00'), Timestamp('2004-02-18 00:00:00'), Timestamp('2019-03-18 00:00:00'), Timestamp('2018-03-19 00:00:00'), Timestamp('2017-03-20 00:00:00'), Timestamp('2016-03-14 00:00:00'), Timestamp('2015-03-16 00:00:00'), Timestamp('2014-03-17 00:00:00'), Timestamp('2013-03-18 00:00:00'), Timestamp('2012-03-16 00:00:00'), Timestamp('2011-03-18 00:00:00'), Timestamp('2010-03-22 00:00:00'), Timestamp('2009-03-23 00:00:00'), Timestamp('2008-03-24 00:00:00'), Timestamp('2007-03-23 00:00:00'), Timestamp('2006-03-24 00:00:00'), Timestamp('2019-03-01 00:00:00'), Timestamp('2018-02-15 00:00:00'), Timestamp('2017-02-21 00:00:00'), Timestamp('2016-02-18 00:00:00'), Timestamp('2015-02-19 00:00:00'), Timestamp('2014-02-20 00:00:00'), Timestamp('2013-02-20 00:00:00'), Timestamp('2012-02-16 00:00:00'), Timestamp('2011-02-18 00:00:00'), Timestamp('2010-02-12 00:00:00'), Timestamp('2009-02-12 00:00:00'), Timestamp('2008-02-15 00:00:00'), Timestamp('2007-02-21 00:00:00'), Timestamp('2006-02-22 00:00:00'), Timestamp('2005-02-23 00:00:00'), Timestamp('2004-02-23 00:00:00'), Timestamp('2018-11-16 00:00:00'), Timestamp('2017-11-17 00:00:00'), Timestamp('2016-11-18 00:00:00'), Timestamp('2015-11-12 00:00:00'), Timestamp('2014-11-14 00:00:00'), Timestamp('2013-11-18 00:00:00'), Timestamp('2012-11-16 00:00:00'), Timestamp('2011-11-18 00:00:00'), Timestamp('2010-11-22 00:00:00'), Timestamp('2009-11-20 00:00:00'), Timestamp('2008-11-24 00:00:00'), Timestamp('2007-11-29 00:00:00'), Timestamp('2006-12-14 00:00:00'), Timestamp('2005-02-16 00:00:00'), Timestamp('2019-02-25 00:00:00'), Timestamp('2018-02-28 00:00:00'), Timestamp('2017-02-22 00:00:00'), Timestamp('2016-02-18 00:00:00'), Timestamp('2015-02-20 00:00:00'), Timestamp('2014-02-21 00:00:00'), Timestamp('2013-02-26 00:00:00'), Timestamp('2012-02-17 00:00:00'), Timestamp('2011-02-25 00:00:00'), Timestamp('2010-02-26 00:00:00'), Timestamp('2009-03-02 00:00:00'), Timestamp('2008-02-28 00:00:00'), Timestamp('2007-03-01 00:00:00'), Timestamp('2006-03-10 00:00:00'), Timestamp('2005-03-16 00:00:00')]\n"
     ]
    }
   ],
   "source": [
    "def get_current_stock_price_date(ticker, date):\n",
    "    given_date = date\n",
    "    while True:\n",
    "        try:\n",
    "            stock_price = spct.get_stock_adj_close(ticker, given_date)\n",
    "            break\n",
    "        except KeyError:\n",
    "            given_date = spct.add_days(given_date,1)\n",
    "    return given_date, stock_price\n",
    "\n",
    "stock_prices = []\n",
    "given_dates = []\n",
    "\n",
    "\n",
    "    \n",
    "for i, row in tqdm(new_all_data.iterrows(), desc='Getting stock prices', unit='Filings'):\n",
    "    given_date, stock_price = get_current_stock_price_date(row['TICKER'], row['DATE'])\n",
    "    stock_prices.append(stock_price)\n",
    "    given_dates.append(given_date)\n",
    "    \n",
    "print(stock_prices)\n",
    "print(given_dates)"
   ]
  },
  {
   "cell_type": "code",
   "execution_count": 11,
   "metadata": {},
   "outputs": [
    {
     "name": "stdout",
     "output_type": "stream",
     "text": [
      "CIK                                                                     0000829224\n",
      "TICKER                                                                        SBUX\n",
      "DATE                                                           2018-11-16 00:00:00\n",
      "TEXT                             Starbucks results for fiscal 2018 reflect the ...\n",
      "weighted_sentiments                                                            0.5\n",
      "unweighted_sentiments                                                          0.5\n",
      "weighted_sentiments_DBSCAN                                                0.666667\n",
      "weighted_sentiments_MeanShift                                                  0.5\n",
      "full_mean                                                                        1\n",
      "full_mean_unrounded                                                       0.536585\n",
      "full_mode                                                                      0.5\n",
      "Name: 209, dtype: object\n",
      "2018-11-16 00:00:00\n",
      "2019-11-16 00:00:00\n"
     ]
    }
   ],
   "source": [
    "# Check to make sure it isn't SBUX out of date 2019, index 209 should now return SBUX 2018-11-16\n",
    "print(new_all_data.iloc[209])\n",
    "print(given_dates[209])\n",
    "date_one_yearsbux = spct.add_years(given_dates[209], 1)\n",
    "print(date_one_yearsbux) # Should be 2019-11-16"
   ]
  },
  {
   "cell_type": "code",
   "execution_count": 12,
   "metadata": {},
   "outputs": [
    {
     "name": "stderr",
     "output_type": "stream",
     "text": [
      "Getting stock prices: 238Filings [05:04,  1.28s/Filings]\n",
      "Getting stock prices: 238Filings [04:12,  1.06s/Filings]\n"
     ]
    },
    {
     "name": "stdout",
     "output_type": "stream",
     "text": [
      "[53.799999237060547, 23.479999542236328, 11.720000267028809, 14.0, 1.9099999666213989, 3.0799999237060547, 3.690000057220459, 2.5299999713897705, 7.2800002098083496, 8.8500003814697266, 8.0500001907348633, 2.0899999141693115, 6.7600002288818359, 15.079999923706055, 40.069999694824219, 16.940000534057617, 2004.199951171875, 1633.31005859375, 1386.22998046875, 830.3800048828125, 574.80999755859375, 364.47000122070313, 403.010009765625, 265.0, 192.14999389648438, 169.63999938964844, 118.87000274658203, 64.349998474121094, 72.080001831054688, 41.509998321533203, 36.189998626708984, 34.990001678466797, 532.04998779296875, 337.0, 365.66000366210938, 324.55999755859375, 175.78999328613281, 175.8800048828125, 123.58000183105469, 87.129997253417969, 23.020000457763672, 30.102512359619141, 24.921520233154297, 23.749292373657227, 15.710981369018555, 16.892948150634766, 18.186752319335938, 16.034830093383789, 13.85399341583252, 10.887096405029297, 9.195281982421875, 5.9065537452697754, 8.8771677017211914, 66.415664672851563, 58.59649658203125, 54.220577239990234, 68.900184631347656, 58.389141082763672, 54.266578674316406, 42.399318695068359, 38.401897430419922, 32.298057556152344, 27.677148818969727, 159.11761474609375, 108.83265686035156, 112.00334167480469, 124.26637268066406, 101.19055938720703, 89.343254089355469, 64.925682067871094, 48.715717315673828, 38.282371520996094, 30.777107238769531, 28.255929946899414, 18.728544235229492, 30.866209030151367, 32.506996154785156, 32.724254608154297, 26.053220748901367, 22.000282287597656, 15.4290771484375, 282.04000854492188, 233.33000183105469, 199.75, 164.75, 135.24000549316406, 154.77000427246094, 127.37000274658203, 70.339996337890625, 39.729999542236328, 123.59396362304688, 133.53431701660156, 102.31990051269531, 127.75105285644531, 128.63931274414063, 121.54196929931641, 92.3804931640625, 86.96435546875, 76.124992370605469, 60.714427947998047, 49.58355712890625, 28.954214096069336, 46.807762145996094, 56.117610931396484, 43.701950073242188, 33.916255950927734, 37.837806701660156, 38.609588623046875, 31.453174591064453, 23.638021469116211, 28.513715744018555, 27.777334213256836, 20.961137771606445, 20.249679565429688, 16.585308074951172, 1446.050048828125, 1122.8900146484375, 1062.3900146484375, 838.96002197265625, 8.0699996948242188, 24.082010269165039, 29.703832626342773, 20.261251449584961, 24.265666961669922, 35.456146240234375, 32.008491516113281, 27.657243728637695, 20.315946578979492, 16.749128341674805, 17.213790893554688, 9.4298238754272461, 14.538155555725098, 175.99740600585938, 144.73558044433594, 136.74444580078125, 110.71897888183594, 91.378959655761719, 88.624702453613281, 78.746040344238281, 57.903980255126953, 47.769157409667969, 44.542110443115234, 44.542110443115234, 29.228445053100586, 22.600536346435547, 39.744472503662109, 32.093555450439453, 28.234704971313477, 158.94000244140625, 107.36563873291016, 94.066497802734375, 101.78448486328125, 81.532608032226563, 95.242897033691406, 93.661872863769531, 69.105018615722656, 50.895442962646484, 41.433139801025391, 31.118833541870117, 26.550710678100586, 28.444551467895508, 38.052627563476563, 36.502899169921875, 125.33756256103516, 101.09793090820313, 108.238037109375, 83.043724060058594, 49.751304626464844, 51.582321166992188, 47.735973358154297, 39.981643676757813, 31.135164260864258, 35.467575073242188, 31.995491027832031, 16.175071716308594, 29.272872924804688, 34.770301818847656, 28.780113220214844, 24.277965545654297, 19.760000228881836, 42.514244079589844, 45.755237579345703, 39.247344970703125, 49.396629333496094, 63.570198059082031, 48.553459167480469, 40.769878387451172, 40.598552703857422, 31.198020935058594, 29.684734344482422, 11.483634948730469, 25.292520523071289, 35.173133850097656, 122.95999908447266, 118.86322784423828, 137.72482299804688, 84.299911499023438, 61.929294586181641, 77.263580322265625, 47.629901885986328, 36.985504150390625, 30.674802780151367, 34.122890472412109, 22.201547622680664, 12.086807250976563, 28.483444213867188, 39.422519683837891, 27.2257080078125, 24.600484848022461, 83.630226135253906, 66.349113464355469, 54.246692657470703, 50.595539093017578, 56.047286987304688, 35.368061065673828, 36.177997589111328, 22.050407409667969, 18.471248626708984, 13.285497665405273, 9.0556850433349609, 3.3751850128173828, 9.0217199325561523, 15.220172882080078, 75.580001831054688, 71.275421142578125, 50.371479034423828, 59.49542236328125, 49.518234252929688, 61.430961608886719, 44.492298126220703, 46.798931121826172, 36.955665588378906, 33.368770599365234, 25.626720428466797, 16.238700866699219, 21.956453323364258, 22.438713073730469, 17.623569488525391]\n",
      "[Timestamp('2020-02-11 00:00:00'), Timestamp('2019-02-27 00:00:00'), Timestamp('2018-02-21 00:00:00'), Timestamp('2017-02-21 00:00:00'), Timestamp('2016-02-19 00:00:00'), Timestamp('2015-02-18 00:00:00'), Timestamp('2014-02-21 00:00:00'), Timestamp('2013-02-25 00:00:00'), Timestamp('2012-02-21 00:00:00'), Timestamp('2011-02-22 00:00:00'), Timestamp('2010-02-24 00:00:00'), Timestamp('2009-02-26 00:00:00'), Timestamp('2008-03-03 00:00:00'), Timestamp('2007-02-27 00:00:00'), Timestamp('2006-03-01 00:00:00'), Timestamp('2005-03-09 00:00:00'), Timestamp('2020-02-03 00:00:00'), Timestamp('2019-02-04 00:00:00'), Timestamp('2018-02-12 00:00:00'), Timestamp('2017-01-30 00:00:00'), Timestamp('2016-02-01 00:00:00'), Timestamp('2015-02-02 00:00:00'), Timestamp('2014-01-30 00:00:00'), Timestamp('2013-02-01 00:00:00'), Timestamp('2012-01-30 00:00:00'), Timestamp('2011-01-31 00:00:00'), Timestamp('2010-02-01 00:00:00'), Timestamp('2009-02-11 00:00:00'), Timestamp('2008-02-19 00:00:00'), Timestamp('2007-02-20 00:00:00'), Timestamp('2006-03-13 00:00:00'), Timestamp('2005-02-25 00:00:00'), Timestamp('2020-02-03 00:00:00'), Timestamp('2019-02-04 00:00:00'), Timestamp('2018-02-16 00:00:00'), Timestamp('2017-02-10 00:00:00'), Timestamp('2016-02-24 00:00:00'), Timestamp('2015-02-23 00:00:00'), Timestamp('2014-02-24 00:00:00'), Timestamp('2013-02-27 00:00:00'), Timestamp('2020-02-28 00:00:00'), Timestamp('2019-02-22 00:00:00'), Timestamp('2018-02-28 00:00:00'), Timestamp('2017-02-27 00:00:00'), Timestamp('2016-02-26 00:00:00'), Timestamp('2015-02-26 00:00:00'), Timestamp('2014-02-27 00:00:00'), Timestamp('2013-03-01 00:00:00'), Timestamp('2012-03-01 00:00:00'), Timestamp('2011-02-28 00:00:00'), Timestamp('2010-02-25 00:00:00'), Timestamp('2009-03-02 00:00:00'), Timestamp('2008-02-28 00:00:00'), Timestamp('2020-02-28 00:00:00'), Timestamp('2019-02-22 00:00:00'), Timestamp('2018-02-21 00:00:00'), Timestamp('2017-02-23 00:00:00'), Timestamp('2016-02-24 00:00:00'), Timestamp('2015-02-25 00:00:00'), Timestamp('2014-02-26 00:00:00'), Timestamp('2013-03-01 00:00:00'), Timestamp('2012-02-28 00:00:00'), Timestamp('2011-03-01 00:00:00'), Timestamp('2020-02-21 00:00:00'), Timestamp('2019-03-01 00:00:00'), Timestamp('2018-02-22 00:00:00'), Timestamp('2017-02-24 00:00:00'), Timestamp('2016-02-25 00:00:00'), Timestamp('2015-03-02 00:00:00'), Timestamp('2014-02-24 00:00:00'), Timestamp('2013-02-25 00:00:00'), Timestamp('2012-02-23 00:00:00'), Timestamp('2011-02-23 00:00:00'), Timestamp('2010-02-26 00:00:00'), Timestamp('2009-02-27 00:00:00'), Timestamp('2008-02-28 00:00:00'), Timestamp('2007-03-02 00:00:00'), Timestamp('2006-03-16 00:00:00'), Timestamp('2005-03-11 00:00:00'), Timestamp('2004-03-29 00:00:00'), Timestamp('2003-03-12 00:00:00'), Timestamp('2020-03-02 00:00:00'), Timestamp('2019-03-01 00:00:00'), Timestamp('2018-03-01 00:00:00'), Timestamp('2017-03-01 00:00:00'), Timestamp('2016-03-02 00:00:00'), Timestamp('2015-03-03 00:00:00'), Timestamp('2014-03-03 00:00:00'), Timestamp('2013-03-01 00:00:00'), Timestamp('2012-03-26 00:00:00'), Timestamp('2020-02-13 00:00:00'), Timestamp('2019-02-13 00:00:00'), Timestamp('2018-02-13 00:00:00'), Timestamp('2017-02-09 00:00:00'), Timestamp('2016-02-10 00:00:00'), Timestamp('2015-02-11 00:00:00'), Timestamp('2014-02-12 00:00:00'), Timestamp('2013-02-19 00:00:00'), Timestamp('2012-02-15 00:00:00'), Timestamp('2011-02-17 00:00:00'), Timestamp('2010-02-26 00:00:00'), Timestamp('2009-02-27 00:00:00'), Timestamp('2008-03-03 00:00:00'), Timestamp('2007-03-07 00:00:00'), Timestamp('2006-03-07 00:00:00'), Timestamp('2020-02-06 00:00:00'), Timestamp('2019-02-06 00:00:00'), Timestamp('2018-02-07 00:00:00'), Timestamp('2017-02-03 00:00:00'), Timestamp('2016-02-04 00:00:00'), Timestamp('2015-02-06 00:00:00'), Timestamp('2014-02-18 00:00:00'), Timestamp('2013-02-27 00:00:00'), Timestamp('2012-03-01 00:00:00'), Timestamp('2011-11-18 00:00:00'), Timestamp('2020-02-05 00:00:00'), Timestamp('2019-02-06 00:00:00'), Timestamp('2018-02-05 00:00:00'), Timestamp('2017-02-13 00:00:00'), Timestamp('2020-03-19 00:00:00'), Timestamp('2019-03-20 00:00:00'), Timestamp('2018-03-20 00:00:00'), Timestamp('2017-03-21 00:00:00'), Timestamp('2016-03-23 00:00:00'), Timestamp('2015-03-24 00:00:00'), Timestamp('2014-03-26 00:00:00'), Timestamp('2013-03-26 00:00:00'), Timestamp('2012-03-28 00:00:00'), Timestamp('2011-03-28 00:00:00'), Timestamp('2010-03-29 00:00:00'), Timestamp('2009-03-30 00:00:00'), Timestamp('2008-04-02 00:00:00'), Timestamp('2020-02-10 00:00:00'), Timestamp('2019-02-11 00:00:00'), Timestamp('2018-02-12 00:00:00'), Timestamp('2017-02-13 00:00:00'), Timestamp('2016-02-16 00:00:00'), Timestamp('2015-02-17 00:00:00'), Timestamp('2014-02-18 00:00:00'), Timestamp('2013-02-19 00:00:00'), Timestamp('2012-02-13 00:00:00'), Timestamp('2011-02-14 00:00:00'), Timestamp('2011-02-14 00:00:00'), Timestamp('2010-02-16 00:00:00'), Timestamp('2009-02-17 00:00:00'), Timestamp('2008-02-19 00:00:00'), Timestamp('2007-03-01 00:00:00'), Timestamp('2006-02-27 00:00:00'), Timestamp('2020-02-24 00:00:00'), Timestamp('2019-02-27 00:00:00'), Timestamp('2018-02-21 00:00:00'), Timestamp('2017-02-27 00:00:00'), Timestamp('2016-02-22 00:00:00'), Timestamp('2015-02-23 00:00:00'), Timestamp('2014-02-24 00:00:00'), Timestamp('2013-02-19 00:00:00'), Timestamp('2012-02-21 00:00:00'), Timestamp('2011-02-22 00:00:00'), Timestamp('2010-02-22 00:00:00'), Timestamp('2009-02-19 00:00:00'), Timestamp('2008-02-25 00:00:00'), Timestamp('2007-02-28 00:00:00'), Timestamp('2006-03-07 00:00:00'), Timestamp('2020-02-26 00:00:00'), Timestamp('2019-02-27 00:00:00'), Timestamp('2018-02-28 00:00:00'), Timestamp('2017-02-23 00:00:00'), Timestamp('2016-02-24 00:00:00'), Timestamp('2015-02-20 00:00:00'), Timestamp('2014-02-28 00:00:00'), Timestamp('2013-03-01 00:00:00'), Timestamp('2012-02-28 00:00:00'), Timestamp('2011-02-24 00:00:00'), Timestamp('2010-03-02 00:00:00'), Timestamp('2009-03-02 00:00:00'), Timestamp('2008-03-03 00:00:00'), Timestamp('2007-03-09 00:00:00'), Timestamp('2006-03-02 00:00:00'), Timestamp('2005-02-18 00:00:00'), Timestamp('2020-03-18 00:00:00'), Timestamp('2019-03-19 00:00:00'), Timestamp('2018-03-20 00:00:00'), Timestamp('2017-03-14 00:00:00'), Timestamp('2016-03-16 00:00:00'), Timestamp('2015-03-17 00:00:00'), Timestamp('2014-03-18 00:00:00'), Timestamp('2013-03-18 00:00:00'), Timestamp('2012-03-19 00:00:00'), Timestamp('2011-03-22 00:00:00'), Timestamp('2010-03-23 00:00:00'), Timestamp('2009-03-24 00:00:00'), Timestamp('2008-03-24 00:00:00'), Timestamp('2007-03-26 00:00:00'), Timestamp('2020-03-02 00:00:00'), Timestamp('2019-02-15 00:00:00'), Timestamp('2018-02-21 00:00:00'), Timestamp('2017-02-21 00:00:00'), Timestamp('2016-02-19 00:00:00'), Timestamp('2015-02-20 00:00:00'), Timestamp('2014-02-20 00:00:00'), Timestamp('2013-02-19 00:00:00'), Timestamp('2012-02-21 00:00:00'), Timestamp('2011-02-14 00:00:00'), Timestamp('2010-02-12 00:00:00'), Timestamp('2009-02-17 00:00:00'), Timestamp('2008-02-21 00:00:00'), Timestamp('2007-02-22 00:00:00'), Timestamp('2006-02-23 00:00:00'), Timestamp('2005-02-23 00:00:00'), Timestamp('2019-11-18 00:00:00'), Timestamp('2018-11-19 00:00:00'), Timestamp('2017-11-20 00:00:00'), Timestamp('2016-11-14 00:00:00'), Timestamp('2015-11-16 00:00:00'), Timestamp('2014-11-18 00:00:00'), Timestamp('2013-11-18 00:00:00'), Timestamp('2012-11-19 00:00:00'), Timestamp('2011-11-22 00:00:00'), Timestamp('2010-11-22 00:00:00'), Timestamp('2009-11-24 00:00:00'), Timestamp('2008-12-01 00:00:00'), Timestamp('2007-12-14 00:00:00'), Timestamp('2006-02-16 00:00:00'), Timestamp('2020-02-27 00:00:00'), Timestamp('2019-02-28 00:00:00'), Timestamp('2018-02-22 00:00:00'), Timestamp('2017-02-21 00:00:00'), Timestamp('2016-02-22 00:00:00'), Timestamp('2015-02-23 00:00:00'), Timestamp('2014-02-26 00:00:00'), Timestamp('2013-02-19 00:00:00'), Timestamp('2012-02-27 00:00:00'), Timestamp('2011-02-28 00:00:00'), Timestamp('2010-03-02 00:00:00'), Timestamp('2009-03-02 00:00:00'), Timestamp('2008-03-03 00:00:00'), Timestamp('2007-03-12 00:00:00'), Timestamp('2006-03-16 00:00:00')]\n"
     ]
    },
    {
     "name": "stdout",
     "output_type": "stream",
     "text": [
      "[27.090000152587891, 13.359999656677246, 11.039999961853027, 3.8399999141693115, 2.2799999713897705, 4.0900001525878906, 4.0199999809265137, 6.0199999809265137, 8.6700000762939453, 8.4700002670288086, 4.5300002098083496, 6.9200000762939453, 14.310000419616699, 30.479999542236328, 16.719999313354492, 15.510000228881836, 1911.52001953125, 1569.6800537109375, 948.95001220703125, 659.59002685546875, 421.77999877929688, 304.1300048828125, 253.80999755859375, 230.03999328613281, 195.07000732421875, 141.72999572753906, 80.519996643066406, 74.529998779296875, 63.220001220703125, 31.610000610351563, 34.869998931884766, 43.619998931884766, 371.19000244140625, 274.77999877929688, 320.010009765625, 216.49000549316406, 179.77999877929688, 138.55999755859375, 112.94000244140625, 64.629997253417969, 27.898456573486328, 23.66253662109375, 25.415637969970703, 19.174156188964844, 16.49390983581543, 18.6829833984375, 17.601566314697266, 14.630092620849609, 13.345221519470215, 8.6953153610229492, 6.2381076812744141, 9.9290695190429688, 10.688166618347168, 56.148853302001953, 57.329902648925781, 70.264694213867188, 59.989425659179688, 50.903347015380859, 44.396358489990234, 37.813823699951172, 34.983566284179688, 29.537893295288086, 22.812345504760742, 121.40744018554688, 111.84517669677734, 132.26675415039063, 119.58321380615234, 93.551689147949219, 65.636085510253906, 56.68096923828125, 40.901832580566406, 32.967029571533203, 26.08336067199707, 24.668947219848633, 32.832134246826172, 35.634670257568359, 31.00029182434082, 29.921144485473633, 21.235738754272461, 22.048145294189453, 23.768657684326172, 250.27000427246094, 200.67999267578125, 147.60000610351563, 148.88999938964844, 154.16999816894531, 126.59999847412109, 86.139999389648438, 38.689998626708984, 29.930000305175781, 128.21670532226563, 109.89170074462891, 114.73566436767578, 144.40934753417969, 113.71982574462891, 99.44317626953125, 93.831321716308594, 79.076644897460938, 64.325408935546875, 54.328483581542969, 36.646350860595703, 54.198570251464844, 58.549949645996094, 44.363685607910156, 35.285579681396484, 36.470695495605469, 33.435806274414063, 29.710884094238281, 26.115650177001953, 28.268686294555664, 26.819942474365234, 24.717306137084961, 17.48036003112793, 23.126096725463867, 27.930322647094727, 1193.4599609375, 1059.4599609375, 948.45001220703125, 730.54998779296875, 17.300409317016602, 30.649490356445313, 19.836442947387695, 17.499414443969727, 32.298633575439453, 33.617725372314453, 32.995288848876953, 20.645654678344727, 13.613542556762695, 15.009807586669922, 12.114725112915039, 11.919356346130371, 13.542499542236328, 166.94943237304688, 133.96221923828125, 118.65168762207031, 100.01766204833984, 89.464912414550781, 77.793922424316406, 65.619636535644531, 44.662555694580078, 47.677692413330078, 35.488124847412109, 35.488124847412109, 22.927453994750977, 44.211498260498047, 40.580055236816406, 28.350002288818359, 24.452144622802734, 128.78390502929688, 87.921577453613281, 106.47713470458984, 84.238059997558594, 84.190864562988281, 84.549217224121094, 76.15106201171875, 57.689945220947266, 45.682510375976563, 37.72625732421875, 27.067182540893555, 27.831491470336914, 37.613849639892578, 40.600330352783203, 45.032218933105469, 105.12644195556641, 99.773139953613281, 77.337440490722656, 56.654666900634766, 57.07427978515625, 45.416042327880859, 44.912033081054688, 26.87910270690918, 33.586017608642578, 29.722438812255859, 26.419338226318359, 32.290687561035156, 37.226295471191406, 29.32185173034668, 24.004238128662109, 23.045965194702148, 31.008249282836914, 47.798374176025391, 41.752738952636719, 32.182750701904297, 58.431884765625, 53.004280090332031, 45.685970306396484, 36.806995391845703, 33.040164947509766, 26.551218032836914, 12.889602661132813, 22.232349395751953, 33.745700836181641, 23.933750152587891, 122.97112274169922, 135.03117370605469, 100.50983428955078, 62.440471649169922, 75.492294311523438, 54.331066131591797, 39.410247802734375, 34.689662933349609, 30.590011596679688, 30.410680770874023, 18.563796997070313, 28.875444412231445, 35.705963134765625, 28.730972290039063, 25.941205978393555, 19.122768402099609, 68.944412231445313, 53.734470367431641, 54.185401916503906, 51.763889312744141, 42.114261627197266, 33.352542877197266, 24.229124069213867, 21.158226013183594, 14.159702301025391, 9.7222318649291992, 4.0459756851196289, 7.6334371566772461, 12.447850227355957, 11.418314933776855, 77.710586547851563, 52.669841766357422, 64.081092834472656, 59.380355834960938, 56.525074005126953, 48.279354095458984, 53.170505523681641, 38.252296447753906, 33.5565185546875, 25.623287200927734, 19.740964889526367, 25.710002899169922, 22.099353790283203, 16.909391403198242, 16.941041946411133]\n",
      "[Timestamp('2019-05-08 00:00:00'), Timestamp('2018-05-29 00:00:00'), Timestamp('2017-05-22 00:00:00'), Timestamp('2016-05-18 00:00:00'), Timestamp('2015-05-19 00:00:00'), Timestamp('2014-05-19 00:00:00'), Timestamp('2013-05-21 00:00:00'), Timestamp('2012-05-24 00:00:00'), Timestamp('2011-05-18 00:00:00'), Timestamp('2010-05-19 00:00:00'), Timestamp('2009-05-26 00:00:00'), Timestamp('2008-05-27 00:00:00'), Timestamp('2007-06-01 00:00:00'), Timestamp('2006-05-30 00:00:00'), Timestamp('2005-06-01 00:00:00'), Timestamp('2004-06-09 00:00:00'), Timestamp('2019-05-01 00:00:00'), Timestamp('2018-05-02 00:00:00'), Timestamp('2017-05-10 00:00:00'), Timestamp('2016-04-29 00:00:00'), Timestamp('2015-04-30 00:00:00'), Timestamp('2014-04-30 00:00:00'), Timestamp('2013-04-30 00:00:00'), Timestamp('2012-05-01 00:00:00'), Timestamp('2011-04-28 00:00:00'), Timestamp('2010-04-29 00:00:00'), Timestamp('2009-04-30 00:00:00'), Timestamp('2008-05-12 00:00:00'), Timestamp('2007-05-16 00:00:00'), Timestamp('2006-05-17 00:00:00'), Timestamp('2005-06-13 00:00:00'), Timestamp('2004-05-25 00:00:00'), Timestamp('2019-04-30 00:00:00'), Timestamp('2018-05-02 00:00:00'), Timestamp('2017-05-16 00:00:00'), Timestamp('2016-05-10 00:00:00'), Timestamp('2015-05-26 00:00:00'), Timestamp('2014-05-21 00:00:00'), Timestamp('2013-05-22 00:00:00'), Timestamp('2012-05-29 00:00:00'), Timestamp('2019-05-28 00:00:00'), Timestamp('2018-05-22 00:00:00'), Timestamp('2017-05-30 00:00:00'), Timestamp('2016-05-26 00:00:00'), Timestamp('2015-05-26 00:00:00'), Timestamp('2014-05-27 00:00:00'), Timestamp('2013-05-28 00:00:00'), Timestamp('2012-05-29 00:00:00'), Timestamp('2011-06-01 00:00:00'), Timestamp('2010-05-26 00:00:00'), Timestamp('2009-05-26 00:00:00'), Timestamp('2008-05-28 00:00:00'), Timestamp('2007-05-29 00:00:00'), Timestamp('2019-05-28 00:00:00'), Timestamp('2018-05-22 00:00:00'), Timestamp('2017-05-22 00:00:00'), Timestamp('2016-05-23 00:00:00'), Timestamp('2015-05-26 00:00:00'), Timestamp('2014-05-27 00:00:00'), Timestamp('2013-05-28 00:00:00'), Timestamp('2012-05-29 00:00:00'), Timestamp('2011-05-31 00:00:00'), Timestamp('2010-06-01 00:00:00'), Timestamp('2019-05-21 00:00:00'), Timestamp('2018-06-01 00:00:00'), Timestamp('2017-05-22 00:00:00'), Timestamp('2016-05-24 00:00:00'), Timestamp('2015-05-26 00:00:00'), Timestamp('2014-05-28 00:00:00'), Timestamp('2013-05-22 00:00:00'), Timestamp('2012-05-23 00:00:00'), Timestamp('2011-05-23 00:00:00'), Timestamp('2010-05-24 00:00:00'), Timestamp('2009-05-26 00:00:00'), Timestamp('2008-05-27 00:00:00'), Timestamp('2007-05-29 00:00:00'), Timestamp('2006-06-02 00:00:00'), Timestamp('2005-06-16 00:00:00'), Timestamp('2004-06-14 00:00:00'), Timestamp('2003-06-30 00:00:00'), Timestamp('2002-06-12 00:00:00'), Timestamp('2019-06-03 00:00:00'), Timestamp('2018-06-01 00:00:00'), Timestamp('2017-06-01 00:00:00'), Timestamp('2016-05-31 00:00:00'), Timestamp('2015-06-02 00:00:00'), Timestamp('2014-06-03 00:00:00'), Timestamp('2013-06-03 00:00:00'), Timestamp('2012-05-29 00:00:00'), Timestamp('2011-06-27 00:00:00'), Timestamp('2019-05-13 00:00:00'), Timestamp('2018-05-14 00:00:00'), Timestamp('2017-05-15 00:00:00'), Timestamp('2016-05-09 00:00:00'), Timestamp('2015-05-11 00:00:00'), Timestamp('2014-05-12 00:00:00'), Timestamp('2013-05-13 00:00:00'), Timestamp('2012-05-16 00:00:00'), Timestamp('2011-05-16 00:00:00'), Timestamp('2010-05-17 00:00:00'), Timestamp('2009-05-26 00:00:00'), Timestamp('2008-05-27 00:00:00'), Timestamp('2007-06-01 00:00:00'), Timestamp('2006-06-07 00:00:00'), Timestamp('2005-06-07 00:00:00'), Timestamp('2019-05-06 00:00:00'), Timestamp('2018-05-07 00:00:00'), Timestamp('2017-05-08 00:00:00'), Timestamp('2016-05-03 00:00:00'), Timestamp('2015-05-04 00:00:00'), Timestamp('2014-05-06 00:00:00'), Timestamp('2013-05-15 00:00:00'), Timestamp('2012-05-29 00:00:00'), Timestamp('2011-06-01 00:00:00'), Timestamp('2011-02-18 00:00:00'), Timestamp('2019-05-06 00:00:00'), Timestamp('2018-05-07 00:00:00'), Timestamp('2017-05-03 00:00:00'), Timestamp('2016-05-11 00:00:00'), Timestamp('2019-06-19 00:00:00'), Timestamp('2018-06-20 00:00:00'), Timestamp('2017-06-20 00:00:00'), Timestamp('2016-06-21 00:00:00'), Timestamp('2015-06-23 00:00:00'), Timestamp('2014-06-24 00:00:00'), Timestamp('2013-06-26 00:00:00'), Timestamp('2012-06-26 00:00:00'), Timestamp('2011-06-28 00:00:00'), Timestamp('2010-06-28 00:00:00'), Timestamp('2009-06-29 00:00:00'), Timestamp('2008-06-30 00:00:00'), Timestamp('2007-07-02 00:00:00'), Timestamp('2019-05-08 00:00:00'), Timestamp('2018-05-09 00:00:00'), Timestamp('2017-05-10 00:00:00'), Timestamp('2016-05-12 00:00:00'), Timestamp('2015-05-13 00:00:00'), Timestamp('2014-05-14 00:00:00'), Timestamp('2013-05-15 00:00:00'), Timestamp('2012-05-17 00:00:00'), Timestamp('2011-05-11 00:00:00'), Timestamp('2010-05-12 00:00:00'), Timestamp('2010-05-12 00:00:00'), Timestamp('2009-05-13 00:00:00'), Timestamp('2008-05-15 00:00:00'), Timestamp('2007-05-16 00:00:00'), Timestamp('2006-06-01 00:00:00'), Timestamp('2005-05-25 00:00:00'), Timestamp('2019-05-22 00:00:00'), Timestamp('2018-05-29 00:00:00'), Timestamp('2017-05-22 00:00:00'), Timestamp('2016-05-26 00:00:00'), Timestamp('2015-05-20 00:00:00'), Timestamp('2014-05-21 00:00:00'), Timestamp('2013-05-22 00:00:00'), Timestamp('2012-05-17 00:00:00'), Timestamp('2011-05-18 00:00:00'), Timestamp('2010-05-19 00:00:00'), Timestamp('2009-05-20 00:00:00'), Timestamp('2008-05-19 00:00:00'), Timestamp('2007-05-23 00:00:00'), Timestamp('2006-05-30 00:00:00'), Timestamp('2005-06-07 00:00:00'), Timestamp('2019-05-28 00:00:00'), Timestamp('2018-05-29 00:00:00'), Timestamp('2017-05-30 00:00:00'), Timestamp('2016-05-23 00:00:00'), Timestamp('2015-05-26 00:00:00'), Timestamp('2014-05-20 00:00:00'), Timestamp('2013-05-28 00:00:00'), Timestamp('2012-05-29 00:00:00'), Timestamp('2011-05-31 00:00:00'), Timestamp('2010-05-24 00:00:00'), Timestamp('2009-06-02 00:00:00'), Timestamp('2008-05-29 00:00:00'), Timestamp('2007-06-01 00:00:00'), Timestamp('2006-06-09 00:00:00'), Timestamp('2005-06-02 00:00:00'), Timestamp('2004-05-18 00:00:00'), Timestamp('2019-06-18 00:00:00'), Timestamp('2018-06-19 00:00:00'), Timestamp('2017-06-20 00:00:00'), Timestamp('2016-06-14 00:00:00'), Timestamp('2015-06-16 00:00:00'), Timestamp('2014-06-17 00:00:00'), Timestamp('2013-06-18 00:00:00'), Timestamp('2012-06-18 00:00:00'), Timestamp('2011-06-20 00:00:00'), Timestamp('2010-06-22 00:00:00'), Timestamp('2009-06-23 00:00:00'), Timestamp('2008-06-24 00:00:00'), Timestamp('2007-06-25 00:00:00'), Timestamp('2006-06-26 00:00:00'), Timestamp('2019-06-03 00:00:00'), Timestamp('2018-05-15 00:00:00'), Timestamp('2017-05-22 00:00:00'), Timestamp('2016-05-18 00:00:00'), Timestamp('2015-05-19 00:00:00'), Timestamp('2014-05-20 00:00:00'), Timestamp('2013-05-20 00:00:00'), Timestamp('2012-05-16 00:00:00'), Timestamp('2011-05-18 00:00:00'), Timestamp('2010-05-12 00:00:00'), Timestamp('2009-05-12 00:00:00'), Timestamp('2008-05-15 00:00:00'), Timestamp('2007-05-21 00:00:00'), Timestamp('2006-05-22 00:00:00'), Timestamp('2005-05-23 00:00:00'), Timestamp('2004-05-24 00:00:00'), Timestamp('2019-02-19 00:00:00'), Timestamp('2018-02-20 00:00:00'), Timestamp('2017-02-21 00:00:00'), Timestamp('2016-02-12 00:00:00'), Timestamp('2015-02-17 00:00:00'), Timestamp('2014-02-18 00:00:00'), Timestamp('2013-02-19 00:00:00'), Timestamp('2012-02-21 00:00:00'), Timestamp('2011-02-22 00:00:00'), Timestamp('2010-02-22 00:00:00'), Timestamp('2009-02-24 00:00:00'), Timestamp('2008-02-29 00:00:00'), Timestamp('2007-03-14 00:00:00'), Timestamp('2005-05-16 00:00:00'), Timestamp('2019-05-28 00:00:00'), Timestamp('2018-05-29 00:00:00'), Timestamp('2017-05-22 00:00:00'), Timestamp('2016-05-18 00:00:00'), Timestamp('2015-05-20 00:00:00'), Timestamp('2014-05-21 00:00:00'), Timestamp('2013-05-28 00:00:00'), Timestamp('2012-05-17 00:00:00'), Timestamp('2011-05-25 00:00:00'), Timestamp('2010-05-26 00:00:00'), Timestamp('2009-06-02 00:00:00'), Timestamp('2008-05-28 00:00:00'), Timestamp('2007-06-01 00:00:00'), Timestamp('2006-06-12 00:00:00'), Timestamp('2005-06-16 00:00:00')]\n"
     ]
    }
   ],
   "source": [
    "# To-do: create 6 month window as well.\n",
    "# Getting an error at index 209: issue was SBUX 2019 is in Nov, so next year is Nov 2020, hasn't happened yet.\n",
    "stock_prices_next_year = []\n",
    "given_dates_next_year = []\n",
    "stock_prices_three_months = []\n",
    "given_dates_three_months = []\n",
    "\n",
    "for i, row in tqdm(new_all_data.iterrows(), desc='Getting stock prices', unit='Filings'):\n",
    "    date_one_year = spct.add_years(given_dates[i], 1)\n",
    "    given_date, stock_price = get_current_stock_price_date(row['TICKER'], date_one_year)\n",
    "    stock_prices_next_year.append(stock_price)\n",
    "    given_dates_next_year.append(given_date)\n",
    "    \n",
    "for i, row in tqdm(new_all_data.iterrows(), desc='Getting stock prices', unit='Filings'):\n",
    "    date_three_months = spct.add_months(given_dates[i], 3)\n",
    "    given_date, stock_price = get_current_stock_price_date(row['TICKER'], date_three_months)\n",
    "    stock_prices_three_months.append(stock_price)\n",
    "    given_dates_three_months.append(given_date)\n",
    "\n",
    "print(stock_prices_next_year)\n",
    "print(given_dates_next_year)\n",
    "print(stock_prices_three_months)\n",
    "print(given_dates_three_months)"
   ]
  },
  {
   "cell_type": "code",
   "execution_count": 13,
   "metadata": {},
   "outputs": [
    {
     "name": "stdout",
     "output_type": "stream",
     "text": [
      "[133.40564432886893, 87.390263708079146, -16.285712378365652, 632.98430600313645, -37.581699270018397, -16.756759891551766, 41.923084329571516, -66.085791441655147, -20.697168106804874, 11.601520467168138, 279.7170106267215, -70.687238700932426, -54.293439849104089, -62.875430033876803, 123.10691390550681, 16.586378839482695, 23.242098303597729, 14.221484273293411, 67.528332929486055, 41.461670337787474, 62.132964639876995, 1.6114189801654886, 47.752601311284657, 47.665212351473173, 12.2764956069684, 35.268315474025016, 102.09113118550701, -14.416815554345153, 78.725510931050934, 5.9198769485107352, 4.1438809401697387, -18.514199353740157, 60.71590618082152, -13.032258064516128, 12.698025424418297, 101.48993907946536, -1.1138048820055388, 40.614008880790777, 45.354042237700966, 37.061503337575083, -20.331074868501926, 21.012907395492817, 2.9001077666657951, 51.163646724767361, -6.9968058332778211, -7.0745323152849844, 15.023053837967623, 14.969566163985506, 29.041483379262335, 24.76999525880602, 42.656662896055643, -33.463533147801691, -10.824028347359191, 16.22074967244119, 6.8947203163935402, -20.612629304138391, 23.177210493724441, 6.3674776467507685, 29.887592396252689, 16.059196969668491, 19.239245985659537, 16.978664179556599, 15.807030912314552, 46.164229225355371, 0.40228725742654114, -9.6448653788381833, 25.261781050926391, 15.761562017723762, 37.156777152778545, 30.764175337730482, 27.253655873841389, 24.385866494861077, 10.811872093312322, 48.863021455354641, -40.410255638438855, -7.3795766681085802, 2.7846990665200999, 25.195052043674611, 18.330712355793175, 28.035430159459253, -36.749770062213585, 20.876015228052943, 16.811014683882199, 21.2443095599393, 29.023413618932036, -12.250188309224736, 21.512130749022994, 81.077636306288213, 89.954087649651925, 20.066483405951686, -4.9954637448530947, 30.506691608865793, -20.427864001413532, -0.73789520721424817, 5.7427935218051012, 29.034321920880004, 6.5692479870784357, 17.079079020268072, 24.694016893422997, 25.786708146870524, 71.321579025376636, -40.328252362168882, -18.285687305305935, 28.409855480925444, 41.873505600813878, -10.36410694111496, -0.75812976182340952, 27.05419686858297, 31.773500908121616, -16.706128846520784, 5.7979014655686179, 30.799717946629183, 3.5525420879640475, -19.666154144168139, -36.589643787566928, 25.5393451481483, 3.5465598547263957, 29.539220406920887, 18.772302985863131, -66.971953977479288, -18.926252473534458, 42.604712850909706, -19.609412785734172, -31.95522614453251, 7.5837961344627312, 15.732760032664014, 33.04506702276592, 21.295545442981716, -3.4887241711790749, 81.288229411471079, -32.146773531229861, 19.70748060590779, 21.49289381079824, 6.9674012661666644, 25.299938039918008, 22.885852039661078, 2.7324152175292871, 12.23569403281712, 37.58475160025538, 21.296935576824421, 6.5420544844637067, 56.659736031205163, 56.659736031205163, 22.206752004425052, -42.759958564072356, 20.247487345695507, 14.493251530402732, 11.594007879591899, 47.176597994421833, 14.724218062468589, -6.2486555471752858, 21.834145479023189, -13.707958472814674, 2.0373588674181313, 33.654163448186139, 35.376824382775283, 25.497779557025108, 30.42006649695508, 16.771173538330466, -2.2733514574099645, -25.516961379653136, 5.468324933099459, -18.108037816581994, 23.823317283323167, -8.0769913263845812, 31.072166034263415, 66.97713847325862, -5.1672551597366034, 6.6313068884144286, 19.370328786645921, 28.314966140094416, -13.6816116128788, 12.941322238756111, 97.807413710397483, -45.872059651311069, -16.46093545539776, 22.608884383802593, 17.005827467236539, -6.6812346425547746, -53.132290329842306, -7.1021638685949764, 19.867283615339744, -19.426840730808767, -22.315311515239067, 31.603022979706285, 19.091498645296564, -0.51123118663834055, 34.25648117171491, 5.530585986042289, 167.80373867155262, -54.596715901622595, -28.804392120109494, 32.392604333690336, 0.29542962473411771, -13.285853925263597, 63.374813269694044, 37.736855712447571, -19.943194280944159, 62.216543101883062, 32.378758317742701, 18.841542534375144, -9.9291717939912125, 53.69599927147798, 73.408063635368876, -57.601338297732973, -28.140603651481211, 45.710248806612583, 10.671428534877315, 40.752920043782922, 25.583429044426175, 22.052174940621303, 3.7559045805339148, -10.303539148529541, 57.352946216364877, -2.2387544292425696, 67.367099897590975, 20.115602588257833, 39.033170543600562, 46.160715100707797, 152.4260545361503, -65.494793075789644, -41.939882845714202, 42.290150329363705, 5.9110857326867183, 49.313810566757077, -16.285967586774678, 23.526938787018796, -18.731086578269636, 45.166772571613393, -1.0180803375745426, 24.92281715279378, 13.710714590473479, 26.817741186161893, 57.812627000350957, -25.880690434974589, -4.2962935250482719, 31.591656011420977, 21.20452809754892]\n",
      "[17.527119519516933, 6.6241016871054628, -21.14285741533552, 101.04711943853546, -25.490195620110374, 10.540543239947354, 54.615389553047677, -19.302949729986167, -5.555557864135281, 6.8095895382045484, 113.67926671438038, -2.9453020305237305, -3.2454330187583675, -24.963071531961614, -6.9042307033868822, 6.7446697448097437, 17.543031581564314, 9.7716778426091526, 14.682279144404356, 12.366273740284285, 18.968775627324185, -15.210905569498385, -6.9475038600102925, 28.184545124257603, 13.982708904939811, 13.013309615555425, 36.892208535920219, -0.87778114201246349, 56.756752666504482, -19.341664409223682, 0.34532066729428956, 1.5836057916238877, 12.125061509907129, -29.089032573084676, -1.3715039778854308, 34.399058251951701, 1.1306713497938043, 10.777099080751906, 32.839340038502328, 1.6674493686997038, -3.447436844518819, -4.8759678706397374, 4.9403030634273453, 22.043020347382853, -2.3621591166982996, 2.7721718296006728, 11.322014744516284, 4.8976129938557946, 24.302584042610174, -0.348594702672053, -3.2212795324767827, 11.849520620386887, 7.368439507076924, -1.7451401540507683, 4.5841350061572923, 2.8784570422002642, 7.246884044726813, -7.2693907566032649, 6.2631228335569098, 3.5073710625310777, 8.6252072094374377, 6.9817680011810133, -4.5483326938093009, 11.523950036961795, 3.1814519926366991, 6.70199833735004, 20.541108765164338, 7.0227275226652921, 0.76232442246783372, 14.158834589354521, 6.8424733251796068, 7.1154261372721033, -6.0877942775551004, 29.965427652552179, 4.4639915435933935, 6.9291742735326167, -1.9793877303507585, 14.471033364095277, -3.5497331246253818, 28.313979341583174, -2.5623470942064279, 7.260104705125686, 0.46557831077909889, -10.409707979656677, 16.602706980110156, 0.032444233935896453, -0.60454130160690478, 22.462331353928001, 4.4828514775436608, -9.5497123990341635, -1.4420423763056762, 7.4001247010537545, -10.772373280209591, 12.205539347712397, -6.5211730649759865, 5.573267354239583, 8.242909844419497, 6.4599479488395728, 5.3661009177665502, 12.556460454288528, 26.620820661031047, 11.697848045397921, 2.2131517142134687, 1.5142013881736045, 14.550698039026283, -3.6130825891520417, -12.303797792576026, -2.2291443272283851, 9.4118700912628466, -0.38894257824369338, -0.48671114320325187, 16.390458721133516, -13.64325078345153, -8.2549289934380976, 6.7855779450558877, 3.610647555419765, -2.3026005861779124, 15.6463007767353, 3.4245997710879168, -29.194704245485504, 3.1836219318845909, -4.7674996664576135, -30.567556177022393, -9.4295153332088191, 2.0055165740292749, 19.300712582259159, -0.6841557546431114, -18.720889355837194, -13.510980954739191, 27.587065458625382, -14.233097436370404, 11.509227913672252, 15.246980733320301, -0.99469380109710082, 8.7214110987473692, 11.008570923891368, 0.5805555698510807, -1.4805733266266285, 14.650353889397541, -6.4411268981437537, 6.3380553111125657, 24.815825193962311, 24.815825193962311, -4.1382571211337993, 11.973802461306468, 22.775555220341342, 1.1381848282169078, -3.3560711017753735, 19.252401708223651, -6.0524918100009906, 6.1204016861957191, 0.83139950453922762, -10.894527276651605, -9.4191893721466755, 8.6664848531365823, 13.014680254368862, 12.643751248681712, 18.751825532277934, 1.5676460180842098, 2.4408882426301086, -1.5068380125412844, 12.529649283627634, 1.0269554957425067, 3.856374028273172, -9.2815537671338841, -6.347286856082758, 13.916304540749886, 8.7913302464108707, -6.1156644842807095, 12.308679978899351, -13.735633742388032, -6.8869241212402716, -5.3532266391326795, 63.333669795608607, 8.0569187436496001, 6.2365797888299426, 3.3962703992491865, -2.4105387121290427, -11.416753006092978, -26.453157493201424, 4.4441840066423861, 9.3817378409188237, -33.930157569617748, -8.1058196309574893, 9.7294597740235957, 12.058147125742884, -10.18166351997459, 9.2614388385385045, -10.187713397558493, 16.28481301480037, -12.099114932131474, -5.0096378424075594, -9.912732607868783, 0.30450291677090374, -1.4908720404776266, 19.228872844920041, 2.0209165256184245, -2.4101278826458956, 14.069237979213822, 9.5337059817772491, 11.464562879380503, -10.178145264973187, 36.975499580970975, 44.994941149663681, 1.2906199060881962, -9.9192872308062601, 6.1930377462348511, 5.449978480724412, 9.4118879584957096, 3.5304590409032452, -1.1530277469230688, 3.6386757512746728, -8.2322719652340677, 18.235930782293401, -7.8098703637606901, 12.089073435721177, 15.255605942129302, 6.5801421793667494, 6.9593625727073505, 12.781051246436142, -21.961810201852952, -19.890702890117499, 6.7473911776673887, 8.896697470376683, 10.337261429171807, 6.4984944943518332, 23.288032742895467, -7.2315195647796902, 14.088365741388865, 18.288308938890314, 2.1088413831011441, 3.2517110237596638, -2.6189054550375861, 21.567390467849911, 17.349760885682358, -3.6734195052906586, -0.83500735623024536, 16.510505770834648]\n"
     ]
    }
   ],
   "source": [
    "percent_changes_one_year = []\n",
    "percent_changes_three_months = []\n",
    "\n",
    "for old, new in zip(stock_prices, stock_prices_next_year):\n",
    "    change = spct.percent_change(old,new)\n",
    "    percent_changes_one_year.append(change)\n",
    "    \n",
    "for old, new in zip(stock_prices, stock_prices_three_months):\n",
    "    change = spct.percent_change(old,new)\n",
    "    percent_changes_three_months.append(change)\n",
    "\n",
    "new_all_data['% change 1 year'] = percent_changes_one_year\n",
    "new_all_data['% change 3 months'] = percent_changes_three_months\n",
    "\n",
    "print(percent_changes_one_year)\n",
    "print(percent_changes_three_months)"
   ]
  },
  {
   "cell_type": "code",
   "execution_count": 3,
   "metadata": {},
   "outputs": [
    {
     "ename": "NameError",
     "evalue": "name 'new_all_data' is not defined",
     "output_type": "error",
     "traceback": [
      "\u001b[1;31m---------------------------------------------------------------------------\u001b[0m",
      "\u001b[1;31mNameError\u001b[0m                                 Traceback (most recent call last)",
      "\u001b[1;32m<ipython-input-3-c20e1881020d>\u001b[0m in \u001b[0;36m<module>\u001b[1;34m\u001b[0m\n\u001b[1;32m----> 1\u001b[1;33m \u001b[0mnew_all_data\u001b[0m\u001b[1;33m.\u001b[0m\u001b[0mhead\u001b[0m\u001b[1;33m(\u001b[0m\u001b[1;33m)\u001b[0m\u001b[1;33m\u001b[0m\u001b[0m\n\u001b[0m\u001b[0;32m      2\u001b[0m \u001b[1;31m# To-do balance the training data to have less neutral labels\u001b[0m\u001b[1;33m\u001b[0m\u001b[1;33m\u001b[0m\u001b[0m\n",
      "\u001b[1;31mNameError\u001b[0m: name 'new_all_data' is not defined"
     ]
    }
   ],
   "source": [
    "new_all_data.head()\n",
    "# To-do balance the training data to have less neutral labels"
   ]
  },
  {
   "cell_type": "code",
   "execution_count": 15,
   "metadata": {},
   "outputs": [],
   "source": [
    "new_all_data.to_pickle(\"./full_data_df_1.pkl\")"
   ]
  },
  {
   "cell_type": "code",
   "execution_count": 4,
   "metadata": {},
   "outputs": [
    {
     "data": {
      "text/html": [
       "<div>\n",
       "<style scoped>\n",
       "    .dataframe tbody tr th:only-of-type {\n",
       "        vertical-align: middle;\n",
       "    }\n",
       "\n",
       "    .dataframe tbody tr th {\n",
       "        vertical-align: top;\n",
       "    }\n",
       "\n",
       "    .dataframe thead th {\n",
       "        text-align: right;\n",
       "    }\n",
       "</style>\n",
       "<table border=\"1\" class=\"dataframe\">\n",
       "  <thead>\n",
       "    <tr style=\"text-align: right;\">\n",
       "      <th></th>\n",
       "      <th>CIK</th>\n",
       "      <th>TICKER</th>\n",
       "      <th>DATE</th>\n",
       "      <th>TEXT</th>\n",
       "      <th>weighted_sentiments</th>\n",
       "      <th>unweighted_sentiments</th>\n",
       "      <th>weighted_sentiments_DBSCAN</th>\n",
       "      <th>weighted_sentiments_MeanShift</th>\n",
       "      <th>full_mean</th>\n",
       "      <th>full_mean_unrounded</th>\n",
       "      <th>full_mode</th>\n",
       "      <th>% change 1 year</th>\n",
       "      <th>% change 3 months</th>\n",
       "    </tr>\n",
       "  </thead>\n",
       "  <tbody>\n",
       "    <tr>\n",
       "      <td>0</td>\n",
       "      <td>0000002488</td>\n",
       "      <td>AMD</td>\n",
       "      <td>2019-02-08</td>\n",
       "      <td>Our 2018 financial results demonstrate the suc...</td>\n",
       "      <td>0.5</td>\n",
       "      <td>0.5</td>\n",
       "      <td>0.5</td>\n",
       "      <td>0.5</td>\n",
       "      <td>1.0</td>\n",
       "      <td>0.535714</td>\n",
       "      <td>0.5</td>\n",
       "      <td>133.405644</td>\n",
       "      <td>17.527120</td>\n",
       "    </tr>\n",
       "    <tr>\n",
       "      <td>1</td>\n",
       "      <td>0000002488</td>\n",
       "      <td>AMD</td>\n",
       "      <td>2018-02-27</td>\n",
       "      <td>2017 was an important year for AMD as we launc...</td>\n",
       "      <td>0.5</td>\n",
       "      <td>0.5</td>\n",
       "      <td>0.5</td>\n",
       "      <td>0.5</td>\n",
       "      <td>0.0</td>\n",
       "      <td>0.481481</td>\n",
       "      <td>0.5</td>\n",
       "      <td>87.390264</td>\n",
       "      <td>6.624102</td>\n",
       "    </tr>\n",
       "    <tr>\n",
       "      <td>2</td>\n",
       "      <td>0000002488</td>\n",
       "      <td>AMD</td>\n",
       "      <td>2017-02-21</td>\n",
       "      <td>As we continued to focus on our strategy to im...</td>\n",
       "      <td>0.5</td>\n",
       "      <td>0.5</td>\n",
       "      <td>0.5</td>\n",
       "      <td>0.5</td>\n",
       "      <td>1.0</td>\n",
       "      <td>0.509804</td>\n",
       "      <td>0.5</td>\n",
       "      <td>-16.285712</td>\n",
       "      <td>-21.142857</td>\n",
       "    </tr>\n",
       "    <tr>\n",
       "      <td>3</td>\n",
       "      <td>0000002488</td>\n",
       "      <td>AMD</td>\n",
       "      <td>2016-02-18</td>\n",
       "      <td>We faced a challenging business environment in...</td>\n",
       "      <td>0.5</td>\n",
       "      <td>0.5</td>\n",
       "      <td>0.5</td>\n",
       "      <td>0.5</td>\n",
       "      <td>0.0</td>\n",
       "      <td>0.500000</td>\n",
       "      <td>0.5</td>\n",
       "      <td>632.984306</td>\n",
       "      <td>101.047119</td>\n",
       "    </tr>\n",
       "    <tr>\n",
       "      <td>4</td>\n",
       "      <td>0000002488</td>\n",
       "      <td>AMD</td>\n",
       "      <td>2015-02-19</td>\n",
       "      <td>Net revenue for 2014 was $5.5 billion, an incr...</td>\n",
       "      <td>0.5</td>\n",
       "      <td>0.5</td>\n",
       "      <td>0.5</td>\n",
       "      <td>0.5</td>\n",
       "      <td>1.0</td>\n",
       "      <td>0.522727</td>\n",
       "      <td>0.5</td>\n",
       "      <td>-37.581699</td>\n",
       "      <td>-25.490196</td>\n",
       "    </tr>\n",
       "  </tbody>\n",
       "</table>\n",
       "</div>"
      ],
      "text/plain": [
       "           CIK TICKER       DATE  \\\n",
       "0   0000002488    AMD 2019-02-08   \n",
       "1   0000002488    AMD 2018-02-27   \n",
       "2   0000002488    AMD 2017-02-21   \n",
       "3   0000002488    AMD 2016-02-18   \n",
       "4   0000002488    AMD 2015-02-19   \n",
       "\n",
       "                                                TEXT  weighted_sentiments  \\\n",
       "0  Our 2018 financial results demonstrate the suc...                  0.5   \n",
       "1  2017 was an important year for AMD as we launc...                  0.5   \n",
       "2  As we continued to focus on our strategy to im...                  0.5   \n",
       "3  We faced a challenging business environment in...                  0.5   \n",
       "4  Net revenue for 2014 was $5.5 billion, an incr...                  0.5   \n",
       "\n",
       "   unweighted_sentiments  weighted_sentiments_DBSCAN  \\\n",
       "0                    0.5                         0.5   \n",
       "1                    0.5                         0.5   \n",
       "2                    0.5                         0.5   \n",
       "3                    0.5                         0.5   \n",
       "4                    0.5                         0.5   \n",
       "\n",
       "   weighted_sentiments_MeanShift  full_mean  full_mean_unrounded  full_mode  \\\n",
       "0                            0.5        1.0             0.535714        0.5   \n",
       "1                            0.5        0.0             0.481481        0.5   \n",
       "2                            0.5        1.0             0.509804        0.5   \n",
       "3                            0.5        0.0             0.500000        0.5   \n",
       "4                            0.5        1.0             0.522727        0.5   \n",
       "\n",
       "   % change 1 year  % change 3 months  \n",
       "0       133.405644          17.527120  \n",
       "1        87.390264           6.624102  \n",
       "2       -16.285712         -21.142857  \n",
       "3       632.984306         101.047119  \n",
       "4       -37.581699         -25.490196  "
      ]
     },
     "execution_count": 4,
     "metadata": {},
     "output_type": "execute_result"
    }
   ],
   "source": [
    "# Name used in the functions below is still new_all_data, so maybe change the name below when reopening this file.\n",
    "new_all_data = pd.read_pickle(\"./full_data_df_1.pkl\")\n",
    "new_all_data.head()"
   ]
  },
  {
   "cell_type": "markdown",
   "metadata": {},
   "source": [
    "Choosing spearmean versus pearson correlation:\n",
    "'I noted in a comment to the post that usually spearmanr() is used for ranks and it does not seem like you are correlating ranked data. I'm making that assessment based on non-integral values of the 2 sequences-usually ranks are non-negative integral values.\n",
    "\n",
    "Given the second issue (as it seems) I'd recommend using pearsonr(). Provided your version of scipy is 1.3.X or greater, the error message is informative and tells you exactly this issue:'\n",
    "\n",
    "Note: Set p-value to 0.05 or less to be statistically significant. \n",
    "'The null hypothesis is that the two variables are uncorrelated. The p-value is a number between zero and one that represents the probability that your data would have arisen if the null hypothesis were true.'"
   ]
  },
  {
   "cell_type": "code",
   "execution_count": 17,
   "metadata": {},
   "outputs": [],
   "source": [
    "# This block is for checking logit outputs on individual columns\n",
    "# from scipy import special, stats\n",
    "\n",
    "# normalised_sentiments_weighted = special.logit(new_all_data['full_mean_unrounded'])\n",
    "# normalised_sentiments_weighted_fixed = np.nan_to_num(normalised_sentiments_weighted)\n",
    "# # normalised_sentiments_weighted.values\n",
    "# normalised_sentiments_weighted_fixed\n",
    "# # np.isnan(normalised_sentiments_weighted_fixed).any()\n",
    "# # np.isinf(normalised_sentiments_weighted_fixed).any()"
   ]
  },
  {
   "cell_type": "code",
   "execution_count": 25,
   "metadata": {},
   "outputs": [
    {
     "name": "stdout",
     "output_type": "stream",
     "text": [
      "weighted_sentiments            1 year     r=-0.050994704451746364     p=0.4335826338188967\n",
      "unweighted_sentiments          1 year     r=nan                       p=nan\n",
      "weighted_sentiments_DBSCAN     1 year     r=-0.06924535039202072      p=0.2873655870349446\n",
      "weighted_sentiments_MeanShift  1 year     r=-0.04549583883503607      p=0.4848381950662208\n",
      "full_mean                      1 year     r=-0.07114038012496435      p=0.27434649762809193\n",
      "full_mean_unrounded            1 year     r=-0.08882127181888153      p=0.1720160449195358\n",
      "full_mode                      1 year     r=nan                       p=nan\n",
      "\n",
      "\n",
      "weighted_sentiments            3 months   r=-0.07086475034518555      p=0.27621481315395385\n",
      "unweighted_sentiments          3 months   r=nan                       p=nan\n",
      "weighted_sentiments_DBSCAN     3 months   r=-0.04400432937353048      p=0.49928259331642083\n",
      "weighted_sentiments_MeanShift  3 months   r=-0.003751647475437115     p=0.9540886896304036\n",
      "full_mean                      3 months   r=-0.0534469143564483       p=0.4117689600688962\n",
      "full_mean_unrounded            3 months   r=-0.12512998328588287      p=0.053876058043276866\n",
      "full_mode                      3 months   r=nan                       p=nan\n"
     ]
    }
   ],
   "source": [
    "# To-do: format printed lines with % stuff to make it more organised, google how to print with even spacing between\n",
    "# To-do: Reinclude MeanShift in the list below after restarting kernel with updated .py imports\n",
    "# To-do: Maybe calculate similarity scores between weighted sentiments lists and full sentiments lists\n",
    "# Using np.nan_to_num() to solve the infs error. Check the make sure the maths for this is okay\n",
    "from scipy import special, stats\n",
    "\n",
    "\n",
    "def logit_correlate(sentiments, percent_changes):\n",
    "    normalised_sentiments = special.logit(sentiments)\n",
    "#     print(normalised_sentiments.values)\n",
    "    normalised_sentiments_fixed = np.nan_to_num(normalised_sentiments)\n",
    "#     print(np.isnan(normalised_sentiments_fixed).any())\n",
    "#     print(np.isinf(normalised_sentiments_fixed).any())\n",
    "#     print(np.isnan(percent_changes.values).any())\n",
    "#     print(np.isinf(percent_changes.values).any())\n",
    "    r, p_value = stats.pearsonr(normalised_sentiments_fixed, percent_changes)\n",
    "    return r, p_value\n",
    "\n",
    "# for sentiment in ['weighted_sentiments', 'unweighted_sentiments', 'weighted_sentiments_DBSCAN', 'full_mean', 'full_mean_unrounded', 'full_mode']:\n",
    "#     print(sentiment)\n",
    "for sentiment in ['weighted_sentiments', 'unweighted_sentiments', 'weighted_sentiments_DBSCAN', 'weighted_sentiments_MeanShift', 'full_mean', 'full_mean_unrounded', 'full_mode']:\n",
    "    r_1yr, p_value_1yr = stats.pearsonr(new_all_data[sentiment], new_all_data['% change 1 year'])\n",
    "#     print(sentiment, '1 year', 'r=', r_1yr, 'p=', p_value_1yr)\n",
    "    time = '1 year'\n",
    "    print(f'{sentiment:30} {time:10} r={r_1yr:<25} p={p_value_1yr}')\n",
    "print('\\n')\n",
    "\n",
    "# for sentiment in ['weighted_sentiments', 'unweighted_sentiments', 'weighted_sentiments_DBSCAN', 'full_mean', 'full_mean_unrounded', 'full_mode']:\n",
    "for sentiment in ['weighted_sentiments', 'unweighted_sentiments', 'weighted_sentiments_DBSCAN', 'weighted_sentiments_MeanShift', 'full_mean', 'full_mean_unrounded', 'full_mode']:\n",
    "    r_3month, p_value_3month = stats.pearsonr(new_all_data[sentiment], new_all_data['% change 3 months'])\n",
    "#     print(sentiment, '3 months', 'r=', r_3month, 'p=', p_value_3month)\n",
    "    time = '3 months'\n",
    "    print(f'{sentiment:30} {time:10} r={r_3month:<25} p={p_value_3month}')\n",
    "    "
   ]
  },
  {
   "cell_type": "code",
   "execution_count": null,
   "metadata": {},
   "outputs": [],
   "source": [
    "# Results from correlation first attempt:\n",
    "\n",
    "# weighted_sentiments            1 year     r=-0.050994704451746364     p=0.4335826338188967\n",
    "# unweighted_sentiments          1 year     r=nan                       p=nan\n",
    "# weighted_sentiments_DBSCAN     1 year     r=-0.06924535039202072      p=0.2873655870349446\n",
    "# weighted_sentiments_MeanShift  1 year     r=-0.04549583883503607      p=0.4848381950662208\n",
    "# full_mean                      1 year     r=-0.07114038012496435      p=0.27434649762809193\n",
    "# full_mean_unrounded            1 year     r=-0.08882127181888153      p=0.1720160449195358\n",
    "# full_mode                      1 year     r=nan                       p=nan\n",
    "\n",
    "\n",
    "# weighted_sentiments            3 months   r=-0.07086475034518555      p=0.27621481315395385\n",
    "# unweighted_sentiments          3 months   r=nan                       p=nan\n",
    "# weighted_sentiments_DBSCAN     3 months   r=-0.04400432937353048      p=0.49928259331642083\n",
    "# weighted_sentiments_MeanShift  3 months   r=-0.003751647475437115     p=0.9540886896304036\n",
    "# full_mean                      3 months   r=-0.0534469143564483       p=0.4117689600688962\n",
    "# full_mean_unrounded            3 months   r=-0.12512998328588287      p=0.053876058043276866\n",
    "# full_mode                      3 months   r=nan                       p=nan"
   ]
  },
  {
   "cell_type": "code",
   "execution_count": 26,
   "metadata": {},
   "outputs": [
    {
     "data": {
      "image/png": "[encoded data removed]",
      "text/plain": [
       "<Figure size 432x288 with 2 Axes>"
      ]
     },
     "metadata": {
      "needs_background": "light"
     },
     "output_type": "display_data"
    }
   ],
   "source": [
    "# To-do: maybe leave x axis unlabelled as it means nothing.\n",
    "import numpy as np\n",
    "import matplotlib.pyplot as plt\n",
    "\n",
    "t = new_all_data.index\n",
    "data1 = new_all_data['weighted_sentiments']\n",
    "data2 = new_all_data['% change 1 year']\n",
    "\n",
    "fig, ax1 = plt.subplots()\n",
    "\n",
    "color = 'tab:purple'\n",
    "ax1.set_xlabel('index')\n",
    "ax1.set_ylabel('sentiment scores', color=color)\n",
    "ax1.plot(t, data1, color=color)\n",
    "ax1.tick_params(axis='y', labelcolor=color)\n",
    "ax1.set_ylim(0, 1)\n",
    "\n",
    "ax2 = ax1.twinx()  # instantiate a second axes that shares the same x-axis\n",
    "\n",
    "color = 'tab:blue'\n",
    "ax2.set_ylabel('% changes in stock price', color=color)  # we already handled the x-label with ax1\n",
    "ax2.plot(t, data2, color=color)\n",
    "ax2.tick_params(axis='y', labelcolor=color)\n",
    "\n",
    "fig.tight_layout()  # otherwise the right y-label is slightly clipped\n",
    "plt.show()"
   ]
  },
  {
   "cell_type": "code",
   "execution_count": 27,
   "metadata": {},
   "outputs": [
    {
     "data": {
      "image/png": "[encoded data removed]",
      "text/plain": [
       "<Figure size 432x288 with 2 Axes>"
      ]
     },
     "metadata": {
      "needs_background": "light"
     },
     "output_type": "display_data"
    }
   ],
   "source": [
    "t = new_all_data.index\n",
    "data1 = new_all_data['weighted_sentiments_DBSCAN']\n",
    "data2 = new_all_data['% change 1 year']\n",
    "\n",
    "fig, ax1 = plt.subplots()\n",
    "\n",
    "color = 'tab:purple'\n",
    "ax1.set_xlabel('index')\n",
    "ax1.set_ylabel('sentiment scores', color=color)\n",
    "ax1.plot(t, data1, color=color)\n",
    "ax1.tick_params(axis='y', labelcolor=color)\n",
    "ax1.set_ylim(0, 1)\n",
    "\n",
    "ax2 = ax1.twinx()  # instantiate a second axes that shares the same x-axis\n",
    "\n",
    "color = 'tab:blue'\n",
    "ax2.set_ylabel('% changes in stock price', color=color)  # we already handled the x-label with ax1\n",
    "ax2.plot(t, data2, color=color)\n",
    "ax2.tick_params(axis='y', labelcolor=color)\n",
    "\n",
    "fig.tight_layout()  # otherwise the right y-label is slightly clipped\n",
    "plt.show()"
   ]
  },
  {
   "cell_type": "code",
   "execution_count": null,
   "metadata": {},
   "outputs": [],
   "source": []
  }
 ],
 "metadata": {
  "kernelspec": {
   "display_name": "thesis",
   "language": "python",
   "name": "thesis"
  },
  "language_info": {
   "codemirror_mode": {
    "name": "ipython",
    "version": 3
   },
   "file_extension": ".py",
   "mimetype": "text/x-python",
   "name": "python",
   "nbconvert_exporter": "python",
   "pygments_lexer": "ipython3",
   "version": "3.6.3"
  }
 },
 "nbformat": 4,
 "nbformat_minor": 2
}
