{
 "cells": [
  {
   "cell_type": "code",
   "execution_count": 1,
   "metadata": {},
   "outputs": [
    {
     "name": "stdout",
     "output_type": "stream",
     "text": [
      "[nltk_data] Downloading package wordnet to\n",
      "[nltk_data]     C:\\Users\\Kevin\\AppData\\Roaming\\nltk_data...\n",
      "[nltk_data]   Package wordnet is already up-to-date!\n"
     ]
    }
   ],
   "source": [
    "import pandas as pd\n",
    "import pickle\n",
    "import weighted_sentiment_functions_final as wsff\n",
    "import stock_price_calculation_trials as spct\n",
    "from datetime import datetime"
   ]
  },
  {
   "cell_type": "code",
   "execution_count": 10,
   "metadata": {},
   "outputs": [
    {
     "data": {
      "text/html": [
       "<div>\n",
       "<style scoped>\n",
       "    .dataframe tbody tr th:only-of-type {\n",
       "        vertical-align: middle;\n",
       "    }\n",
       "\n",
       "    .dataframe tbody tr th {\n",
       "        vertical-align: top;\n",
       "    }\n",
       "\n",
       "    .dataframe thead th {\n",
       "        text-align: right;\n",
       "    }\n",
       "</style>\n",
       "<table border=\"1\" class=\"dataframe\">\n",
       "  <thead>\n",
       "    <tr style=\"text-align: right;\">\n",
       "      <th></th>\n",
       "      <th>DELETE</th>\n",
       "      <th>CIK</th>\n",
       "      <th>TICKER</th>\n",
       "      <th>DATE</th>\n",
       "      <th>TEXT</th>\n",
       "    </tr>\n",
       "  </thead>\n",
       "  <tbody>\n",
       "    <tr>\n",
       "      <td>0</td>\n",
       "      <td>NaN</td>\n",
       "      <td>0000002488</td>\n",
       "      <td>AMD</td>\n",
       "      <td>2019-02-08</td>\n",
       "      <td>Our 2018 financial results demonstrate the suc...</td>\n",
       "    </tr>\n",
       "    <tr>\n",
       "      <td>1</td>\n",
       "      <td>NaN</td>\n",
       "      <td>0001091667</td>\n",
       "      <td>CHTR</td>\n",
       "      <td>2019-01-31</td>\n",
       "      <td>We are the second largest cable operator in th...</td>\n",
       "    </tr>\n",
       "    <tr>\n",
       "      <td>2</td>\n",
       "      <td>NaN</td>\n",
       "      <td>0001467858</td>\n",
       "      <td>GM</td>\n",
       "      <td>2010-04-07</td>\n",
       "      <td>Over time as Old GM’s market share declined in...</td>\n",
       "    </tr>\n",
       "  </tbody>\n",
       "</table>\n",
       "</div>"
      ],
      "text/plain": [
       "   DELETE         CIK TICKER       DATE  \\\n",
       "0     NaN  0000002488    AMD 2019-02-08   \n",
       "1     NaN  0001091667   CHTR 2019-01-31   \n",
       "2     NaN  0001467858     GM 2010-04-07   \n",
       "\n",
       "                                                TEXT  \n",
       "0  Our 2018 financial results demonstrate the suc...  \n",
       "1  We are the second largest cable operator in th...  \n",
       "2  Over time as Old GM’s market share declined in...  "
      ]
     },
     "execution_count": 10,
     "metadata": {},
     "output_type": "execute_result"
    }
   ],
   "source": [
    "all_data = pd.read_csv('sample_data_modified.csv', sep='.@', header=None, names=['DELETE', 'CIK', 'TICKER', 'DATE', 'TEXT'], dtype={'CIK': object}, engine='python', parse_dates=[3], infer_datetime_format=True, encoding='utf-8')\n",
    "all_data.head()"
   ]
  },
  {
   "cell_type": "code",
   "execution_count": 12,
   "metadata": {},
   "outputs": [
    {
     "data": {
      "text/html": [
       "<div>\n",
       "<style scoped>\n",
       "    .dataframe tbody tr th:only-of-type {\n",
       "        vertical-align: middle;\n",
       "    }\n",
       "\n",
       "    .dataframe tbody tr th {\n",
       "        vertical-align: top;\n",
       "    }\n",
       "\n",
       "    .dataframe thead th {\n",
       "        text-align: right;\n",
       "    }\n",
       "</style>\n",
       "<table border=\"1\" class=\"dataframe\">\n",
       "  <thead>\n",
       "    <tr style=\"text-align: right;\">\n",
       "      <th></th>\n",
       "      <th>CIK</th>\n",
       "      <th>TICKER</th>\n",
       "      <th>DATE</th>\n",
       "      <th>TEXT</th>\n",
       "    </tr>\n",
       "  </thead>\n",
       "  <tbody>\n",
       "    <tr>\n",
       "      <td>0</td>\n",
       "      <td>0000002488</td>\n",
       "      <td>AMD</td>\n",
       "      <td>2019-02-08</td>\n",
       "      <td>Our 2018 financial results demonstrate the suc...</td>\n",
       "    </tr>\n",
       "    <tr>\n",
       "      <td>1</td>\n",
       "      <td>0001091667</td>\n",
       "      <td>CHTR</td>\n",
       "      <td>2019-01-31</td>\n",
       "      <td>We are the second largest cable operator in th...</td>\n",
       "    </tr>\n",
       "    <tr>\n",
       "      <td>2</td>\n",
       "      <td>0001467858</td>\n",
       "      <td>GM</td>\n",
       "      <td>2010-04-07</td>\n",
       "      <td>Over time as Old GM’s market share declined in...</td>\n",
       "    </tr>\n",
       "  </tbody>\n",
       "</table>\n",
       "</div>"
      ],
      "text/plain": [
       "          CIK TICKER       DATE  \\\n",
       "0  0000002488    AMD 2019-02-08   \n",
       "1  0001091667   CHTR 2019-01-31   \n",
       "2  0001467858     GM 2010-04-07   \n",
       "\n",
       "                                                TEXT  \n",
       "0  Our 2018 financial results demonstrate the suc...  \n",
       "1  We are the second largest cable operator in th...  \n",
       "2  Over time as Old GM’s market share declined in...  "
      ]
     },
     "execution_count": 12,
     "metadata": {},
     "output_type": "execute_result"
    }
   ],
   "source": [
    "new_all_data = all_data.drop(['DELETE'], axis=1)\n",
    "new_all_data.head()"
   ]
  },
  {
   "cell_type": "code",
   "execution_count": 13,
   "metadata": {},
   "outputs": [],
   "source": [
    "# load the trained classifier model from disk\n",
    "filename = 'finalised_classifier_model.sav'\n",
    "model = pickle.load(open(filename, 'rb'))"
   ]
  },
  {
   "cell_type": "code",
   "execution_count": 14,
   "metadata": {},
   "outputs": [
    {
     "name": "stdout",
     "output_type": "stream",
     "text": [
      "[0.80000000000000004, 0.90000000000000002, 0.80000000000000004]\n",
      "[1.0, 1.0, 1.0]\n"
     ]
    }
   ],
   "source": [
    "weighted_sentiments = []\n",
    "for i, row in new_all_data.iterrows():\n",
    "    weighted_sentiment = wsff.get_weighted_sentiment(row['TEXT'], model, clustering_model='Agglomerative')\n",
    "    weighted_sentiments.append(weighted_sentiment)\n",
    "print(weighted_sentiments)\n",
    "new_all_data['weighted_sentiments'] = weighted_sentiments\n",
    "\n",
    "unweighted_sentiments = []\n",
    "for i, row in new_all_data.iterrows():\n",
    "    unweighted_sentiment = wsff.get_unweighted_sentiment(row['TEXT'], model, clustering_model='Agglomerative')\n",
    "    unweighted_sentiments.append(unweighted_sentiment)\n",
    "print(unweighted_sentiments)\n",
    "new_all_data['unweighted_sentiments'] = unweighted_sentiments"
   ]
  },
  {
   "cell_type": "code",
   "execution_count": 15,
   "metadata": {},
   "outputs": [
    {
     "data": {
      "text/html": [
       "<div>\n",
       "<style scoped>\n",
       "    .dataframe tbody tr th:only-of-type {\n",
       "        vertical-align: middle;\n",
       "    }\n",
       "\n",
       "    .dataframe tbody tr th {\n",
       "        vertical-align: top;\n",
       "    }\n",
       "\n",
       "    .dataframe thead th {\n",
       "        text-align: right;\n",
       "    }\n",
       "</style>\n",
       "<table border=\"1\" class=\"dataframe\">\n",
       "  <thead>\n",
       "    <tr style=\"text-align: right;\">\n",
       "      <th></th>\n",
       "      <th>CIK</th>\n",
       "      <th>TICKER</th>\n",
       "      <th>DATE</th>\n",
       "      <th>TEXT</th>\n",
       "      <th>weighted_sentiments</th>\n",
       "      <th>unweighted_sentiments</th>\n",
       "    </tr>\n",
       "  </thead>\n",
       "  <tbody>\n",
       "    <tr>\n",
       "      <td>0</td>\n",
       "      <td>0000002488</td>\n",
       "      <td>AMD</td>\n",
       "      <td>2019-02-08</td>\n",
       "      <td>Our 2018 financial results demonstrate the suc...</td>\n",
       "      <td>0.8</td>\n",
       "      <td>1.0</td>\n",
       "    </tr>\n",
       "    <tr>\n",
       "      <td>1</td>\n",
       "      <td>0001091667</td>\n",
       "      <td>CHTR</td>\n",
       "      <td>2019-01-31</td>\n",
       "      <td>We are the second largest cable operator in th...</td>\n",
       "      <td>0.9</td>\n",
       "      <td>1.0</td>\n",
       "    </tr>\n",
       "    <tr>\n",
       "      <td>2</td>\n",
       "      <td>0001467858</td>\n",
       "      <td>GM</td>\n",
       "      <td>2010-04-07</td>\n",
       "      <td>Over time as Old GM’s market share declined in...</td>\n",
       "      <td>0.8</td>\n",
       "      <td>1.0</td>\n",
       "    </tr>\n",
       "  </tbody>\n",
       "</table>\n",
       "</div>"
      ],
      "text/plain": [
       "          CIK TICKER       DATE  \\\n",
       "0  0000002488    AMD 2019-02-08   \n",
       "1  0001091667   CHTR 2019-01-31   \n",
       "2  0001467858     GM 2010-04-07   \n",
       "\n",
       "                                                TEXT  weighted_sentiments  \\\n",
       "0  Our 2018 financial results demonstrate the suc...                  0.8   \n",
       "1  We are the second largest cable operator in th...                  0.9   \n",
       "2  Over time as Old GM’s market share declined in...                  0.8   \n",
       "\n",
       "   unweighted_sentiments  \n",
       "0                    1.0  \n",
       "1                    1.0  \n",
       "2                    1.0  "
      ]
     },
     "execution_count": 15,
     "metadata": {},
     "output_type": "execute_result"
    }
   ],
   "source": [
    "new_all_data.head()"
   ]
  },
  {
   "cell_type": "code",
   "execution_count": 16,
   "metadata": {},
   "outputs": [
    {
     "name": "stdout",
     "output_type": "stream",
     "text": [
      "[23.049999237060547, 331.04998779296875, 26.155519485473633]\n",
      "[Timestamp('2019-02-08 00:00:00'), Timestamp('2019-01-31 00:00:00'), Timestamp('2010-11-18 00:00:00')]\n"
     ]
    }
   ],
   "source": [
    "def get_current_stock_price_date(ticker, date):\n",
    "    given_date = date\n",
    "    while True:\n",
    "        try:\n",
    "            stock_price = spct.get_stock_adj_close(ticker, given_date)\n",
    "            break\n",
    "        except KeyError:\n",
    "            given_date = spct.add_days(given_date,1)\n",
    "    return given_date, stock_price\n",
    "\n",
    "stock_prices = []\n",
    "given_dates = []\n",
    "\n",
    "\n",
    "    \n",
    "for i, row in new_all_data.iterrows():\n",
    "    given_date, stock_price = get_current_stock_price_date(row['TICKER'], row['DATE'])\n",
    "    stock_prices.append(stock_price)\n",
    "    given_dates.append(given_date)\n",
    "    \n",
    "print(stock_prices)\n",
    "print(given_dates)"
   ]
  },
  {
   "cell_type": "code",
   "execution_count": 17,
   "metadata": {},
   "outputs": [
    {
     "name": "stdout",
     "output_type": "stream",
     "text": [
      "[52.259998321533203, 517.46002197265625, 16.585308074951172]\n",
      "[Timestamp('2020-02-10 00:00:00'), Timestamp('2020-01-31 00:00:00'), Timestamp('2011-11-18 00:00:00')]\n",
      "[27.090000152587891, 371.19000244140625, 27.930322647094727]\n",
      "[Timestamp('2019-05-08 00:00:00'), Timestamp('2019-04-30 00:00:00'), Timestamp('2011-02-18 00:00:00')]\n"
     ]
    }
   ],
   "source": [
    "stock_prices_next_year = []\n",
    "given_dates_next_year = []\n",
    "stock_prices_three_months = []\n",
    "given_dates_three_months = []\n",
    "\n",
    "for i, row in new_all_data.iterrows():\n",
    "    date_one_year = spct.add_years(given_dates[i], 1)\n",
    "    given_date, stock_price = get_current_stock_price_date(row['TICKER'], date_one_year)\n",
    "    stock_prices_next_year.append(stock_price)\n",
    "    given_dates_next_year.append(given_date)\n",
    "    \n",
    "for i, row in new_all_data.iterrows():\n",
    "    date_three_months = spct.add_months(given_dates[i], 3)\n",
    "    given_date, stock_price = get_current_stock_price_date(row['TICKER'], date_three_months)\n",
    "    stock_prices_three_months.append(stock_price)\n",
    "    given_dates_three_months.append(given_date)\n",
    "\n",
    "print(stock_prices_next_year)\n",
    "print(given_dates_next_year)\n",
    "print(stock_prices_three_months)\n",
    "print(given_dates_three_months)"
   ]
  },
  {
   "cell_type": "code",
   "execution_count": 18,
   "metadata": {},
   "outputs": [
    {
     "name": "stdout",
     "output_type": "stream",
     "text": [
      "[126.72451215316249, 56.308727096605168, -36.589643787566928]\n",
      "[17.527119519516933, 12.125061509907129, 6.7855779450558877]\n"
     ]
    }
   ],
   "source": [
    "percent_changes_one_year = []\n",
    "percent_changes_three_months = []\n",
    "\n",
    "for old, new in zip(stock_prices, stock_prices_next_year):\n",
    "    change = spct.percent_change(old,new)\n",
    "    percent_changes_one_year.append(change)\n",
    "    \n",
    "for old, new in zip(stock_prices, stock_prices_three_months):\n",
    "    change = spct.percent_change(old,new)\n",
    "    percent_changes_three_months.append(change)\n",
    "\n",
    "new_all_data['% change 1 year'] = percent_changes_one_year\n",
    "new_all_data['% change 3 months'] = percent_changes_three_months\n",
    "\n",
    "print(percent_changes_one_year)\n",
    "print(percent_changes_three_months)"
   ]
  },
  {
   "cell_type": "code",
   "execution_count": 19,
   "metadata": {},
   "outputs": [
    {
     "data": {
      "text/html": [
       "<div>\n",
       "<style scoped>\n",
       "    .dataframe tbody tr th:only-of-type {\n",
       "        vertical-align: middle;\n",
       "    }\n",
       "\n",
       "    .dataframe tbody tr th {\n",
       "        vertical-align: top;\n",
       "    }\n",
       "\n",
       "    .dataframe thead th {\n",
       "        text-align: right;\n",
       "    }\n",
       "</style>\n",
       "<table border=\"1\" class=\"dataframe\">\n",
       "  <thead>\n",
       "    <tr style=\"text-align: right;\">\n",
       "      <th></th>\n",
       "      <th>CIK</th>\n",
       "      <th>TICKER</th>\n",
       "      <th>DATE</th>\n",
       "      <th>TEXT</th>\n",
       "      <th>weighted_sentiments</th>\n",
       "      <th>unweighted_sentiments</th>\n",
       "      <th>% change 1 year</th>\n",
       "      <th>% change 3 months</th>\n",
       "    </tr>\n",
       "  </thead>\n",
       "  <tbody>\n",
       "    <tr>\n",
       "      <td>0</td>\n",
       "      <td>0000002488</td>\n",
       "      <td>AMD</td>\n",
       "      <td>2019-02-08</td>\n",
       "      <td>Our 2018 financial results demonstrate the suc...</td>\n",
       "      <td>0.8</td>\n",
       "      <td>1.0</td>\n",
       "      <td>126.724512</td>\n",
       "      <td>17.527120</td>\n",
       "    </tr>\n",
       "    <tr>\n",
       "      <td>1</td>\n",
       "      <td>0001091667</td>\n",
       "      <td>CHTR</td>\n",
       "      <td>2019-01-31</td>\n",
       "      <td>We are the second largest cable operator in th...</td>\n",
       "      <td>0.9</td>\n",
       "      <td>1.0</td>\n",
       "      <td>56.308727</td>\n",
       "      <td>12.125062</td>\n",
       "    </tr>\n",
       "    <tr>\n",
       "      <td>2</td>\n",
       "      <td>0001467858</td>\n",
       "      <td>GM</td>\n",
       "      <td>2010-04-07</td>\n",
       "      <td>Over time as Old GM’s market share declined in...</td>\n",
       "      <td>0.8</td>\n",
       "      <td>1.0</td>\n",
       "      <td>-36.589644</td>\n",
       "      <td>6.785578</td>\n",
       "    </tr>\n",
       "  </tbody>\n",
       "</table>\n",
       "</div>"
      ],
      "text/plain": [
       "          CIK TICKER       DATE  \\\n",
       "0  0000002488    AMD 2019-02-08   \n",
       "1  0001091667   CHTR 2019-01-31   \n",
       "2  0001467858     GM 2010-04-07   \n",
       "\n",
       "                                                TEXT  weighted_sentiments  \\\n",
       "0  Our 2018 financial results demonstrate the suc...                  0.8   \n",
       "1  We are the second largest cable operator in th...                  0.9   \n",
       "2  Over time as Old GM’s market share declined in...                  0.8   \n",
       "\n",
       "   unweighted_sentiments  % change 1 year  % change 3 months  \n",
       "0                    1.0       126.724512          17.527120  \n",
       "1                    1.0        56.308727          12.125062  \n",
       "2                    1.0       -36.589644           6.785578  "
      ]
     },
     "execution_count": 19,
     "metadata": {},
     "output_type": "execute_result"
    }
   ],
   "source": [
    "new_all_data.head()"
   ]
  },
  {
   "cell_type": "code",
   "execution_count": null,
   "metadata": {},
   "outputs": [],
   "source": []
  }
 ],
 "metadata": {
  "kernelspec": {
   "display_name": "thesis",
   "language": "python",
   "name": "thesis"
  },
  "language_info": {
   "codemirror_mode": {
    "name": "ipython",
    "version": 3
   },
   "file_extension": ".py",
   "mimetype": "text/x-python",
   "name": "python",
   "nbconvert_exporter": "python",
   "pygments_lexer": "ipython3",
   "version": "3.6.3"
  }
 },
 "nbformat": 4,
 "nbformat_minor": 2
}
