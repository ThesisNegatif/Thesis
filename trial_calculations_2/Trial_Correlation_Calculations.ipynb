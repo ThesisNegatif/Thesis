{
 "cells": [
  {
   "cell_type": "code",
   "execution_count": 1,
   "metadata": {},
   "outputs": [
    {
     "name": "stdout",
     "output_type": "stream",
     "text": [
      "[nltk_data] Downloading package wordnet to\n",
      "[nltk_data]     C:\\Users\\Kevin\\AppData\\Roaming\\nltk_data...\n",
      "[nltk_data]   Package wordnet is already up-to-date!\n"
     ]
    }
   ],
   "source": [
    "import pandas as pd\n",
    "import pickle\n",
    "import weighted_sentiment_functions_final as wsff\n",
    "import stock_price_calculation_trials as spct"
   ]
  },
  {
   "cell_type": "code",
   "execution_count": 2,
   "metadata": {},
   "outputs": [],
   "source": [
    "all_data = pd.read_csv('sample_data.csv', sep='.@', header=None, names=['DELETE', 'CIK', 'TICKER', 'DATE', 'TEXT'], dtype={'CIK': object}, engine='python', parse_dates=[3], infer_datetime_format=True, encoding='utf-8')"
   ]
  },
  {
   "cell_type": "code",
   "execution_count": 3,
   "metadata": {},
   "outputs": [
    {
     "data": {
      "text/html": [
       "<div>\n",
       "<style scoped>\n",
       "    .dataframe tbody tr th:only-of-type {\n",
       "        vertical-align: middle;\n",
       "    }\n",
       "\n",
       "    .dataframe tbody tr th {\n",
       "        vertical-align: top;\n",
       "    }\n",
       "\n",
       "    .dataframe thead th {\n",
       "        text-align: right;\n",
       "    }\n",
       "</style>\n",
       "<table border=\"1\" class=\"dataframe\">\n",
       "  <thead>\n",
       "    <tr style=\"text-align: right;\">\n",
       "      <th></th>\n",
       "      <th>DELETE</th>\n",
       "      <th>CIK</th>\n",
       "      <th>TICKER</th>\n",
       "      <th>DATE</th>\n",
       "      <th>TEXT</th>\n",
       "    </tr>\n",
       "  </thead>\n",
       "  <tbody>\n",
       "    <tr>\n",
       "      <td>0</td>\n",
       "      <td>NaN</td>\n",
       "      <td>0000002488</td>\n",
       "      <td>AMD</td>\n",
       "      <td>2020-02-04</td>\n",
       "      <td>2019 marked a milestone in our multi-year jour...</td>\n",
       "    </tr>\n",
       "    <tr>\n",
       "      <td>1</td>\n",
       "      <td>NaN</td>\n",
       "      <td>0000002488</td>\n",
       "      <td>AMD</td>\n",
       "      <td>2019-02-08</td>\n",
       "      <td>Our 2018 financial results demonstrate the su...</td>\n",
       "    </tr>\n",
       "    <tr>\n",
       "      <td>2</td>\n",
       "      <td>NaN</td>\n",
       "      <td>0001091667</td>\n",
       "      <td>CHTR</td>\n",
       "      <td>2019-01-31</td>\n",
       "      <td>We are the second largest cable operator in t...</td>\n",
       "    </tr>\n",
       "    <tr>\n",
       "      <td>3</td>\n",
       "      <td>NaN</td>\n",
       "      <td>0001467858</td>\n",
       "      <td>GM</td>\n",
       "      <td>2010-04-07</td>\n",
       "      <td>Over time as Old GM’s market share declined i...</td>\n",
       "    </tr>\n",
       "  </tbody>\n",
       "</table>\n",
       "</div>"
      ],
      "text/plain": [
       "   DELETE           CIK TICKER       DATE  \\\n",
       "0     NaN    0000002488    AMD 2020-02-04   \n",
       "1     NaN   0000002488     AMD 2019-02-08   \n",
       "2     NaN   0001091667    CHTR 2019-01-31   \n",
       "3     NaN   0001467858      GM 2010-04-07   \n",
       "\n",
       "                                                TEXT  \n",
       "0  2019 marked a milestone in our multi-year jour...  \n",
       "1   Our 2018 financial results demonstrate the su...  \n",
       "2   We are the second largest cable operator in t...  \n",
       "3   Over time as Old GM’s market share declined i...  "
      ]
     },
     "execution_count": 3,
     "metadata": {},
     "output_type": "execute_result"
    }
   ],
   "source": [
    "all_data"
   ]
  },
  {
   "cell_type": "code",
   "execution_count": 4,
   "metadata": {},
   "outputs": [
    {
     "data": {
      "text/plain": [
       "Timestamp('2020-02-04 00:00:00')"
      ]
     },
     "execution_count": 4,
     "metadata": {},
     "output_type": "execute_result"
    }
   ],
   "source": [
    "all_data.iloc[0]['DATE']"
   ]
  },
  {
   "cell_type": "code",
   "execution_count": 57,
   "metadata": {},
   "outputs": [],
   "source": [
    "new_all_data = all_data.drop(['DELETE'], axis=1)\n",
    "new_all_data2 = new_all_data.drop(0, axis=0)"
   ]
  },
  {
   "cell_type": "code",
   "execution_count": 58,
   "metadata": {},
   "outputs": [
    {
     "data": {
      "text/html": [
       "<div>\n",
       "<style scoped>\n",
       "    .dataframe tbody tr th:only-of-type {\n",
       "        vertical-align: middle;\n",
       "    }\n",
       "\n",
       "    .dataframe tbody tr th {\n",
       "        vertical-align: top;\n",
       "    }\n",
       "\n",
       "    .dataframe thead th {\n",
       "        text-align: right;\n",
       "    }\n",
       "</style>\n",
       "<table border=\"1\" class=\"dataframe\">\n",
       "  <thead>\n",
       "    <tr style=\"text-align: right;\">\n",
       "      <th></th>\n",
       "      <th>CIK</th>\n",
       "      <th>TICKER</th>\n",
       "      <th>DATE</th>\n",
       "      <th>TEXT</th>\n",
       "    </tr>\n",
       "  </thead>\n",
       "  <tbody>\n",
       "    <tr>\n",
       "      <td>1</td>\n",
       "      <td>0000002488</td>\n",
       "      <td>AMD</td>\n",
       "      <td>2019-02-08</td>\n",
       "      <td>Our 2018 financial results demonstrate the su...</td>\n",
       "    </tr>\n",
       "    <tr>\n",
       "      <td>2</td>\n",
       "      <td>0001091667</td>\n",
       "      <td>CHTR</td>\n",
       "      <td>2019-01-31</td>\n",
       "      <td>We are the second largest cable operator in t...</td>\n",
       "    </tr>\n",
       "    <tr>\n",
       "      <td>3</td>\n",
       "      <td>0001467858</td>\n",
       "      <td>GM</td>\n",
       "      <td>2010-04-07</td>\n",
       "      <td>Over time as Old GM’s market share declined i...</td>\n",
       "    </tr>\n",
       "  </tbody>\n",
       "</table>\n",
       "</div>"
      ],
      "text/plain": [
       "            CIK TICKER       DATE  \\\n",
       "1   0000002488     AMD 2019-02-08   \n",
       "2   0001091667    CHTR 2019-01-31   \n",
       "3   0001467858      GM 2010-04-07   \n",
       "\n",
       "                                                TEXT  \n",
       "1   Our 2018 financial results demonstrate the su...  \n",
       "2   We are the second largest cable operator in t...  \n",
       "3   Over time as Old GM’s market share declined i...  "
      ]
     },
     "execution_count": 58,
     "metadata": {},
     "output_type": "execute_result"
    }
   ],
   "source": [
    "new_all_data2"
   ]
  },
  {
   "cell_type": "code",
   "execution_count": 6,
   "metadata": {},
   "outputs": [
    {
     "data": {
      "text/html": [
       "<div>\n",
       "<style scoped>\n",
       "    .dataframe tbody tr th:only-of-type {\n",
       "        vertical-align: middle;\n",
       "    }\n",
       "\n",
       "    .dataframe tbody tr th {\n",
       "        vertical-align: top;\n",
       "    }\n",
       "\n",
       "    .dataframe thead th {\n",
       "        text-align: right;\n",
       "    }\n",
       "</style>\n",
       "<table border=\"1\" class=\"dataframe\">\n",
       "  <thead>\n",
       "    <tr style=\"text-align: right;\">\n",
       "      <th></th>\n",
       "      <th>CIK</th>\n",
       "      <th>TICKER</th>\n",
       "      <th>DATE</th>\n",
       "      <th>TEXT</th>\n",
       "    </tr>\n",
       "  </thead>\n",
       "  <tbody>\n",
       "    <tr>\n",
       "      <td>0</td>\n",
       "      <td>0000002488</td>\n",
       "      <td>AMD</td>\n",
       "      <td>2020-02-04</td>\n",
       "      <td>2019 marked a milestone in our multi-year jour...</td>\n",
       "    </tr>\n",
       "    <tr>\n",
       "      <td>1</td>\n",
       "      <td>0000002488</td>\n",
       "      <td>AMD</td>\n",
       "      <td>2019-02-08</td>\n",
       "      <td>Our 2018 financial results demonstrate the su...</td>\n",
       "    </tr>\n",
       "    <tr>\n",
       "      <td>2</td>\n",
       "      <td>0001091667</td>\n",
       "      <td>CHTR</td>\n",
       "      <td>2019-01-31</td>\n",
       "      <td>We are the second largest cable operator in t...</td>\n",
       "    </tr>\n",
       "    <tr>\n",
       "      <td>3</td>\n",
       "      <td>0001467858</td>\n",
       "      <td>GM</td>\n",
       "      <td>2010-04-07</td>\n",
       "      <td>Over time as Old GM’s market share declined i...</td>\n",
       "    </tr>\n",
       "  </tbody>\n",
       "</table>\n",
       "</div>"
      ],
      "text/plain": [
       "            CIK TICKER       DATE  \\\n",
       "0    0000002488    AMD 2020-02-04   \n",
       "1   0000002488     AMD 2019-02-08   \n",
       "2   0001091667    CHTR 2019-01-31   \n",
       "3   0001467858      GM 2010-04-07   \n",
       "\n",
       "                                                TEXT  \n",
       "0  2019 marked a milestone in our multi-year jour...  \n",
       "1   Our 2018 financial results demonstrate the su...  \n",
       "2   We are the second largest cable operator in t...  \n",
       "3   Over time as Old GM’s market share declined i...  "
      ]
     },
     "execution_count": 6,
     "metadata": {},
     "output_type": "execute_result"
    }
   ],
   "source": [
    "new_all_data.head()"
   ]
  },
  {
   "cell_type": "code",
   "execution_count": 7,
   "metadata": {},
   "outputs": [
    {
     "data": {
      "text/plain": [
       "0    2019 marked a milestone in our multi-year jour...\n",
       "1     Our 2018 financial results demonstrate the su...\n",
       "2     We are the second largest cable operator in t...\n",
       "3     Over time as Old GM’s market share declined i...\n",
       "Name: TEXT, dtype: object"
      ]
     },
     "execution_count": 7,
     "metadata": {},
     "output_type": "execute_result"
    }
   ],
   "source": [
    "new_all_data['TEXT']"
   ]
  },
  {
   "cell_type": "code",
   "execution_count": 8,
   "metadata": {},
   "outputs": [],
   "source": [
    "# # Comment/Uncomment following 4 lines to retrain the classifier\n",
    "# trained_model = wsff.train_classifier(classifier_model='Random_Forst')\n",
    "# # save the model to disk\n",
    "# filename = 'finalised_classifier_model.sav'\n",
    "# pickle.dump(trained_model, open(filename, 'wb'))\n",
    "\n",
    "# load the model from disk\n",
    "filename = 'finalised_classifier_model.sav'\n",
    "model = pickle.load(open(filename, 'rb'))"
   ]
  },
  {
   "cell_type": "code",
   "execution_count": 9,
   "metadata": {},
   "outputs": [],
   "source": [
    "weighted_sentiments = []\n",
    "for i, row in new_all_data.iterrows():\n",
    "    weighted_sentiment = wsff.get_weighted_sentiment(row['TEXT'], model, clustering_model='Agglomerative')\n",
    "    weighted_sentiments.append(weighted_sentiment)\n"
   ]
  },
  {
   "cell_type": "code",
   "execution_count": 10,
   "metadata": {},
   "outputs": [
    {
     "name": "stdout",
     "output_type": "stream",
     "text": [
      "[0.80000000000000004, 0.80000000000000004, 0.90000000000000002, 0.80000000000000004]\n"
     ]
    }
   ],
   "source": [
    "print(weighted_sentiments)"
   ]
  },
  {
   "cell_type": "code",
   "execution_count": 11,
   "metadata": {},
   "outputs": [
    {
     "name": "stdout",
     "output_type": "stream",
     "text": [
      "[1.0, 1.0, 1.0, 1.0]\n"
     ]
    }
   ],
   "source": [
    "unweighted_sentiments = []\n",
    "for i, row in new_all_data.iterrows():\n",
    "    unweighted_sentiment = wsff.get_unweighted_sentiment(row['TEXT'], model, clustering_model='Agglomerative')\n",
    "    unweighted_sentiments.append(unweighted_sentiment)\n",
    "print(unweighted_sentiments)"
   ]
  },
  {
   "cell_type": "code",
   "execution_count": null,
   "metadata": {},
   "outputs": [],
   "source": [
    "# This cell block is for trying a few functions that didn't work, can be ignored.\n",
    "# weighted_sentiments2 = []\n",
    "# for i, row in new_all_data.iterrows():\n",
    "#     weighted_sentiment2 = wsff.trial_weighted_sentiment(row['TEXT'], model, clustering_model='Agglomerative')\n",
    "#     weighted_sentiments2.append(weighted_sentiment2)\n",
    "# # print(weighted_sentiments2)\n",
    "# # new_all_data['weighted_sentiments'] = weighted_sentiments\n",
    "\n",
    "# unweighted_sentiments2 = []\n",
    "# for i, row in new_all_data.iterrows():\n",
    "#     unweighted_sentiment2 = wsff.trial_unweighted_sentiment(row['TEXT'], model, clustering_model='Agglomerative')\n",
    "#     unweighted_sentiments2.append(unweighted_sentiment2)\n",
    "# print(unweighted_sentiments2)\n",
    "# # new_all_data['unweighted_sentiments'] = unweighted_sentiments"
   ]
  },
  {
   "cell_type": "code",
   "execution_count": 86,
   "metadata": {},
   "outputs": [
    {
     "data": {
      "text/plain": [
       "30.479999542236328"
      ]
     },
     "execution_count": 86,
     "metadata": {},
     "output_type": "execute_result"
    }
   ],
   "source": [
    "from datetime import datetime\n",
    "spct.get_stock_adj_close('AMD' , datetime(2006,5,30))"
   ]
  },
  {
   "cell_type": "code",
   "execution_count": 13,
   "metadata": {},
   "outputs": [
    {
     "data": {
      "text/plain": [
       "datetime.datetime(2010, 4, 8, 0, 0)"
      ]
     },
     "execution_count": 13,
     "metadata": {},
     "output_type": "execute_result"
    }
   ],
   "source": [
    "spct.add_days(datetime(2010,10,7),1)"
   ]
  },
  {
   "cell_type": "code",
   "execution_count": 40,
   "metadata": {},
   "outputs": [
    {
     "name": "stdout",
     "output_type": "stream",
     "text": [
      "[49.450000762939453, 23.049999237060547, 331.04998779296875, 26.155519485473633]\n"
     ]
    }
   ],
   "source": [
    "stock_prices = []\n",
    "stock_prices_next_year = []\n",
    "\n",
    "    \n",
    "for i, row in new_all_data.iterrows():\n",
    "    given_date = row['DATE']\n",
    "    while True:\n",
    "        try:\n",
    "            stock_price = spct.get_stock_adj_close(row['TICKER'], given_date)\n",
    "            break\n",
    "        except KeyError:\n",
    "            given_date = spct.add_days(given_date,1)\n",
    "    stock_prices.append(stock_price)\n",
    "    \n",
    "print(stock_prices)\n",
    "\n"
   ]
  },
  {
   "cell_type": "code",
   "execution_count": 61,
   "metadata": {},
   "outputs": [
    {
     "name": "stdout",
     "output_type": "stream",
     "text": [
      "GM 2010-04-08 00:00:00\n",
      "GM 2010-04-09 00:00:00\n",
      "GM 2010-04-10 00:00:00\n",
      "GM 2010-04-11 00:00:00\n",
      "GM 2010-04-12 00:00:00\n",
      "GM 2010-04-13 00:00:00\n",
      "GM 2010-04-14 00:00:00\n",
      "GM 2010-04-15 00:00:00\n",
      "GM 2010-04-16 00:00:00\n",
      "GM 2010-04-17 00:00:00\n",
      "GM 2010-04-18 00:00:00\n",
      "GM 2010-04-19 00:00:00\n",
      "GM 2010-04-20 00:00:00\n",
      "GM 2010-04-21 00:00:00\n",
      "GM 2010-04-22 00:00:00\n",
      "GM 2010-04-23 00:00:00\n",
      "GM 2010-04-24 00:00:00\n",
      "GM 2010-04-25 00:00:00\n",
      "GM 2010-04-26 00:00:00\n",
      "GM 2010-04-27 00:00:00\n",
      "GM 2010-04-28 00:00:00\n",
      "GM 2010-04-29 00:00:00\n",
      "GM 2010-04-30 00:00:00\n",
      "GM 2010-05-01 00:00:00\n",
      "GM 2010-05-02 00:00:00\n",
      "GM 2010-05-03 00:00:00\n",
      "GM 2010-05-04 00:00:00\n",
      "GM 2010-05-05 00:00:00\n",
      "GM 2010-05-06 00:00:00\n",
      "GM 2010-05-07 00:00:00\n",
      "GM 2010-05-08 00:00:00\n",
      "GM 2010-05-09 00:00:00\n",
      "GM 2010-05-10 00:00:00\n",
      "GM 2010-05-11 00:00:00\n",
      "GM 2010-05-12 00:00:00\n",
      "GM 2010-05-13 00:00:00\n",
      "GM 2010-05-14 00:00:00\n",
      "GM 2010-05-15 00:00:00\n",
      "GM 2010-05-16 00:00:00\n",
      "GM 2010-05-17 00:00:00\n",
      "GM 2010-05-18 00:00:00\n",
      "GM 2010-05-19 00:00:00\n",
      "GM 2010-05-20 00:00:00\n",
      "GM 2010-05-21 00:00:00\n",
      "GM 2010-05-22 00:00:00\n",
      "GM 2010-05-23 00:00:00\n",
      "GM 2010-05-24 00:00:00\n",
      "GM 2010-05-25 00:00:00\n",
      "GM 2010-05-26 00:00:00\n",
      "GM 2010-05-27 00:00:00\n",
      "GM 2010-05-28 00:00:00\n",
      "GM 2010-05-29 00:00:00\n",
      "GM 2010-05-30 00:00:00\n",
      "GM 2010-05-31 00:00:00\n",
      "GM 2010-06-01 00:00:00\n",
      "GM 2010-06-02 00:00:00\n",
      "GM 2010-06-03 00:00:00\n",
      "GM 2010-06-04 00:00:00\n",
      "GM 2010-06-05 00:00:00\n",
      "GM 2010-06-06 00:00:00\n",
      "GM 2010-06-07 00:00:00\n",
      "GM 2010-06-08 00:00:00\n",
      "GM 2010-06-09 00:00:00\n",
      "GM 2010-06-10 00:00:00\n",
      "GM 2010-06-11 00:00:00\n",
      "GM 2010-06-12 00:00:00\n",
      "GM 2010-06-13 00:00:00\n",
      "GM 2010-06-14 00:00:00\n",
      "GM 2010-06-15 00:00:00\n",
      "GM 2010-06-16 00:00:00\n",
      "GM 2010-06-17 00:00:00\n",
      "GM 2010-06-18 00:00:00\n",
      "GM 2010-06-19 00:00:00\n",
      "GM 2010-06-20 00:00:00\n",
      "GM 2010-06-21 00:00:00\n",
      "GM 2010-06-22 00:00:00\n",
      "GM 2010-06-23 00:00:00\n",
      "GM 2010-06-24 00:00:00\n",
      "GM 2010-06-25 00:00:00\n",
      "GM 2010-06-26 00:00:00\n",
      "GM 2010-06-27 00:00:00\n",
      "GM 2010-06-28 00:00:00\n",
      "GM 2010-06-29 00:00:00\n",
      "GM 2010-06-30 00:00:00\n",
      "GM 2010-07-01 00:00:00\n",
      "GM 2010-07-02 00:00:00\n",
      "GM 2010-07-03 00:00:00\n",
      "GM 2010-07-04 00:00:00\n",
      "GM 2010-07-05 00:00:00\n",
      "GM 2010-07-06 00:00:00\n",
      "GM 2010-07-07 00:00:00\n",
      "GM 2010-07-08 00:00:00\n",
      "GM 2010-07-09 00:00:00\n",
      "GM 2010-07-10 00:00:00\n",
      "GM 2010-07-11 00:00:00\n",
      "GM 2010-07-12 00:00:00\n",
      "GM 2010-07-13 00:00:00\n",
      "GM 2010-07-14 00:00:00\n",
      "GM 2010-07-15 00:00:00\n",
      "GM 2010-07-16 00:00:00\n",
      "GM 2010-07-17 00:00:00\n",
      "GM 2010-07-18 00:00:00\n",
      "GM 2010-07-19 00:00:00\n",
      "GM 2010-07-20 00:00:00\n",
      "GM 2010-07-21 00:00:00\n",
      "GM 2010-07-22 00:00:00\n",
      "GM 2010-07-23 00:00:00\n",
      "GM 2010-07-24 00:00:00\n",
      "GM 2010-07-25 00:00:00\n",
      "GM 2010-07-26 00:00:00\n",
      "GM 2010-07-27 00:00:00\n",
      "GM 2010-07-28 00:00:00\n",
      "GM 2010-07-29 00:00:00\n",
      "GM 2010-07-30 00:00:00\n",
      "GM 2010-07-31 00:00:00\n",
      "GM 2010-08-01 00:00:00\n",
      "GM 2010-08-02 00:00:00\n",
      "GM 2010-08-03 00:00:00\n",
      "GM 2010-08-04 00:00:00\n",
      "GM 2010-08-05 00:00:00\n",
      "GM 2010-08-06 00:00:00\n",
      "GM 2010-08-07 00:00:00\n",
      "GM 2010-08-08 00:00:00\n",
      "GM 2010-08-09 00:00:00\n",
      "GM 2010-08-10 00:00:00\n",
      "GM 2010-08-11 00:00:00\n",
      "GM 2010-08-12 00:00:00\n",
      "GM 2010-08-13 00:00:00\n",
      "GM 2010-08-14 00:00:00\n",
      "GM 2010-08-15 00:00:00\n",
      "GM 2010-08-16 00:00:00\n",
      "GM 2010-08-17 00:00:00\n",
      "GM 2010-08-18 00:00:00\n",
      "GM 2010-08-19 00:00:00\n",
      "GM 2010-08-20 00:00:00\n",
      "GM 2010-08-21 00:00:00\n",
      "GM 2010-08-22 00:00:00\n",
      "GM 2010-08-23 00:00:00\n",
      "GM 2010-08-24 00:00:00\n",
      "GM 2010-08-25 00:00:00\n",
      "GM 2010-08-26 00:00:00\n",
      "GM 2010-08-27 00:00:00\n",
      "GM 2010-08-28 00:00:00\n",
      "GM 2010-08-29 00:00:00\n",
      "GM 2010-08-30 00:00:00\n",
      "GM 2010-08-31 00:00:00\n",
      "GM 2010-09-01 00:00:00\n",
      "GM 2010-09-02 00:00:00\n",
      "GM 2010-09-03 00:00:00\n",
      "GM 2010-09-04 00:00:00\n",
      "GM 2010-09-05 00:00:00\n",
      "GM 2010-09-06 00:00:00\n",
      "GM 2010-09-07 00:00:00\n",
      "GM 2010-09-08 00:00:00\n",
      "GM 2010-09-09 00:00:00\n",
      "GM 2010-09-10 00:00:00\n",
      "GM 2010-09-11 00:00:00\n",
      "GM 2010-09-12 00:00:00\n",
      "GM 2010-09-13 00:00:00\n",
      "GM 2010-09-14 00:00:00\n",
      "GM 2010-09-15 00:00:00\n",
      "GM 2010-09-16 00:00:00\n",
      "GM 2010-09-17 00:00:00\n",
      "GM 2010-09-18 00:00:00\n",
      "GM 2010-09-19 00:00:00\n",
      "GM 2010-09-20 00:00:00\n",
      "GM 2010-09-21 00:00:00\n",
      "GM 2010-09-22 00:00:00\n",
      "GM 2010-09-23 00:00:00\n",
      "GM 2010-09-24 00:00:00\n",
      "GM 2010-09-25 00:00:00\n",
      "GM 2010-09-26 00:00:00\n",
      "GM 2010-09-27 00:00:00\n",
      "GM 2010-09-28 00:00:00\n",
      "GM 2010-09-29 00:00:00\n",
      "GM 2010-09-30 00:00:00\n",
      "GM 2010-10-01 00:00:00\n",
      "GM 2010-10-02 00:00:00\n",
      "GM 2010-10-03 00:00:00\n",
      "GM 2010-10-04 00:00:00\n",
      "GM 2010-10-05 00:00:00\n",
      "GM 2010-10-06 00:00:00\n",
      "GM 2010-10-07 00:00:00\n",
      "GM 2010-10-08 00:00:00\n",
      "GM 2010-10-09 00:00:00\n",
      "GM 2010-10-10 00:00:00\n",
      "GM 2010-10-11 00:00:00\n",
      "GM 2010-10-12 00:00:00\n",
      "GM 2010-10-13 00:00:00\n",
      "GM 2010-10-14 00:00:00\n",
      "GM 2010-10-15 00:00:00\n",
      "GM 2010-10-16 00:00:00\n",
      "GM 2010-10-17 00:00:00\n",
      "GM 2010-10-18 00:00:00\n",
      "GM 2010-10-19 00:00:00\n",
      "GM 2010-10-20 00:00:00\n",
      "GM 2010-10-21 00:00:00\n",
      "GM 2010-10-22 00:00:00\n",
      "GM 2010-10-23 00:00:00\n",
      "GM 2010-10-24 00:00:00\n",
      "GM 2010-10-25 00:00:00\n",
      "GM 2010-10-26 00:00:00\n",
      "GM 2010-10-27 00:00:00\n",
      "GM 2010-10-28 00:00:00\n",
      "GM 2010-10-29 00:00:00\n",
      "GM 2010-10-30 00:00:00\n",
      "GM 2010-10-31 00:00:00\n",
      "GM 2010-11-01 00:00:00\n",
      "GM 2010-11-02 00:00:00\n",
      "GM 2010-11-03 00:00:00\n",
      "GM 2010-11-04 00:00:00\n",
      "GM 2010-11-05 00:00:00\n",
      "GM 2010-11-06 00:00:00\n",
      "GM 2010-11-07 00:00:00\n",
      "GM 2010-11-08 00:00:00\n",
      "GM 2010-11-09 00:00:00\n",
      "GM 2010-11-10 00:00:00\n",
      "GM 2010-11-11 00:00:00\n",
      "GM 2010-11-12 00:00:00\n",
      "GM 2010-11-13 00:00:00\n",
      "GM 2010-11-14 00:00:00\n",
      "GM 2010-11-15 00:00:00\n",
      "GM 2010-11-16 00:00:00\n",
      "GM 2010-11-17 00:00:00\n",
      "GM 2010-11-18 00:00:00\n",
      "[23.049999237060547, 331.04998779296875, 26.155519485473633]\n"
     ]
    }
   ],
   "source": [
    "def get_current_stock_price(ticker, date):\n",
    "    given_date = date\n",
    "    while True:\n",
    "        try:\n",
    "            stock_price = spct.get_stock_adj_close(ticker, given_date)\n",
    "            break\n",
    "        except KeyError:\n",
    "            given_date = spct.add_days(given_date,1)\n",
    "            print(ticker, given_date)\n",
    "    return stock_price\n",
    "\n",
    "stock_prices2 = []\n",
    "\n",
    "\n",
    "    \n",
    "for i, row in new_all_data2.iterrows():\n",
    "    stock_price = get_current_stock_price(row['TICKER'], row['DATE'])\n",
    "    stock_prices2.append(stock_price)\n",
    "    \n",
    "print(stock_prices2)\n"
   ]
  },
  {
   "cell_type": "code",
   "execution_count": 59,
   "metadata": {},
   "outputs": [
    {
     "name": "stdout",
     "output_type": "stream",
     "text": [
      "AMD 2020-02-09 00:00:00\n",
      "AMD 2020-02-10 00:00:00\n",
      "CHTR 2020-02-01 00:00:00\n",
      "CHTR 2020-02-02 00:00:00\n",
      "CHTR 2020-02-03 00:00:00\n",
      "CHTR 2020-02-04 00:00:00\n",
      "GM 2010-07-08 00:00:00\n",
      "GM 2010-07-09 00:00:00\n",
      "GM 2010-07-10 00:00:00\n",
      "GM 2010-07-11 00:00:00\n",
      "GM 2010-07-12 00:00:00\n",
      "GM 2010-07-13 00:00:00\n",
      "GM 2010-07-14 00:00:00\n",
      "GM 2010-07-15 00:00:00\n",
      "GM 2010-07-16 00:00:00\n",
      "GM 2010-07-17 00:00:00\n",
      "GM 2010-07-18 00:00:00\n",
      "GM 2010-07-19 00:00:00\n",
      "GM 2010-07-20 00:00:00\n",
      "GM 2010-07-21 00:00:00\n",
      "GM 2010-07-22 00:00:00\n",
      "GM 2010-07-23 00:00:00\n",
      "GM 2010-07-24 00:00:00\n",
      "GM 2010-07-25 00:00:00\n",
      "GM 2010-07-26 00:00:00\n",
      "GM 2010-07-27 00:00:00\n",
      "GM 2010-07-28 00:00:00\n",
      "GM 2010-07-29 00:00:00\n",
      "GM 2010-07-30 00:00:00\n",
      "GM 2010-07-31 00:00:00\n",
      "GM 2010-08-01 00:00:00\n",
      "GM 2010-08-02 00:00:00\n",
      "GM 2010-08-03 00:00:00\n",
      "GM 2010-08-04 00:00:00\n",
      "GM 2010-08-05 00:00:00\n",
      "GM 2010-08-06 00:00:00\n",
      "GM 2010-08-07 00:00:00\n",
      "GM 2010-08-08 00:00:00\n",
      "GM 2010-08-09 00:00:00\n",
      "GM 2010-08-10 00:00:00\n",
      "GM 2010-08-11 00:00:00\n",
      "GM 2010-08-12 00:00:00\n",
      "GM 2010-08-13 00:00:00\n",
      "GM 2010-08-14 00:00:00\n",
      "GM 2010-08-15 00:00:00\n",
      "GM 2010-08-16 00:00:00\n",
      "GM 2010-08-17 00:00:00\n",
      "GM 2010-08-18 00:00:00\n",
      "GM 2010-08-19 00:00:00\n",
      "GM 2010-08-20 00:00:00\n",
      "GM 2010-08-21 00:00:00\n",
      "GM 2010-08-22 00:00:00\n",
      "GM 2010-08-23 00:00:00\n",
      "GM 2010-08-24 00:00:00\n",
      "GM 2010-08-25 00:00:00\n",
      "GM 2010-08-26 00:00:00\n",
      "GM 2010-08-27 00:00:00\n",
      "GM 2010-08-28 00:00:00\n",
      "GM 2010-08-29 00:00:00\n",
      "GM 2010-08-30 00:00:00\n",
      "GM 2010-08-31 00:00:00\n",
      "GM 2010-09-01 00:00:00\n",
      "GM 2010-09-02 00:00:00\n",
      "GM 2010-09-03 00:00:00\n",
      "GM 2010-09-04 00:00:00\n",
      "GM 2010-09-05 00:00:00\n",
      "GM 2010-09-06 00:00:00\n",
      "GM 2010-09-07 00:00:00\n",
      "GM 2010-09-08 00:00:00\n",
      "GM 2010-09-09 00:00:00\n",
      "GM 2010-09-10 00:00:00\n",
      "GM 2010-09-11 00:00:00\n",
      "GM 2010-09-12 00:00:00\n",
      "GM 2010-09-13 00:00:00\n",
      "GM 2010-09-14 00:00:00\n",
      "GM 2010-09-15 00:00:00\n",
      "GM 2010-09-16 00:00:00\n",
      "GM 2010-09-17 00:00:00\n",
      "GM 2010-09-18 00:00:00\n",
      "GM 2010-09-19 00:00:00\n",
      "GM 2010-09-20 00:00:00\n",
      "GM 2010-09-21 00:00:00\n",
      "GM 2010-09-22 00:00:00\n",
      "GM 2010-09-23 00:00:00\n",
      "GM 2010-09-24 00:00:00\n",
      "GM 2010-09-25 00:00:00\n",
      "GM 2010-09-26 00:00:00\n",
      "GM 2010-09-27 00:00:00\n",
      "GM 2010-09-28 00:00:00\n",
      "GM 2010-09-29 00:00:00\n",
      "GM 2010-09-30 00:00:00\n",
      "GM 2010-10-01 00:00:00\n",
      "GM 2010-10-02 00:00:00\n",
      "GM 2010-10-03 00:00:00\n",
      "GM 2010-10-04 00:00:00\n",
      "GM 2010-10-05 00:00:00\n",
      "GM 2010-10-06 00:00:00\n",
      "GM 2010-10-07 00:00:00\n",
      "GM 2010-10-08 00:00:00\n",
      "GM 2010-10-09 00:00:00\n",
      "GM 2010-10-10 00:00:00\n",
      "GM 2010-10-11 00:00:00\n",
      "GM 2010-10-12 00:00:00\n",
      "GM 2010-10-13 00:00:00\n",
      "GM 2010-10-14 00:00:00\n",
      "GM 2010-10-15 00:00:00\n",
      "GM 2010-10-16 00:00:00\n",
      "GM 2010-10-17 00:00:00\n",
      "GM 2010-10-18 00:00:00\n",
      "GM 2010-10-19 00:00:00\n",
      "GM 2010-10-20 00:00:00\n",
      "GM 2010-10-21 00:00:00\n",
      "GM 2010-10-22 00:00:00\n",
      "GM 2010-10-23 00:00:00\n",
      "GM 2010-10-24 00:00:00\n",
      "GM 2010-10-25 00:00:00\n",
      "GM 2010-10-26 00:00:00\n",
      "GM 2010-10-27 00:00:00\n",
      "GM 2010-10-28 00:00:00\n",
      "GM 2010-10-29 00:00:00\n",
      "GM 2010-10-30 00:00:00\n",
      "GM 2010-10-31 00:00:00\n",
      "GM 2010-11-01 00:00:00\n",
      "GM 2010-11-02 00:00:00\n",
      "GM 2010-11-03 00:00:00\n",
      "GM 2010-11-04 00:00:00\n",
      "GM 2010-11-05 00:00:00\n",
      "GM 2010-11-06 00:00:00\n",
      "GM 2010-11-07 00:00:00\n",
      "GM 2010-11-08 00:00:00\n",
      "GM 2010-11-09 00:00:00\n",
      "GM 2010-11-10 00:00:00\n",
      "GM 2010-11-11 00:00:00\n",
      "GM 2010-11-12 00:00:00\n",
      "GM 2010-11-13 00:00:00\n",
      "GM 2010-11-14 00:00:00\n",
      "GM 2010-11-15 00:00:00\n",
      "GM 2010-11-16 00:00:00\n",
      "GM 2010-11-17 00:00:00\n",
      "GM 2010-11-18 00:00:00\n"
     ]
    }
   ],
   "source": [
    "stock_prices_next_year2 = []\n",
    "stock_prices_three_months2 = []\n",
    "\n",
    "for i, row in new_all_data2.iterrows():\n",
    "    date_one_year = spct.add_years(row['DATE'], 1)\n",
    "    stock_price = get_current_stock_price(row['TICKER'], date_one_year)\n",
    "    stock_prices_next_year2.append(stock_price)\n",
    "    \n",
    "for i, row in new_all_data2.iterrows():\n",
    "    date_three_months = spct.add_months(row['DATE'], 3)\n",
    "    stock_price = get_current_stock_price(row['TICKER'], date_three_months)\n",
    "    stock_prices_three_months2.append(stock_price)"
   ]
  },
  {
   "cell_type": "code",
   "execution_count": 60,
   "metadata": {},
   "outputs": [
    {
     "name": "stdout",
     "output_type": "stream",
     "text": [
      "[52.259998321533203, 531.75, 24.717306137084961]\n",
      "[27.090000152587891, 371.19000244140625, 26.155519485473633]\n"
     ]
    }
   ],
   "source": [
    "print(stock_prices_next_year2)\n",
    "print(stock_prices_three_months2)"
   ]
  },
  {
   "cell_type": "code",
   "execution_count": 62,
   "metadata": {},
   "outputs": [
    {
     "name": "stdout",
     "output_type": "stream",
     "text": [
      "[126.72451215316249, 60.625289112695732, -5.4986992293822849]\n",
      "[17.527119519516933, 12.125061509907129, 0.0]\n"
     ]
    }
   ],
   "source": [
    "percent_changes_one_year = []\n",
    "percent_changes_three_months = []\n",
    "\n",
    "for old, new in zip(stock_prices2, stock_prices_next_year2):\n",
    "    change = spct.percent_change(old,new)\n",
    "    percent_changes_one_year.append(change)\n",
    "    \n",
    "for old, new in zip(stock_prices2, stock_prices_three_months2):\n",
    "    change = spct.percent_change(old,new)\n",
    "    percent_changes_three_months.append(change)\n",
    "    \n",
    "print(percent_changes_one_year)\n",
    "print(percent_changes_three_months)"
   ]
  },
  {
   "cell_type": "code",
   "execution_count": 65,
   "metadata": {},
   "outputs": [
    {
     "name": "stdout",
     "output_type": "stream",
     "text": [
      "[23.049999237060547, 331.04998779296875, 26.155519485473633]\n",
      "[Timestamp('2019-02-08 00:00:00'), Timestamp('2019-01-31 00:00:00'), Timestamp('2010-11-18 00:00:00')]\n"
     ]
    }
   ],
   "source": [
    "def get_current_stock_price_date(ticker, date):\n",
    "    given_date = date\n",
    "    while True:\n",
    "        try:\n",
    "            stock_price = spct.get_stock_adj_close(ticker, given_date)\n",
    "            break\n",
    "        except KeyError:\n",
    "            given_date = spct.add_days(given_date,1)\n",
    "#             print(ticker, given_date)\n",
    "    return given_date, stock_price\n",
    "\n",
    "stock_prices3 = []\n",
    "given_dates3 = []\n",
    "\n",
    "\n",
    "    \n",
    "for i, row in new_all_data2.iterrows():\n",
    "    given_date, stock_price = get_current_stock_price_date(row['TICKER'], row['DATE'])\n",
    "    stock_prices3.append(stock_price)\n",
    "    given_dates3.append(given_date)\n",
    "    \n",
    "print(stock_prices3)\n",
    "print(given_dates3)"
   ]
  },
  {
   "cell_type": "code",
   "execution_count": 76,
   "metadata": {},
   "outputs": [],
   "source": [
    "new_all_data3 = new_all_data2.reset_index(drop=True)"
   ]
  },
  {
   "cell_type": "code",
   "execution_count": 77,
   "metadata": {},
   "outputs": [
    {
     "data": {
      "text/html": [
       "<div>\n",
       "<style scoped>\n",
       "    .dataframe tbody tr th:only-of-type {\n",
       "        vertical-align: middle;\n",
       "    }\n",
       "\n",
       "    .dataframe tbody tr th {\n",
       "        vertical-align: top;\n",
       "    }\n",
       "\n",
       "    .dataframe thead th {\n",
       "        text-align: right;\n",
       "    }\n",
       "</style>\n",
       "<table border=\"1\" class=\"dataframe\">\n",
       "  <thead>\n",
       "    <tr style=\"text-align: right;\">\n",
       "      <th></th>\n",
       "      <th>CIK</th>\n",
       "      <th>TICKER</th>\n",
       "      <th>DATE</th>\n",
       "      <th>TEXT</th>\n",
       "    </tr>\n",
       "  </thead>\n",
       "  <tbody>\n",
       "    <tr>\n",
       "      <td>0</td>\n",
       "      <td>0000002488</td>\n",
       "      <td>AMD</td>\n",
       "      <td>2019-02-08</td>\n",
       "      <td>Our 2018 financial results demonstrate the su...</td>\n",
       "    </tr>\n",
       "    <tr>\n",
       "      <td>1</td>\n",
       "      <td>0001091667</td>\n",
       "      <td>CHTR</td>\n",
       "      <td>2019-01-31</td>\n",
       "      <td>We are the second largest cable operator in t...</td>\n",
       "    </tr>\n",
       "    <tr>\n",
       "      <td>2</td>\n",
       "      <td>0001467858</td>\n",
       "      <td>GM</td>\n",
       "      <td>2010-04-07</td>\n",
       "      <td>Over time as Old GM’s market share declined i...</td>\n",
       "    </tr>\n",
       "  </tbody>\n",
       "</table>\n",
       "</div>"
      ],
      "text/plain": [
       "            CIK TICKER       DATE  \\\n",
       "0   0000002488     AMD 2019-02-08   \n",
       "1   0001091667    CHTR 2019-01-31   \n",
       "2   0001467858      GM 2010-04-07   \n",
       "\n",
       "                                                TEXT  \n",
       "0   Our 2018 financial results demonstrate the su...  \n",
       "1   We are the second largest cable operator in t...  \n",
       "2   Over time as Old GM’s market share declined i...  "
      ]
     },
     "execution_count": 77,
     "metadata": {},
     "output_type": "execute_result"
    }
   ],
   "source": [
    "new_all_data3"
   ]
  },
  {
   "cell_type": "code",
   "execution_count": 78,
   "metadata": {},
   "outputs": [
    {
     "name": "stdout",
     "output_type": "stream",
     "text": [
      "[52.259998321533203, 517.46002197265625, 16.585308074951172]\n",
      "[Timestamp('2020-02-10 00:00:00'), Timestamp('2020-01-31 00:00:00'), Timestamp('2011-11-18 00:00:00')]\n",
      "[27.090000152587891, 371.19000244140625, 27.930322647094727]\n",
      "[Timestamp('2019-05-08 00:00:00'), Timestamp('2019-04-30 00:00:00'), Timestamp('2011-02-18 00:00:00')]\n"
     ]
    }
   ],
   "source": [
    "stock_prices_next_year3 = []\n",
    "stock_prices_three_months3 = []\n",
    "given_dates_next_year = []\n",
    "given_dates_three_months = []\n",
    "\n",
    "for i, row in new_all_data3.iterrows():\n",
    "    date_one_year = spct.add_years(given_dates3[i], 1)\n",
    "    given_date, stock_price = get_current_stock_price_date(row['TICKER'], date_one_year)\n",
    "    stock_prices_next_year3.append(stock_price)\n",
    "    given_dates_next_year.append(given_date)\n",
    "    \n",
    "for i, row in new_all_data3.iterrows():\n",
    "    date_three_months = spct.add_months(given_dates3[i], 3)\n",
    "    given_date, stock_price = get_current_stock_price_date(row['TICKER'], date_three_months)\n",
    "    stock_prices_three_months3.append(stock_price)\n",
    "    given_dates_three_months.append(given_date)\n",
    "\n",
    "print(stock_prices_next_year3)\n",
    "print(given_dates_next_year)\n",
    "print(stock_prices_three_months3)\n",
    "print(given_dates_three_months)"
   ]
  },
  {
   "cell_type": "code",
   "execution_count": 79,
   "metadata": {},
   "outputs": [
    {
     "name": "stdout",
     "output_type": "stream",
     "text": [
      "[126.72451215316249, 56.308727096605168, -36.589643787566928]\n",
      "[17.527119519516933, 12.125061509907129, 6.7855779450558877]\n"
     ]
    }
   ],
   "source": [
    "percent_changes_one_year2 = []\n",
    "percent_changes_three_months2 = []\n",
    "\n",
    "for old, new in zip(stock_prices3, stock_prices_next_year3):\n",
    "    change = spct.percent_change(old,new)\n",
    "    percent_changes_one_year2.append(change)\n",
    "    \n",
    "for old, new in zip(stock_prices3, stock_prices_three_months3):\n",
    "    change = spct.percent_change(old,new)\n",
    "    percent_changes_three_months2.append(change)\n",
    "    \n",
    "print(percent_changes_one_year2)\n",
    "print(percent_changes_three_months2)"
   ]
  },
  {
   "cell_type": "code",
   "execution_count": 41,
   "metadata": {},
   "outputs": [],
   "source": [
    "# stock_prices = []\n",
    "# stock_prices_next_year = []\n",
    "\n",
    "    \n",
    "# for i, row in new_all_data.iterrows():\n",
    "#     time = row['DATE']\n",
    "#     try:\n",
    "#         stock_price = spct.get_stock_adj_close(row['TICKER'], time)\n",
    "#         print(stock_price)\n",
    "#         stock_prices.append(stock_price)\n",
    "#     except KeyError:\n",
    "#         stock_prices.append('unavailable')\n",
    "# #     print(row['DATE'])\n",
    "    \n",
    "# print(stock_prices)\n"
   ]
  },
  {
   "cell_type": "code",
   "execution_count": 42,
   "metadata": {},
   "outputs": [],
   "source": [
    "# new_all_data"
   ]
  },
  {
   "cell_type": "code",
   "execution_count": 43,
   "metadata": {},
   "outputs": [],
   "source": [
    "# d = {'TICKER': ['AMD','AMD','CHTR','GM', 'GM'], 'DATE': [datetime(2020,2,4), datetime(2019,2,8),datetime(2019,1,31), datetime(2010,4,7), datetime(2011,12,5)]}\n",
    "# dummy_dataframe = pd.DataFrame(data=d)\n",
    "\n",
    "# dummy_dataframe"
   ]
  },
  {
   "cell_type": "code",
   "execution_count": 44,
   "metadata": {},
   "outputs": [],
   "source": [
    "# from datetime import datetime, date, timedelta\n",
    "# import pandas as pd\n",
    "# import numpy as np\n",
    "# import matplotlib.pyplot as plt\n",
    "# import pandas_datareader as pdr\n",
    "# from dateutil.relativedelta import relativedelta\n",
    "\n",
    "# def add_days(d, num_days):\n",
    "#     return d + timedelta(days=num_days)\n",
    "# def get_stock_adj_close(ticker, chosen_date):\n",
    "#     stock_df = pdr.get_data_yahoo(ticker, start = chosen_date, end = chosen_date)\n",
    "#     return stock_df.iloc[0]['Adj Close']\n",
    "\n",
    "# d = {'TICKER': ['AMD','AMD','CHTR','GM', 'GM'], 'DATE': [datetime(2020,2,4), datetime(2019,2,8),datetime(2019,1,31), datetime(2010,4,7), datetime(2011,12,5)]}\n",
    "# dummy_dataframe = pd.DataFrame(data=d)\n",
    "\n",
    "# stock_prices = []\n",
    "\n",
    "# for i, row in dummy_dataframe.iterrows():\n",
    "#     given_date = row['DATE']\n",
    "#     while True:\n",
    "#         try:\n",
    "#             stock_price = get_stock_adj_close(row['TICKER'], given_date)\n",
    "#             break\n",
    "#         except KeyError:\n",
    "#             given_date = add_days(given_date,1)  \n",
    "# #             print(given_date)\n",
    "# #     print(stock_price)\n",
    "#     stock_prices.append(stock_price)\n",
    "    \n",
    "# # print(stock_prices)\n",
    "\n"
   ]
  },
  {
   "cell_type": "code",
   "execution_count": 45,
   "metadata": {},
   "outputs": [],
   "source": [
    "# print(stock_prices)"
   ]
  },
  {
   "cell_type": "code",
   "execution_count": 46,
   "metadata": {},
   "outputs": [],
   "source": [
    "# from datetime import datetime, date, timedelta\n",
    "# import pandas as pd\n",
    "# import numpy as np\n",
    "# import matplotlib.pyplot as plt\n",
    "# import pandas_datareader as pdr\n",
    "# from dateutil.relativedelta import relativedelta\n",
    "\n",
    "# def add_days(d, num_days):\n",
    "#     return d + timedelta(days=num_days)\n",
    "# def get_stock_adj_close(ticker, chosen_date):\n",
    "#     stock_df = pdr.get_data_yahoo(ticker, start = chosen_date, end = chosen_date)\n",
    "#     return stock_df.iloc[0]['Adj Close']\n",
    "\n",
    "# d = {'TICKER': ['AMD','AMD','CHTR','GM', 'GM'], 'DATE': [datetime(2020,2,4), datetime(2019,2,8),datetime(2019,1,31), datetime(2010,4,7), datetime(2011,12,5)]}\n",
    "# dummy_dataframe = pd.DataFrame(data=d)\n",
    "\n",
    "# stock_prices2 = []\n",
    "\n",
    "# for i, row in dummy_dataframe.iterrows():\n",
    "#     given_date = row['DATE']\n",
    "#     while True:\n",
    "#         try:\n",
    "#             stock_price = get_stock_adj_close(row['TICKER'], given_date)\n",
    "#         except KeyError:\n",
    "#             given_date = add_days(given_date,1)  \n",
    "#             print(given_date)\n",
    "#             continue\n",
    "#         break\n",
    "#     print(stock_price)\n",
    "#     stock_prices2.append(stock_price)\n",
    "    \n",
    "# # print(stock_prices)"
   ]
  },
  {
   "cell_type": "code",
   "execution_count": 47,
   "metadata": {},
   "outputs": [],
   "source": [
    "# print(stock_prices2)"
   ]
  },
  {
   "cell_type": "code",
   "execution_count": 48,
   "metadata": {},
   "outputs": [],
   "source": [
    "# def add_days(d, num_days):\n",
    "#     return d + timedelta(days=num_days)\n",
    "# def get_stock_adj_close(ticker, chosen_date):\n",
    "#     stock_df = pdr.get_data_yahoo(ticker, start = chosen_date, end = chosen_date)\n",
    "#     return stock_df.iloc[0]['Adj Close']"
   ]
  },
  {
   "cell_type": "code",
   "execution_count": 49,
   "metadata": {},
   "outputs": [],
   "source": [
    "# add_days(datetime(2010,4,7),1)"
   ]
  },
  {
   "cell_type": "code",
   "execution_count": 50,
   "metadata": {},
   "outputs": [],
   "source": [
    "# stock_prices = []\n",
    "\n",
    "\n",
    "    \n",
    "# for i, row in dummy_dataframe.iterrows():\n",
    "#     given_date = row['DATE']\n",
    "#     try:\n",
    "#         stock_price = get_stock_adj_close(row['TICKER'], given_date)\n",
    "#         print(stock_price)\n",
    "#         stock_prices.append(stock_price)\n",
    "#     except KeyError:\n",
    "#         time = add_days(time,1)\n",
    "#         stock_price = get_stock_adj_close(row['TICKER'], given_date)\n",
    "#         stock_prices.append(stock_price)\n",
    "    \n",
    "# print(stock_prices)"
   ]
  },
  {
   "cell_type": "code",
   "execution_count": 51,
   "metadata": {},
   "outputs": [],
   "source": [
    "# for i, row in dummy_dataframe.iterrows():\n",
    "#     given_date = row['DATE']\n",
    "#     while True:\n",
    "#         try:\n",
    "#             stock_price = get_stock_adj_close(row['TICKER'], given_date)\n",
    "#             break\n",
    "#         except KeyError:\n",
    "#             given_date = add_days(given_date,1)\n",
    "#     print(stock_price)\n",
    "#     stock_prices.append(stock_price)"
   ]
  },
  {
   "cell_type": "code",
   "execution_count": 52,
   "metadata": {},
   "outputs": [],
   "source": [
    "# for i, row in dummy_dataframe.iterrows():\n",
    "#     given_date = row['DATE']\n",
    "#     while True:\n",
    "#         try:\n",
    "#             stock_price = get_stock_adj_close(row['TICKER'], given_date)\n",
    "#         except KeyError:\n",
    "#             given_date = add_days(given_date, 1)\n",
    "#             continue\n",
    "#         break\n",
    "#     print(stock_price)\n",
    "#     stock_prices.append(stock_price)"
   ]
  },
  {
   "cell_type": "code",
   "execution_count": null,
   "metadata": {},
   "outputs": [],
   "source": []
  }
 ],
 "metadata": {
  "kernelspec": {
   "display_name": "thesis",
   "language": "python",
   "name": "thesis"
  },
  "language_info": {
   "codemirror_mode": {
    "name": "ipython",
    "version": 3
   },
   "file_extension": ".py",
   "mimetype": "text/x-python",
   "name": "python",
   "nbconvert_exporter": "python",
   "pygments_lexer": "ipython3",
   "version": "3.6.3"
  }
 },
 "nbformat": 4,
 "nbformat_minor": 2
}
